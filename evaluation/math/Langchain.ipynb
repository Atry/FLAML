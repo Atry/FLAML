{
 "cells": [
  {
   "cell_type": "code",
   "execution_count": null,
   "metadata": {},
   "outputs": [],
   "source": [
    "! pip install langchain"
   ]
  },
  {
   "cell_type": "code",
   "execution_count": 10,
   "metadata": {},
   "outputs": [],
   "source": [
    "from langchain.chat_models import ChatOpenAI\n",
    "api_key = \"Your key here\"\n",
    "llm = ChatOpenAI(model_name='gpt-4', openai_api_key=api_key)\n",
    "math_problem1 = \"Find all $x$ that satisfy the inequality $(2x+10)(x+3)<(3x+9)(x+8)$. Express your answer in interval notation.\"\n",
    "math_problem2 = \"There are 190 people on the beach.  110 are wearing sunglasses, 70 are wearing bathing suits, and 95 are wearing a hat.  Everyone is wearing at least one of these items. 30 are wearing both bathing suits and sunglasses. 25 are wearing both bathing suits and a hat. 40 are wearing both sunglasses and a hat.  How many people are wearing all three items?\" # fill the problem here"
   ]
  },
  {
   "cell_type": "markdown",
   "metadata": {},
   "source": [
    "## Two problems are tested\n",
    "\n",
    "Problem 1: Find all $x$ that satisfy the inequality $(2x+10)(x+3)<(3x+9)(x+8)$. Express your answer in interval notation.   \n",
    "Answer: \\boxed{\\((-∞, -14) \\cup (-3, ∞)\\) }\n",
    "\n",
    "Problem 2: There are 190 people on the beach.  110 are wearing sunglasses, 70 are wearing bathing suits, and 95 are wearing a hat.  Everyone is wearing at least one of these items. 30 are wearing both bathing suits and sunglasses. 25 are wearing both bathing suits and a hat. 40 are wearing both sunglasses and a hat.  How many people are wearing all three items?    \n",
    "Answer: 10"
   ]
  },
  {
   "cell_type": "markdown",
   "metadata": {},
   "source": [
    "## [Symbolic Math Chain](https://python.langchain.com/docs/modules/chains/additional/llm_symbolic_math)\n",
    "\n",
    "Tested on 2 problems, one is correct and the other has error."
   ]
  },
  {
   "cell_type": "code",
   "execution_count": 7,
   "metadata": {},
   "outputs": [
    {
     "data": {
      "text/plain": [
       "'Answer: ((-oo < x) & (x < -14)) | ((-3 < x) & (x < oo))'"
      ]
     },
     "execution_count": 7,
     "metadata": {},
     "output_type": "execute_result"
    }
   ],
   "source": [
    "# symbolic math\n",
    "from langchain.chains.llm_symbolic_math.base import LLMSymbolicMathChain\n",
    "llm_symbolic_math = LLMSymbolicMathChain.from_llm(llm)\n",
    "\n",
    "llm_symbolic_math.run(math_problem1)"
   ]
  },
  {
   "cell_type": "code",
   "execution_count": null,
   "metadata": {},
   "outputs": [],
   "source": [
    "llm_symbolic_math.run(math_problem2)"
   ]
  },
  {
   "cell_type": "markdown",
   "metadata": {},
   "source": [
    "**Previous Result:**   \n",
    "ValueError: Error from parse_expr with transformed code: \"Symbol ('Eq1' )=Eq (Symbol ('x' )+Symbol ('y' )+Symbol ('z' ),Integer (110 ))# sunglassesEq2 = Eq(x + w + z, 70)   # bathing suitsEq3 = Eq(w + y + z, 95)   # hatEq4 = Eq(x + z, 30)       # bathing suits and sunglassesEq5 = Eq(w + z, 25)       # bathing suits and hatEq6 = Eq(y + z, 40)       # sunglasses and hatsolve((Eq1, Eq2, Eq3, Eq4, Eq5, Eq6), (x, y, z, w))\"\n",
    "\n",
    "The above exception was the direct cause of the following exception:\n",
    "\n",
    "Traceback (most recent call last):\n",
    "  File \"/home/ykw5399/.conda/envs/camel/lib/python3.10/site-packages/sympy/core/sympify.py\", line 495, in sympify\n",
    "    expr = parse_expr(a, local_dict=locals, transformations=transformations, evaluate=evaluate)\n",
    "  File \"/home/ykw5399/.conda/envs/camel/lib/python3.10/site-packages/sympy/parsing/sympy_parser.py\", line 1087, in parse_expr\n",
    "    raise e from ValueError(f\"Error from parse_expr with transformed code: {code!r}\")\n",
    "  File \"/home/ykw5399/.conda/envs/camel/lib/python3.10/site-packages/sympy/parsing/sympy_parser.py\", line 1078, in parse_expr\n",
    "    rv = eval_expr(code, local_dict, global_dict)\n",
    "  File \"/home/ykw5399/.conda/envs/camel/lib/python3.10/site-packages/sympy/parsing/sympy_parser.py\", line 906, in eval_expr\n",
    "    expr = eval(\n",
    "  File \"<string>\", line 1\n",
    "    Symbol ('Eq1' )=Eq (Symbol ('x' )+Symbol ('y' )+Symbol ('z' ),Integer (110 ))# sunglassesEq2 = Eq(x + w + z, 70)   # bathing suitsEq3 = Eq(w + y + z, 95)   # hatEq4 = Eq(x + z, 30)       # bathing suits and sunglassesEq5 = Eq(w + z, 25)       # bathing suits and hatEq6 = Eq(y + z, 40)       # sunglasses and hatsolve((Eq1, Eq2, Eq3, Eq4, Eq5, Eq6), (x, y, z, w))\n",
    "                   ^\n",
    "SyntaxError: invalid syntax\n",
    "\n",
    "During handling of the above exception, another exception occurred:\n",
    "\n",
    "Traceback (most recent call last):\n",
    "  File \"/home/ykw5399/.conda/envs/camel/lib/python3.10/site-packages/langchain/chains/llm_symbolic_math/base.py\", line 64, in _evaluate_expression\n",
    "    output = str(sympy.sympify(expression, evaluate=True))\n",
    "  File \"/home/ykw5399/.conda/envs/camel/lib/python3.10/site-packages/sympy/core/sympify.py\", line 497, in sympify\n",
    "    raise SympifyError('could not parse %r' % a, exc)\n",
    "sympy.core.sympify.SympifyError: Sympify of expression 'could not parse 'Eq1 = Eq(x + y + z, 110)  # sunglassesEq2 = Eq(x + w + z, 70)   # bathing suitsEq3 = Eq(w + y + z, 95)   # hatEq4 = Eq(x + z, 30)       # bathing suits and sunglassesEq5 = Eq(w + z, 25)       # bathing suits and hatEq6 = Eq(y + z, 40)       # sunglasses and hatsolve((Eq1, Eq2, Eq3, Eq4, Eq5, Eq6), (x, y, z, w))'' failed, because of exception being raised:\n",
    "SyntaxError: invalid syntax (<string>, line 1)\n",
    "\n",
    "During handling of the above exception, another exception occurred:\n",
    "\n",
    "... More errors not shown"
   ]
  },
  {
   "cell_type": "markdown",
   "metadata": {},
   "source": [
    "## [PAL Chain](https://python.langchain.com/docs/modules/chains/additional/pal)\n",
    "\n",
    "Tested on 2 problems, got one error and one wrong answer."
   ]
  },
  {
   "cell_type": "code",
   "execution_count": null,
   "metadata": {},
   "outputs": [],
   "source": [
    "from langchain.chains import PALChain\n",
    "pal_chain = PALChain.from_math_prompt(llm, verbose=True)\n",
    "pal_chain.run(math_problem1)"
   ]
  },
  {
   "cell_type": "markdown",
   "metadata": {},
   "source": [
    "**Previous Result:**   \n",
    " Entering new PALChain chain...\n",
    "def solution():\n",
    "    \"\"\"Find all $x$ that satisfy the inequality $(2x+10)(x+3)<(3x+9)(x+8)$. Express your answer in interval notation.\"\"\"\n",
    "    from sympy import *\n",
    "    from sympy.abc import x\n",
    "Traceback (most recent call last):\n",
    "  File \"/home/ykw5399/msft/FLAML/evaluation/math/test_math_chains.py\", line 17, in <module>\n",
    "    print(pal_chain.run(math_problem))\n",
    "  File \"/home/ykw5399/.conda/envs/camel/lib/python3.10/site-packages/langchain/chains/base.py\", line 440, in run\n",
    "    return self(args[0], callbacks=callbacks, tags=tags, metadata=metadata)[\n",
    "  File \"/home/ykw5399/.conda/envs/camel/lib/python3.10/site-packages/langchain/chains/base.py\", line 243, in __call__\n",
    "    raise e\n",
    "  File \"/home/ykw5399/.conda/envs/camel/lib/python3.10/site-packages/langchain/chains/base.py\", line 237, in __call__\n",
    "    self._call(inputs, run_manager=run_manager)\n",
    "  File \"/home/ykw5399/.conda/envs/camel/lib/python3.10/site-packages/langchain/chains/pal/base.py\", line 166, in _call\n",
    "    PALChain.validate_code(code, self.code_validations)\n",
    "  File \"/home/ykw5399/.conda/envs/camel/lib/python3.10/site-packages/langchain/chains/pal/base.py\", line 261, in validate_code\n",
    "    raise ValueError(f\"Generated code has disallowed imports: {code}\")\n",
    "ValueError: Generated code has disallowed imports: def solution():\n",
    "    \"\"\"Find all $x$ that satisfy the inequality $(2x+10)(x+3)<(3x+9)(x+8)$. Express your answer in interval notation.\"\"\"\n",
    "    from sympy import *\n",
    "    from sympy.abc import x"
   ]
  },
  {
   "cell_type": "code",
   "execution_count": null,
   "metadata": {},
   "outputs": [],
   "source": [
    "pal_chain.run(math_problem2)"
   ]
  },
  {
   "cell_type": "markdown",
   "metadata": {},
   "source": [
    "**Previous Result:**   \n",
    "Entering new PALChain chain...\n",
    "def solution():\n",
    "    \"\"\"There are 190 people on the beach.  110 are wearing sunglasses, 70 are wearing bathing suits, and 95 are wearing a hat.  Everyone is wearing at least one of these items. 30 are wearing both bathing suits and sunglasses. 25 are wearing both bathing suits and a hat. 40 are wearing both sunglasses and a hat.  How many people are wearing all three items?\"\"\"\n",
    "    total_people = 190\n",
    "    sunglasses = 110\n",
    "    bathing_suits = 70\n",
    "    hats = 95\n",
    "    both_bathing_suits_sunglasses = 30\n",
    "    both_bathing_suits_hats = 25\n",
    "    both_sunglasses_hats = 40\n",
    "    all_three = (sunglasses + bathing_suits + hats) - (both_bathing_suits_sunglasses + both_bathing_suits_hats + both_sunglasses_hats)\n",
    "    result = all_three\n",
    "    return result\n",
    "Python REPL can execute arbitrary code. Use with caution.\n",
    "\n",
    "Finished chain.\n",
    "180\n",
    "\n",
    "The correct answer is 10."
   ]
  },
  {
   "cell_type": "markdown",
   "metadata": {},
   "source": [
    "##  [math chain](https://python.langchain.com/docs/modules/chains/additional/llm_math)\n",
    "\n",
    "Tested on one problem, got error."
   ]
  },
  {
   "cell_type": "code",
   "execution_count": null,
   "metadata": {},
   "outputs": [],
   "source": [
    "from langchain import LLMMathChain\n",
    "\n",
    "llm_math = LLMMathChain.from_llm(llm, verbose=True)\n",
    "llm_math.run(math_problem1)"
   ]
  },
  {
   "cell_type": "markdown",
   "metadata": {},
   "source": [
    "**Previous Result:**    \n",
    "Entering new LLMMathChain chain...\n",
    "Find all $x$ that satisfy the inequality $(2x+10)(x+3)<(3x+9)(x+8)$. Express your answer in interval notation.```text\n",
    "'2*x+10 < 3*x+9'\n",
    "'x+3 < x+8'\n",
    "\n",
    "...numexpr.evaluate(\"2*x+10 < 3*x+9\")...\n",
    "Traceback (most recent call last):\n",
    "  File \"/home/ykw5399/.conda/envs/camel/lib/python3.10/site-packages/langchain/chains/llm_math/base.py\", line 80, in _evaluate_expression\n",
    "    numexpr.evaluate(\n",
    "  File \"/home/ykw5399/.conda/envs/camel/lib/python3.10/site-packages/numexpr/necompiler.py\", line 817, in evaluate\n",
    "    _names_cache[expr_key] = getExprNames(ex, context)\n",
    "  File \"/home/ykw5399/.conda/envs/camel/lib/python3.10/site-packages/numexpr/necompiler.py\", line 704, in getExprNames\n",
    "    ex = stringToExpression(text, {}, context)\n",
    "  File \"/home/ykw5399/.conda/envs/camel/lib/python3.10/site-packages/numexpr/necompiler.py\", line 274, in stringToExpression\n",
    "    c = compile(s, '<expr>', 'eval', flags)\n",
    "  File \"<expr>\", line 2\n",
    "    'x+3 < x+8'\n",
    "    ^^^^^^^^^^^\n",
    "SyntaxError: invalid syntax\n",
    "\n",
    "During handling of the above exception, another exception occurred:\n",
    "\n",
    "Traceback (most recent call last):\n",
    "  File \"/home/ykw5399/msft/FLAML/evaluation/math/test_math_chains.py\", line 26, in <module>\n",
    "    print(llm_math.run(math_problem))\n",
    "  File \"/home/ykw5399/.conda/envs/camel/lib/python3.10/site-packages/langchain/chains/base.py\", line 440, in run\n",
    "    return self(args[0], callbacks=callbacks, tags=tags, metadata=metadata)[\n",
    "  File \"/home/ykw5399/.conda/envs/camel/lib/python3.10/site-packages/langchain/chains/base.py\", line 243, in __call__\n",
    "    raise e\n",
    "  File \"/home/ykw5399/.conda/envs/camel/lib/python3.10/site-packages/langchain/chains/base.py\", line 237, in __call__\n",
    "    self._call(inputs, run_manager=run_manager)\n",
    "  File \"/home/ykw5399/.conda/envs/camel/lib/python3.10/site-packages/langchain/chains/llm_math/base.py\", line 149, in _call\n",
    "    return self._process_llm_result(llm_output, _run_manager)\n",
    "  File \"/home/ykw5399/.conda/envs/camel/lib/python3.10/site-packages/langchain/chains/llm_math/base.py\", line 103, in _process_llm_result\n",
    "    output = self._evaluate_expression(expression)\n",
    "  File \"/home/ykw5399/.conda/envs/camel/lib/python3.10/site-packages/langchain/chains/llm_math/base.py\", line 87, in _evaluate_expression\n",
    "    raise ValueError(\n",
    "ValueError: LLMMathChain._evaluate(\"\n",
    "'2*x+10 < 3*x+9'\n",
    "'x+3 < x+8'\n",
    "\") raised error: invalid syntax (<expr>, line 2). Please try again with a valid numerical expression"
   ]
  },
  {
   "cell_type": "markdown",
   "metadata": {},
   "source": [
    "## Test ReAct + PythonREPL\n",
    "Langchain agent for ReAct example: https://python.langchain.com/docs/modules/agents/agent_types/react    \n",
    "ReAct: https://react-lm.github.io/\n",
    "\n",
    "From last run, both questions are correct from ReAct."
   ]
  },
  {
   "cell_type": "code",
   "execution_count": null,
   "metadata": {},
   "outputs": [],
   "source": [
    "from langchain.agents import initialize_agent\n",
    "from langchain.agents import AgentType\n",
    "from langchain.tools.python.tool import PythonREPLTool\n",
    "\n",
    "tools = [PythonREPLTool()]\n",
    "agent = initialize_agent(tools, llm, agent=AgentType.ZERO_SHOT_REACT_DESCRIPTION, verbose=True)\n",
    "print(agent.run(math_problem1))"
   ]
  },
  {
   "cell_type": "markdown",
   "metadata": {},
   "source": [
    "**Previous Result:**   \n",
    "\n",
    "\n",
    "Entering new AgentExecutor chain...\n",
    "\n",
    "To solve this, we need to use the principle of inclusion and exclusion. This principle states that in order to count the total of a union of different sets, we need to add the individual counts, then subtract the counts of the intersections of every two sets, and finally add the count of the intersection of all three sets. \n",
    "\n",
    "In this case, we can start by summing up the people wearing either sunglasses, bathing suits, or a hat. We then subtract the people wearing two of these items. However, since people wearing all three items were subtracted twice in the previous operation, we need to add them back in the final operation. \n",
    "\n",
    "So the formula would look like this: \n",
    "\n",
    "Total = Sunglasses + Bathing suits + Hat - (Sunglasses and Bathing suits) - (Sunglasses and Hat) - (Bathing suits and Hat) + All three items\n",
    "\n",
    "We can rearrange this to solve for the people wearing all three items:\n",
    "\n",
    "All three items = Total - Sunglasses - Bathing suits - Hat + (Sunglasses and Bathing suits) + (Sunglasses and Hat) + (Bathing suits and Hat)\n",
    "\n",
    "We know all these values except for the number of people wearing all three items, so we can solve for it.\n",
    "Action: Python_REPL\n",
    "Action Input: total = 190\n",
    "sunglasses = 110\n",
    "bathing_suits = 70\n",
    "hat = 95\n",
    "sunglasses_bathing_suits = 30\n",
    "sunglasses_hat = 40\n",
    "bathing_suits_hat = 25\n",
    "\n",
    "all_three = total - sunglasses - bathing_suits - hat + sunglasses_bathing_suits + sunglasses_hat + bathing_suits_hat\n",
    "\n",
    "print(all_three)Python REPL can execute arbitrary code. Use with caution.\n",
    "\n",
    "Observation: 10\n",
    "\n",
    "Thought:I now know the final answer\n",
    "Final Answer: 10\n",
    "\n",
    "Finished chain."
   ]
  },
  {
   "cell_type": "code",
   "execution_count": null,
   "metadata": {},
   "outputs": [],
   "source": [
    "agent.run(math_problem2)"
   ]
  },
  {
   "cell_type": "markdown",
   "metadata": {},
   "source": [
    "**Previous Result:**   \n",
    "\n",
    "The inequality can be solved by first expanding the expressions on both sides, then moving all terms to one side to create a polynomial inequality. Then, the roots of the polynomial equation can be found. The sign of the polynomial in the intervals determined by these roots will tell us where the inequality is satisfied.\n",
    "Action: Python_REPL\n",
    "Action Input: \n",
    "```python\n",
    "from sympy import *\n",
    "\n",
    "# Define the variable\n",
    "x = symbols('x')\n",
    "\n",
    "# Define the inequality\n",
    "inequality = (2*x+10)*(x+3) - (3*x+9)*(x+8)\n",
    "\n",
    "# Expand the inequality\n",
    "expanded_inequality = expand(inequality)\n",
    "\n",
    "# Find the roots of the polynomial equation\n",
    "roots = solve(expanded_inequality, x)\n",
    "\n",
    "# Sort the roots\n",
    "roots.sort()\n",
    "\n",
    "print(expanded_inequality)\n",
    "print(roots)\n",
    "```Python REPL can execute arbitrary code. Use with caution.\n",
    "\n",
    "Observation: -x**2 - 17*x - 42\n",
    "[-14, -3]\n",
    "\n",
    "Thought:The expanded inequality is $-x^2 - 17x - 42 < 0$ and the roots of the corresponding equation are $-14$ and $-3$. Next, I should test the sign of the polynomial in each interval determined by the roots. The intervals are $(-\\infty, -14)$, $(-14, -3)$, and $(-3, +\\infty)$. I can pick a test point in each interval and substitute it into the polynomial to check the sign.\n",
    "Action: Python_REPL\n",
    "Action Input: \n",
    "```python\n",
    "# Define the test points\n",
    "test_points = [-15, -10, 0]\n",
    "\n",
    "# Test the sign of the polynomial at each test point\n",
    "signs = [expanded_inequality.subs(x, tp).evalf() > 0 for tp in test_points]\n",
    "\n",
    "print(signs)\n",
    "```End\n",
    "Observation: [False, True, False]\n",
    "\n",
    "Thought:The polynomial is negative at test points $-15$ and $0$ and positive at $-10$. This means the inequality is satisfied in the intervals $(-\\infty, -14)$ and $(-3, +\\infty)$. \n",
    "Final Answer: $(-\\infty, -14) \\cup (-3, +\\infty)$\n",
    "\n",
    "> Finished chain.\n",
    "$(-\\infty, -14) \\cup (-3, +\\infty)$"
   ]
  },
  {
   "cell_type": "markdown",
   "metadata": {},
   "source": []
  }
 ],
 "metadata": {
  "kernelspec": {
   "display_name": "msft",
   "language": "python",
   "name": "python3"
  },
  "language_info": {
   "codemirror_mode": {
    "name": "ipython",
    "version": 3
   },
   "file_extension": ".py",
   "mimetype": "text/x-python",
   "name": "python",
   "nbconvert_exporter": "python",
   "pygments_lexer": "ipython3",
   "version": "3.9.16"
  },
  "orig_nbformat": 4
 },
 "nbformat": 4,
 "nbformat_minor": 2
}
