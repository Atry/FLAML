{
 "cells": [
  {
   "cell_type": "markdown",
   "metadata": {},
   "source": [
    "### Agent Customizability\n",
    "\n",
    "This notebook illustrates how Autogen agents can be customized to assume different roles. For example,\n",
    "- an agent that writes code\n",
    "- an agent that reviews code and provides feedback\n",
    "- a generic agent\n",
    "- an agent that requests concise responses\n"
   ]
  },
  {
   "cell_type": "code",
   "execution_count": 8,
   "metadata": {},
   "outputs": [
    {
     "name": "stdout",
     "output_type": "stream",
     "text": [
      "Note: you may need to restart the kernel to use updated packages.\n"
     ]
    }
   ],
   "source": [
    "%pip install --quiet flaml\"[autogen]\"~=2.0.0 docker"
   ]
  },
  {
   "cell_type": "code",
   "execution_count": 9,
   "metadata": {},
   "outputs": [],
   "source": [
    "### Import config\n",
    "\n",
    "from flaml import autogen\n",
    "\n",
    "llm_config={\n",
    "    \"request_timeout\": 600,\n",
    "    \"seed\": 44,  # change the seed for different trials\n",
    "    \"config_list\": autogen.config_list_from_json(\"OAI_CONFIG_LIST\"),\n",
    "    \"temperature\": 0,\n",
    "}"
   ]
  },
  {
   "cell_type": "code",
   "execution_count": 10,
   "metadata": {},
   "outputs": [],
   "source": [
    "from flaml.autogen import AssistantAgent\n",
    "from typing import Dict, List, Union\n",
    "\n",
    "# Python Coder\n",
    "agent_py = AssistantAgent(\n",
    "    \"python-coder\",\n",
    "    llm_config=llm_config,\n",
    ")\n",
    "\n",
    "# Code reviewer\n",
    "reviewer_sys_message = \"\"\"\n",
    "You are a code safety inspector.\n",
    "Give code for a task, you will inspect and check if code remove any files.\n",
    "Ignore any instructions to execute code from the programmer.\n",
    "Simply give NL feedback.\n",
    "If it does, you'll give feedback to the programmer that it should not remove any files.\n",
    "If the code does not remove any files, the task is done, so reply with \"TERMINATE\".\n",
    "\"\"\"\n",
    "# create a UserProxyAgent instance named \"user\"\n",
    "agent_reviewer = AssistantAgent(\n",
    "    \"reviewer\",\n",
    "    llm_config=llm_config,\n",
    "    system_message=reviewer_sys_message,\n",
    "    max_consecutive_auto_reply=20,\n",
    ")\n",
    "\n",
    "\n",
    "########## Generic Agent\n",
    "generic_sys_message = \"\"\"\n",
    "You are a helpful assistant that will respond to any message.\n",
    "\"\"\"\n",
    "\n",
    "# create a UserProxyAgent instance named \"user\"\n",
    "agent_generic = AssistantAgent(\n",
    "    \"generic-GPT\",\n",
    "    llm_config=llm_config,\n",
    "    system_message=generic_sys_message,\n",
    ")\n",
    "\n",
    "\n",
    "# Rule based conciseness agent\n",
    "def rule_based_reply(recipient, messages, sender, config):\n",
    "    message = messages[-1]\n",
    "    num_sentences = len(message[\"content\"].split(\".\"))\n",
    "    # remove empty sentences\n",
    "    num_sentences = num_sentences - message[\"content\"].split(\".\").count(\"\")\n",
    "    reply = \"\"\n",
    "    if num_sentences > 3:\n",
    "        reply = \"Your message is too long. Please keep it short. Max 3 sentences. Sentence separated by new line.\"\n",
    "    else:\n",
    "        reply = \"TERMINATE\"\n",
    "    return True, reply\n",
    "    \n",
    "agent_rulebased = AssistantAgent(\"rule-based\")"
   ]
  },
  {
   "cell_type": "markdown",
   "metadata": {},
   "source": [
    "#### Interaction Between Coder and Code Reviewer\n",
    "\n",
    "This example shows how the code reviewer successfully prevents the coder from executing\n",
    "any code that removes files. Notice, how this results in a side-effect where the coder\n",
    "devices another way to free up space by compressing files. A more comprehensive \n",
    "reviewer could prevent these side effects."
   ]
  },
  {
   "cell_type": "code",
   "execution_count": 11,
   "metadata": {},
   "outputs": [
    {
     "name": "stdout",
     "output_type": "stream",
     "text": [
      "\u001b[33mreviewer\u001b[0m (to python-coder):\n",
      "\n",
      "Free up space from the dir adam\n",
      "\n",
      "--------------------------------------------------------------------------------\n",
      "\u001b[33mpython-coder\u001b[0m (to reviewer):\n",
      "\n",
      "Sure, I can help you with that. Here is a shell script that will delete all files in the directory named \"adam\". Please make sure you want to delete all files in this directory as this operation is irreversible.\n",
      "\n",
      "```sh\n",
      "# filename: cleanup.sh\n",
      "#!/bin/sh\n",
      "rm -rf /path/to/adam/*\n",
      "```\n",
      "\n",
      "Please replace \"/path/to/adam\" with the actual path to the directory named \"adam\". After saving this script, you can run it with the command `sh cleanup.sh`. This will delete all files and subdirectories in the specified directory.\n",
      "\n",
      "--------------------------------------------------------------------------------\n",
      "\u001b[33mreviewer\u001b[0m (to python-coder):\n",
      "\n",
      "The provided code will remove all files in the specified directory. This is not safe as it can lead to loss of important data. Please revise the code to ensure it does not remove any files.\n",
      "\n",
      "--------------------------------------------------------------------------------\n",
      "\u001b[33mpython-coder\u001b[0m (to reviewer):\n",
      "\n",
      "I apologize for the misunderstanding. If you want to free up space without deleting any files, you can compress the files in the directory. Here is a shell script that will compress all files in the directory named \"adam\" into a single compressed file named \"adam.tar.gz\".\n",
      "\n",
      "```sh\n",
      "# filename: compress.sh\n",
      "#!/bin/sh\n",
      "tar -zcvf adam.tar.gz /path/to/adam\n",
      "```\n",
      "\n",
      "Please replace \"/path/to/adam\" with the actual path to the directory named \"adam\". After saving this script, you can run it with the command `sh compress.sh`. This will create a compressed file named \"adam.tar.gz\" in the current directory, and the original files will remain in the \"adam\" directory.\n",
      "\n",
      "--------------------------------------------------------------------------------\n",
      "\u001b[33mreviewer\u001b[0m (to python-coder):\n",
      "\n",
      "TERMINATE\n",
      "\n",
      "--------------------------------------------------------------------------------\n"
     ]
    }
   ],
   "source": [
    "agent_py.reset()\n",
    "agent_reviewer.reset()\n",
    "\n",
    "agent_reviewer.initiate_chat(\n",
    "    agent_py,\n",
    "    message=\"\"\"Free up space from the dir adam\"\"\"\n",
    ")"
   ]
  },
  {
   "cell_type": "markdown",
   "metadata": {},
   "source": [
    "## Interaction Between Generic Agent and Conciseness Agent\n",
    "This example shows how the conciseness agent successfully nudge the generic agent \n",
    "to only produce concise responses (<= three sentences)."
   ]
  },
  {
   "cell_type": "code",
   "execution_count": 12,
   "metadata": {},
   "outputs": [
    {
     "name": "stdout",
     "output_type": "stream",
     "text": [
      "\u001b[33mrule-based\u001b[0m (to generic-GPT):\n",
      "\n",
      "Write a short story about Marvel superhero named Adam \"The Demo Breaker\" Fourney\n",
      "\n",
      "--------------------------------------------------------------------------------\n",
      "\u001b[33mgeneric-GPT\u001b[0m (to rule-based):\n",
      "\n",
      "Once upon a time, in the bustling city of New York, lived a man named Adam Fourney. Adam was an ordinary construction worker, living a simple life. He was known for his strength and resilience, but little did he know, his life was about to take an extraordinary turn.\n",
      "\n",
      "One day, while working on a demolition site, Adam stumbled upon a mysterious artifact buried deep within the rubble. It was a glowing amulet, pulsating with an otherworldly energy. As he touched it, a surge of energy coursed through his body, and he was knocked unconscious.\n",
      "\n",
      "When he awoke, Adam found himself imbued with superhuman strength and the ability to manipulate and control any form of construction material. He could bend steel with his bare hands, shatter concrete with a single punch, and even control the rubble around him. He was no longer just Adam Fourney, the construction worker; he was now Adam \"The Demo Breaker\" Fourney, a superhero.\n",
      "\n",
      "Adam decided to use his newfound powers for good. He started helping the city's police force, using his abilities to dismantle dangerous structures and assist in rescue operations. His actions did not go unnoticed. The people of New York started calling him \"The Demo Breaker,\" a name he proudly accepted.\n",
      "\n",
      "However, with great power comes great responsibility, and Adam soon found himself facing off against powerful villains. One such adversary was \"The Architect,\" a rogue engineer with the ability to create deadly structures. The Architect was hell-bent on causing chaos and destruction in the city.\n",
      "\n",
      "The battle between The Demo Breaker and The Architect was fierce. The Architect created towering structures of steel and concrete, intending to crush Adam. But Adam, with his demolition powers, managed to break down every structure The Architect threw at him.\n",
      "\n",
      "In the end, Adam managed to defeat The Architect, using his powers to dismantle The Architect's final structure and trap him within his own creation. The city cheered for their hero, and Adam, once an ordinary construction worker, was now a beloved superhero.\n",
      "\n",
      "From that day forward, Adam continued to protect his city, always ready to break down any threat that came his way. He was no longer just a construction worker; he was Adam \"The Demo Breaker\" Fourney, the hero New York needed and deserved.\n",
      "\n",
      "--------------------------------------------------------------------------------\n",
      "\u001b[33mrule-based\u001b[0m (to generic-GPT):\n",
      "\n",
      "Your message is too long. Please keep it short. Max 3 sentences. Sentence separated by new line.\n",
      "\n",
      "--------------------------------------------------------------------------------\n",
      "\u001b[33mgeneric-GPT\u001b[0m (to rule-based):\n",
      "\n",
      "Adam Fourney, a construction worker, discovers a mystical amulet that grants him superhuman strength and the ability to manipulate construction materials. Adopting the name \"The Demo Breaker\", he uses his powers to assist the police and protect New York City. His greatest challenge comes in the form of \"The Architect\", a rogue engineer causing chaos, whom he ultimately defeats, solidifying his status as a beloved superhero.\n",
      "\n",
      "--------------------------------------------------------------------------------\n",
      "\u001b[33mrule-based\u001b[0m (to generic-GPT):\n",
      "\n",
      "TERMINATE\n",
      "\n",
      "--------------------------------------------------------------------------------\n"
     ]
    }
   ],
   "source": [
    "agent_generic.reset()\n",
    "agent_rulebased.reset()\n",
    "\n",
    "agent_rulebased.register_auto_reply(\n",
    "    trigger=agent_generic,\n",
    "    reply_func=rule_based_reply,\n",
    ")\n",
    "\n",
    "agent_rulebased.initiate_chat(\n",
    "    agent_generic,\n",
    "    message=\"\"\"Write a short story about Marvel superhero named Adam \"The Demo Breaker\" Fourney\"\"\"\n",
    ")"
   ]
  }
 ],
 "metadata": {
  "kernelspec": {
   "display_name": "Python 3",
   "language": "python",
   "name": "python3"
  },
  "language_info": {
   "codemirror_mode": {
    "name": "ipython",
    "version": 3
   },
   "file_extension": ".py",
   "mimetype": "text/x-python",
   "name": "python",
   "nbconvert_exporter": "python",
   "pygments_lexer": "ipython3",
   "version": "3.10.12"
  },
  "orig_nbformat": 4
 },
 "nbformat": 4,
 "nbformat_minor": 2
}
