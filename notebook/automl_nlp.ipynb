{
  "cells": [
    {
      "cell_type": "markdown",
      "metadata": {
        "id": "43f7-wG-Tjg_"
      },
      "source": [
        "# FineTuning NLP Models with FLAML Library\n",
        "\n",
        "\n",
        "## 1. Introduction\n",
        "\n",
        "FLAML is a Python library (https://github.com/microsoft/FLAML) designed to automatically produce accurate machine learning models \n",
        "with low computational cost. It is fast and economical. The simple and lightweight design makes it easy to use and extend, such as adding new learners. FLAML can \n",
        "- serve as an economical AutoML engine,\n",
        "- be used as a fast hyperparameter tuning tool, or \n",
        "- be embedded in self-tuning software that requires low latency & resource in repetitive\n",
        "   tuning tasks.\n",
        "\n",
        "In this notebook, we demonstrate how to use the FLAML library to fine tune an NLP language model with hyperparameter search. We will use [flaml.tune](https://microsoft.github.io/FLAML/docs/Use-Cases/Tune-User-Defined-Function) with the built in GPU in colab for the tuning. However, if you have a machine with more than 1 GPU, you can also use FLAML's [parallel tuning](https://microsoft.github.io/FLAML/docs/Use-Cases/Task-Oriented-AutoML#parallel-tuning) with the ray tune option. \n",
        "\n",
        "FLAML requires `Python>=3.7`. To run this notebook example, please install flaml with the `nlp,notebook` and `blendsearch` option:\n",
        "```bash\n",
        "pip install flaml[nlp,notebook,blendsearch]==1.0.11; \n",
        "```"
      ]
    },
    {
      "cell_type": "code",
      "execution_count": null,
      "metadata": {
        "colab": {
          "base_uri": "https://localhost:8080/"
        },
        "id": "Q8c3VMy6TjhC",
        "outputId": "a306c9f1-2a17-4901-a951-de534777dfa7"
      },
      "outputs": [
        {
          "output_type": "stream",
          "name": "stdout",
          "text": [
            "Looking in indexes: https://pypi.org/simple, https://us-python.pkg.dev/colab-wheels/public/simple/\n",
            "Requirement already satisfied: flaml[blendsearch,nlp,notebook,ray] in /usr/local/lib/python3.8/dist-packages (1.1.1)\n",
            "Requirement already satisfied: NumPy>=1.17.0rc1 in /usr/local/lib/python3.8/dist-packages (from flaml[blendsearch,nlp,notebook,ray]) (1.21.6)\n",
            "Requirement already satisfied: xgboost>=0.90 in /usr/local/lib/python3.8/dist-packages (from flaml[blendsearch,nlp,notebook,ray]) (0.90)\n",
            "Requirement already satisfied: scikit-learn>=0.24 in /usr/local/lib/python3.8/dist-packages (from flaml[blendsearch,nlp,notebook,ray]) (1.0.2)\n",
            "Requirement already satisfied: lightgbm>=2.3.1 in /usr/local/lib/python3.8/dist-packages (from flaml[blendsearch,nlp,notebook,ray]) (3.3.5)\n",
            "Requirement already satisfied: scipy>=1.4.1 in /usr/local/lib/python3.8/dist-packages (from flaml[blendsearch,nlp,notebook,ray]) (1.7.3)\n",
            "Requirement already satisfied: pandas>=1.1.4 in /usr/local/lib/python3.8/dist-packages (from flaml[blendsearch,nlp,notebook,ray]) (1.3.5)\n",
            "Requirement already satisfied: ray[tune]~=1.13 in /usr/local/lib/python3.8/dist-packages (from flaml[blendsearch,nlp,notebook,ray]) (1.13.0)\n",
            "Requirement already satisfied: datasets in /usr/local/lib/python3.8/dist-packages (from flaml[blendsearch,nlp,notebook,ray]) (2.9.0)\n",
            "Requirement already satisfied: transformers[torch]==4.18 in /usr/local/lib/python3.8/dist-packages (from flaml[blendsearch,nlp,notebook,ray]) (4.18.0)\n",
            "Requirement already satisfied: seqeval in /usr/local/lib/python3.8/dist-packages (from flaml[blendsearch,nlp,notebook,ray]) (1.2.2)\n",
            "Requirement already satisfied: rouge-score in /usr/local/lib/python3.8/dist-packages (from flaml[blendsearch,nlp,notebook,ray]) (0.1.2)\n",
            "Requirement already satisfied: nltk in /usr/local/lib/python3.8/dist-packages (from flaml[blendsearch,nlp,notebook,ray]) (3.7)\n",
            "Requirement already satisfied: optuna==2.8.0 in /usr/local/lib/python3.8/dist-packages (from flaml[blendsearch,nlp,notebook,ray]) (2.8.0)\n",
            "Requirement already satisfied: matplotlib in /usr/local/lib/python3.8/dist-packages (from flaml[blendsearch,nlp,notebook,ray]) (3.2.2)\n",
            "Requirement already satisfied: openml==0.10.2 in /usr/local/lib/python3.8/dist-packages (from flaml[blendsearch,nlp,notebook,ray]) (0.10.2)\n",
            "Requirement already satisfied: jupyter in /usr/local/lib/python3.8/dist-packages (from flaml[blendsearch,nlp,notebook,ray]) (1.0.0)\n",
            "Requirement already satisfied: xmltodict in /usr/local/lib/python3.8/dist-packages (from openml==0.10.2->flaml[blendsearch,nlp,notebook,ray]) (0.13.0)\n",
            "Requirement already satisfied: requests in /usr/local/lib/python3.8/dist-packages (from openml==0.10.2->flaml[blendsearch,nlp,notebook,ray]) (2.25.1)\n",
            "Requirement already satisfied: python-dateutil in /usr/local/lib/python3.8/dist-packages (from openml==0.10.2->flaml[blendsearch,nlp,notebook,ray]) (2.8.2)\n",
            "Requirement already satisfied: liac-arff>=2.4.0 in /usr/local/lib/python3.8/dist-packages (from openml==0.10.2->flaml[blendsearch,nlp,notebook,ray]) (2.5.0)\n",
            "Requirement already satisfied: alembic in /usr/local/lib/python3.8/dist-packages (from optuna==2.8.0->flaml[blendsearch,nlp,notebook,ray]) (1.9.2)\n",
            "Requirement already satisfied: cmaes>=0.8.2 in /usr/local/lib/python3.8/dist-packages (from optuna==2.8.0->flaml[blendsearch,nlp,notebook,ray]) (0.9.1)\n",
            "Requirement already satisfied: tqdm in /usr/local/lib/python3.8/dist-packages (from optuna==2.8.0->flaml[blendsearch,nlp,notebook,ray]) (4.64.1)\n",
            "Requirement already satisfied: sqlalchemy>=1.1.0 in /usr/local/lib/python3.8/dist-packages (from optuna==2.8.0->flaml[blendsearch,nlp,notebook,ray]) (2.0.0)\n",
            "Requirement already satisfied: colorlog in /usr/local/lib/python3.8/dist-packages (from optuna==2.8.0->flaml[blendsearch,nlp,notebook,ray]) (6.7.0)\n",
            "Requirement already satisfied: cliff in /usr/local/lib/python3.8/dist-packages (from optuna==2.8.0->flaml[blendsearch,nlp,notebook,ray]) (4.1.0)\n",
            "Requirement already satisfied: packaging>=20.0 in /usr/local/lib/python3.8/dist-packages (from optuna==2.8.0->flaml[blendsearch,nlp,notebook,ray]) (23.0)\n",
            "Requirement already satisfied: pyyaml>=5.1 in /usr/local/lib/python3.8/dist-packages (from transformers[torch]==4.18->flaml[blendsearch,nlp,notebook,ray]) (6.0)\n",
            "Requirement already satisfied: huggingface-hub<1.0,>=0.1.0 in /usr/local/lib/python3.8/dist-packages (from transformers[torch]==4.18->flaml[blendsearch,nlp,notebook,ray]) (0.12.0)\n",
            "Requirement already satisfied: regex!=2019.12.17 in /usr/local/lib/python3.8/dist-packages (from transformers[torch]==4.18->flaml[blendsearch,nlp,notebook,ray]) (2022.6.2)\n",
            "Requirement already satisfied: filelock in /usr/local/lib/python3.8/dist-packages (from transformers[torch]==4.18->flaml[blendsearch,nlp,notebook,ray]) (3.9.0)\n",
            "Requirement already satisfied: sacremoses in /usr/local/lib/python3.8/dist-packages (from transformers[torch]==4.18->flaml[blendsearch,nlp,notebook,ray]) (0.0.53)\n",
            "Requirement already satisfied: tokenizers!=0.11.3,<0.13,>=0.11.1 in /usr/local/lib/python3.8/dist-packages (from transformers[torch]==4.18->flaml[blendsearch,nlp,notebook,ray]) (0.12.1)\n",
            "Requirement already satisfied: torch>=1.0 in /usr/local/lib/python3.8/dist-packages (from transformers[torch]==4.18->flaml[blendsearch,nlp,notebook,ray]) (1.13.1+cu116)\n",
            "Requirement already satisfied: wheel in /usr/local/lib/python3.8/dist-packages (from lightgbm>=2.3.1->flaml[blendsearch,nlp,notebook,ray]) (0.38.4)\n",
            "Requirement already satisfied: pytz>=2017.3 in /usr/local/lib/python3.8/dist-packages (from pandas>=1.1.4->flaml[blendsearch,nlp,notebook,ray]) (2022.7.1)\n",
            "Requirement already satisfied: attrs in /usr/local/lib/python3.8/dist-packages (from ray[tune]~=1.13->flaml[blendsearch,nlp,notebook,ray]) (22.2.0)\n",
            "Requirement already satisfied: protobuf<4.0.0,>=3.15.3 in /usr/local/lib/python3.8/dist-packages (from ray[tune]~=1.13->flaml[blendsearch,nlp,notebook,ray]) (3.19.6)\n",
            "Requirement already satisfied: grpcio<=1.43.0,>=1.28.1 in /usr/local/lib/python3.8/dist-packages (from ray[tune]~=1.13->flaml[blendsearch,nlp,notebook,ray]) (1.43.0)\n",
            "Requirement already satisfied: frozenlist in /usr/local/lib/python3.8/dist-packages (from ray[tune]~=1.13->flaml[blendsearch,nlp,notebook,ray]) (1.3.3)\n",
            "Requirement already satisfied: virtualenv in /usr/local/lib/python3.8/dist-packages (from ray[tune]~=1.13->flaml[blendsearch,nlp,notebook,ray]) (20.17.1)\n",
            "Requirement already satisfied: jsonschema in /usr/local/lib/python3.8/dist-packages (from ray[tune]~=1.13->flaml[blendsearch,nlp,notebook,ray]) (4.3.3)\n",
            "Requirement already satisfied: click<=8.0.4,>=7.0 in /usr/local/lib/python3.8/dist-packages (from ray[tune]~=1.13->flaml[blendsearch,nlp,notebook,ray]) (7.1.2)\n",
            "Requirement already satisfied: msgpack<2.0.0,>=1.0.0 in /usr/local/lib/python3.8/dist-packages (from ray[tune]~=1.13->flaml[blendsearch,nlp,notebook,ray]) (1.0.4)\n",
            "Requirement already satisfied: aiosignal in /usr/local/lib/python3.8/dist-packages (from ray[tune]~=1.13->flaml[blendsearch,nlp,notebook,ray]) (1.3.1)\n",
            "Requirement already satisfied: tensorboardX>=1.9 in /usr/local/lib/python3.8/dist-packages (from ray[tune]~=1.13->flaml[blendsearch,nlp,notebook,ray]) (2.5.1)\n",
            "Requirement already satisfied: tabulate in /usr/local/lib/python3.8/dist-packages (from ray[tune]~=1.13->flaml[blendsearch,nlp,notebook,ray]) (0.8.10)\n",
            "Requirement already satisfied: threadpoolctl>=2.0.0 in /usr/local/lib/python3.8/dist-packages (from scikit-learn>=0.24->flaml[blendsearch,nlp,notebook,ray]) (3.1.0)\n",
            "Requirement already satisfied: joblib>=0.11 in /usr/local/lib/python3.8/dist-packages (from scikit-learn>=0.24->flaml[blendsearch,nlp,notebook,ray]) (1.2.0)\n",
            "Requirement already satisfied: pyarrow>=6.0.0 in /usr/local/lib/python3.8/dist-packages (from datasets->flaml[blendsearch,nlp,notebook,ray]) (9.0.0)\n",
            "Requirement already satisfied: multiprocess in /usr/local/lib/python3.8/dist-packages (from datasets->flaml[blendsearch,nlp,notebook,ray]) (0.70.14)\n",
            "Requirement already satisfied: xxhash in /usr/local/lib/python3.8/dist-packages (from datasets->flaml[blendsearch,nlp,notebook,ray]) (3.2.0)\n",
            "Requirement already satisfied: fsspec[http]>=2021.11.1 in /usr/local/lib/python3.8/dist-packages (from datasets->flaml[blendsearch,nlp,notebook,ray]) (2023.1.0)\n",
            "Requirement already satisfied: aiohttp in /usr/local/lib/python3.8/dist-packages (from datasets->flaml[blendsearch,nlp,notebook,ray]) (3.8.3)\n",
            "Requirement already satisfied: dill<0.3.7 in /usr/local/lib/python3.8/dist-packages (from datasets->flaml[blendsearch,nlp,notebook,ray]) (0.3.6)\n",
            "Requirement already satisfied: responses<0.19 in /usr/local/lib/python3.8/dist-packages (from datasets->flaml[blendsearch,nlp,notebook,ray]) (0.18.0)\n",
            "Requirement already satisfied: jupyter-console in /usr/local/lib/python3.8/dist-packages (from jupyter->flaml[blendsearch,nlp,notebook,ray]) (6.1.0)\n",
            "Requirement already satisfied: qtconsole in /usr/local/lib/python3.8/dist-packages (from jupyter->flaml[blendsearch,nlp,notebook,ray]) (5.4.0)\n",
            "Requirement already satisfied: nbconvert in /usr/local/lib/python3.8/dist-packages (from jupyter->flaml[blendsearch,nlp,notebook,ray]) (5.6.1)\n",
            "Requirement already satisfied: ipykernel in /usr/local/lib/python3.8/dist-packages (from jupyter->flaml[blendsearch,nlp,notebook,ray]) (5.3.4)\n",
            "Requirement already satisfied: notebook in /usr/local/lib/python3.8/dist-packages (from jupyter->flaml[blendsearch,nlp,notebook,ray]) (5.7.16)\n",
            "Requirement already satisfied: ipywidgets in /usr/local/lib/python3.8/dist-packages (from jupyter->flaml[blendsearch,nlp,notebook,ray]) (7.7.1)\n",
            "Requirement already satisfied: cycler>=0.10 in /usr/local/lib/python3.8/dist-packages (from matplotlib->flaml[blendsearch,nlp,notebook,ray]) (0.11.0)\n",
            "Requirement already satisfied: pyparsing!=2.0.4,!=2.1.2,!=2.1.6,>=2.0.1 in /usr/local/lib/python3.8/dist-packages (from matplotlib->flaml[blendsearch,nlp,notebook,ray]) (3.0.9)\n",
            "Requirement already satisfied: kiwisolver>=1.0.1 in /usr/local/lib/python3.8/dist-packages (from matplotlib->flaml[blendsearch,nlp,notebook,ray]) (1.4.4)\n",
            "Requirement already satisfied: six>=1.14.0 in /usr/local/lib/python3.8/dist-packages (from rouge-score->flaml[blendsearch,nlp,notebook,ray]) (1.15.0)\n",
            "Requirement already satisfied: absl-py in /usr/local/lib/python3.8/dist-packages (from rouge-score->flaml[blendsearch,nlp,notebook,ray]) (1.4.0)\n",
            "Requirement already satisfied: charset-normalizer<3.0,>=2.0 in /usr/local/lib/python3.8/dist-packages (from aiohttp->datasets->flaml[blendsearch,nlp,notebook,ray]) (2.1.1)\n",
            "Requirement already satisfied: multidict<7.0,>=4.5 in /usr/local/lib/python3.8/dist-packages (from aiohttp->datasets->flaml[blendsearch,nlp,notebook,ray]) (6.0.4)\n",
            "Requirement already satisfied: async-timeout<5.0,>=4.0.0a3 in /usr/local/lib/python3.8/dist-packages (from aiohttp->datasets->flaml[blendsearch,nlp,notebook,ray]) (4.0.2)\n",
            "Requirement already satisfied: yarl<2.0,>=1.0 in /usr/local/lib/python3.8/dist-packages (from aiohttp->datasets->flaml[blendsearch,nlp,notebook,ray]) (1.8.2)\n",
            "Requirement already satisfied: typing-extensions>=3.7.4.3 in /usr/local/lib/python3.8/dist-packages (from huggingface-hub<1.0,>=0.1.0->transformers[torch]==4.18->flaml[blendsearch,nlp,notebook,ray]) (4.4.0)\n",
            "Requirement already satisfied: urllib3<1.27,>=1.21.1 in /usr/local/lib/python3.8/dist-packages (from requests->openml==0.10.2->flaml[blendsearch,nlp,notebook,ray]) (1.26.14)\n",
            "Requirement already satisfied: idna<3,>=2.5 in /usr/local/lib/python3.8/dist-packages (from requests->openml==0.10.2->flaml[blendsearch,nlp,notebook,ray]) (2.10)\n",
            "Requirement already satisfied: chardet<5,>=3.0.2 in /usr/local/lib/python3.8/dist-packages (from requests->openml==0.10.2->flaml[blendsearch,nlp,notebook,ray]) (4.0.0)\n",
            "Requirement already satisfied: certifi>=2017.4.17 in /usr/local/lib/python3.8/dist-packages (from requests->openml==0.10.2->flaml[blendsearch,nlp,notebook,ray]) (2022.12.7)\n",
            "Requirement already satisfied: greenlet!=0.4.17 in /usr/local/lib/python3.8/dist-packages (from sqlalchemy>=1.1.0->optuna==2.8.0->flaml[blendsearch,nlp,notebook,ray]) (2.0.2)\n",
            "Requirement already satisfied: importlib-resources in /usr/local/lib/python3.8/dist-packages (from alembic->optuna==2.8.0->flaml[blendsearch,nlp,notebook,ray]) (5.10.2)\n",
            "Requirement already satisfied: importlib-metadata in /usr/local/lib/python3.8/dist-packages (from alembic->optuna==2.8.0->flaml[blendsearch,nlp,notebook,ray]) (6.0.0)\n",
            "Requirement already satisfied: Mako in /usr/local/lib/python3.8/dist-packages (from alembic->optuna==2.8.0->flaml[blendsearch,nlp,notebook,ray]) (1.2.4)\n",
            "Requirement already satisfied: PrettyTable>=0.7.2 in /usr/local/lib/python3.8/dist-packages (from cliff->optuna==2.8.0->flaml[blendsearch,nlp,notebook,ray]) (3.6.0)\n",
            "Requirement already satisfied: stevedore>=2.0.1 in /usr/local/lib/python3.8/dist-packages (from cliff->optuna==2.8.0->flaml[blendsearch,nlp,notebook,ray]) (4.1.1)\n",
            "Requirement already satisfied: autopage>=0.4.0 in /usr/local/lib/python3.8/dist-packages (from cliff->optuna==2.8.0->flaml[blendsearch,nlp,notebook,ray]) (0.5.1)\n",
            "Requirement already satisfied: cmd2>=1.0.0 in /usr/local/lib/python3.8/dist-packages (from cliff->optuna==2.8.0->flaml[blendsearch,nlp,notebook,ray]) (2.4.3)\n",
            "Requirement already satisfied: tornado>=4.2 in /usr/local/lib/python3.8/dist-packages (from ipykernel->jupyter->flaml[blendsearch,nlp,notebook,ray]) (6.0.4)\n",
            "Requirement already satisfied: jupyter-client in /usr/local/lib/python3.8/dist-packages (from ipykernel->jupyter->flaml[blendsearch,nlp,notebook,ray]) (6.1.12)\n",
            "Requirement already satisfied: ipython>=5.0.0 in /usr/local/lib/python3.8/dist-packages (from ipykernel->jupyter->flaml[blendsearch,nlp,notebook,ray]) (7.9.0)\n",
            "Requirement already satisfied: traitlets>=4.1.0 in /usr/local/lib/python3.8/dist-packages (from ipykernel->jupyter->flaml[blendsearch,nlp,notebook,ray]) (5.7.1)\n",
            "Requirement already satisfied: ipython-genutils~=0.2.0 in /usr/local/lib/python3.8/dist-packages (from ipywidgets->jupyter->flaml[blendsearch,nlp,notebook,ray]) (0.2.0)\n",
            "Requirement already satisfied: widgetsnbextension~=3.6.0 in /usr/local/lib/python3.8/dist-packages (from ipywidgets->jupyter->flaml[blendsearch,nlp,notebook,ray]) (3.6.1)\n",
            "Requirement already satisfied: jupyterlab-widgets>=1.0.0 in /usr/local/lib/python3.8/dist-packages (from ipywidgets->jupyter->flaml[blendsearch,nlp,notebook,ray]) (3.0.5)\n",
            "Requirement already satisfied: pyrsistent!=0.17.0,!=0.17.1,!=0.17.2,>=0.14.0 in /usr/local/lib/python3.8/dist-packages (from jsonschema->ray[tune]~=1.13->flaml[blendsearch,nlp,notebook,ray]) (0.19.3)\n",
            "Requirement already satisfied: pygments in /usr/local/lib/python3.8/dist-packages (from jupyter-console->jupyter->flaml[blendsearch,nlp,notebook,ray]) (2.6.1)\n",
            "Requirement already satisfied: prompt-toolkit!=3.0.0,!=3.0.1,<3.1.0,>=2.0.0 in /usr/local/lib/python3.8/dist-packages (from jupyter-console->jupyter->flaml[blendsearch,nlp,notebook,ray]) (2.0.10)\n",
            "Requirement already satisfied: defusedxml in /usr/local/lib/python3.8/dist-packages (from nbconvert->jupyter->flaml[blendsearch,nlp,notebook,ray]) (0.7.1)\n",
            "Requirement already satisfied: jinja2>=2.4 in /usr/local/lib/python3.8/dist-packages (from nbconvert->jupyter->flaml[blendsearch,nlp,notebook,ray]) (2.11.3)\n",
            "Requirement already satisfied: mistune<2,>=0.8.1 in /usr/local/lib/python3.8/dist-packages (from nbconvert->jupyter->flaml[blendsearch,nlp,notebook,ray]) (0.8.4)\n",
            "Requirement already satisfied: entrypoints>=0.2.2 in /usr/local/lib/python3.8/dist-packages (from nbconvert->jupyter->flaml[blendsearch,nlp,notebook,ray]) (0.4)\n",
            "Requirement already satisfied: nbformat>=4.4 in /usr/local/lib/python3.8/dist-packages (from nbconvert->jupyter->flaml[blendsearch,nlp,notebook,ray]) (5.7.3)\n",
            "Requirement already satisfied: bleach in /usr/local/lib/python3.8/dist-packages (from nbconvert->jupyter->flaml[blendsearch,nlp,notebook,ray]) (6.0.0)\n",
            "Requirement already satisfied: pandocfilters>=1.4.1 in /usr/local/lib/python3.8/dist-packages (from nbconvert->jupyter->flaml[blendsearch,nlp,notebook,ray]) (1.5.0)\n",
            "Requirement already satisfied: testpath in /usr/local/lib/python3.8/dist-packages (from nbconvert->jupyter->flaml[blendsearch,nlp,notebook,ray]) (0.6.0)\n",
            "Requirement already satisfied: jupyter-core in /usr/local/lib/python3.8/dist-packages (from nbconvert->jupyter->flaml[blendsearch,nlp,notebook,ray]) (5.2.0)\n",
            "Requirement already satisfied: pyzmq>=17 in /usr/local/lib/python3.8/dist-packages (from notebook->jupyter->flaml[blendsearch,nlp,notebook,ray]) (23.2.1)\n",
            "Requirement already satisfied: terminado>=0.8.1 in /usr/local/lib/python3.8/dist-packages (from notebook->jupyter->flaml[blendsearch,nlp,notebook,ray]) (0.13.3)\n",
            "Requirement already satisfied: prometheus-client in /usr/local/lib/python3.8/dist-packages (from notebook->jupyter->flaml[blendsearch,nlp,notebook,ray]) (0.16.0)\n",
            "Requirement already satisfied: Send2Trash in /usr/local/lib/python3.8/dist-packages (from notebook->jupyter->flaml[blendsearch,nlp,notebook,ray]) (1.8.0)\n",
            "Requirement already satisfied: qtpy>=2.0.1 in /usr/local/lib/python3.8/dist-packages (from qtconsole->jupyter->flaml[blendsearch,nlp,notebook,ray]) (2.3.0)\n",
            "Requirement already satisfied: platformdirs<3,>=2.4 in /usr/local/lib/python3.8/dist-packages (from virtualenv->ray[tune]~=1.13->flaml[blendsearch,nlp,notebook,ray]) (2.6.2)\n",
            "Requirement already satisfied: distlib<1,>=0.3.6 in /usr/local/lib/python3.8/dist-packages (from virtualenv->ray[tune]~=1.13->flaml[blendsearch,nlp,notebook,ray]) (0.3.6)\n",
            "Requirement already satisfied: pyperclip>=1.6 in /usr/local/lib/python3.8/dist-packages (from cmd2>=1.0.0->cliff->optuna==2.8.0->flaml[blendsearch,nlp,notebook,ray]) (1.8.2)\n",
            "Requirement already satisfied: wcwidth>=0.1.7 in /usr/local/lib/python3.8/dist-packages (from cmd2>=1.0.0->cliff->optuna==2.8.0->flaml[blendsearch,nlp,notebook,ray]) (0.2.6)\n",
            "Requirement already satisfied: zipp>=0.5 in /usr/local/lib/python3.8/dist-packages (from importlib-metadata->alembic->optuna==2.8.0->flaml[blendsearch,nlp,notebook,ray]) (3.12.0)\n",
            "Requirement already satisfied: pickleshare in /usr/local/lib/python3.8/dist-packages (from ipython>=5.0.0->ipykernel->jupyter->flaml[blendsearch,nlp,notebook,ray]) (0.7.5)\n",
            "Requirement already satisfied: decorator in /usr/local/lib/python3.8/dist-packages (from ipython>=5.0.0->ipykernel->jupyter->flaml[blendsearch,nlp,notebook,ray]) (4.4.2)\n",
            "Requirement already satisfied: setuptools>=18.5 in /usr/local/lib/python3.8/dist-packages (from ipython>=5.0.0->ipykernel->jupyter->flaml[blendsearch,nlp,notebook,ray]) (57.4.0)\n",
            "Requirement already satisfied: jedi>=0.10 in /usr/local/lib/python3.8/dist-packages (from ipython>=5.0.0->ipykernel->jupyter->flaml[blendsearch,nlp,notebook,ray]) (0.18.2)\n",
            "Requirement already satisfied: backcall in /usr/local/lib/python3.8/dist-packages (from ipython>=5.0.0->ipykernel->jupyter->flaml[blendsearch,nlp,notebook,ray]) (0.2.0)\n",
            "Requirement already satisfied: pexpect in /usr/local/lib/python3.8/dist-packages (from ipython>=5.0.0->ipykernel->jupyter->flaml[blendsearch,nlp,notebook,ray]) (4.8.0)\n",
            "Requirement already satisfied: MarkupSafe>=0.23 in /usr/local/lib/python3.8/dist-packages (from jinja2>=2.4->nbconvert->jupyter->flaml[blendsearch,nlp,notebook,ray]) (2.0.1)\n",
            "Requirement already satisfied: fastjsonschema in /usr/local/lib/python3.8/dist-packages (from nbformat>=4.4->nbconvert->jupyter->flaml[blendsearch,nlp,notebook,ray]) (2.16.2)\n",
            "Requirement already satisfied: pbr!=2.1.0,>=2.0.0 in /usr/local/lib/python3.8/dist-packages (from stevedore>=2.0.1->cliff->optuna==2.8.0->flaml[blendsearch,nlp,notebook,ray]) (5.11.1)\n",
            "Requirement already satisfied: ptyprocess in /usr/local/lib/python3.8/dist-packages (from terminado>=0.8.1->notebook->jupyter->flaml[blendsearch,nlp,notebook,ray]) (0.7.0)\n",
            "Requirement already satisfied: webencodings in /usr/local/lib/python3.8/dist-packages (from bleach->nbconvert->jupyter->flaml[blendsearch,nlp,notebook,ray]) (0.5.1)\n",
            "Requirement already satisfied: parso<0.9.0,>=0.8.0 in /usr/local/lib/python3.8/dist-packages (from jedi>=0.10->ipython>=5.0.0->ipykernel->jupyter->flaml[blendsearch,nlp,notebook,ray]) (0.8.3)\n"
          ]
        }
      ],
      "source": [
        "%pip install flaml[nlp,notebook,blendsearch,ray]"
      ]
    },
    {
      "cell_type": "markdown",
      "metadata": {
        "id": "efPlAWTdTjhD"
      },
      "source": [
        "Let's run some examples. To use CoLab's built in GPU, you need to select Runtime -> Change runtime type and select GPU. Then you can print the device information using:"
      ]
    },
    {
      "cell_type": "code",
      "execution_count": null,
      "metadata": {
        "colab": {
          "base_uri": "https://localhost:8080/"
        },
        "id": "2kx9QbI7uaU8",
        "outputId": "84b95dad-7391-4f1b-ac29-cb026f84a3fd"
      },
      "outputs": [
        {
          "output_type": "stream",
          "name": "stdout",
          "text": [
            "[<torch.cuda.device object at 0x7f47edcf1b20>]\n"
          ]
        }
      ],
      "source": [
        "import torch\n",
        "print([torch.cuda.device(i) for i in range(torch.cuda.device_count())])"
      ]
    },
    {
      "cell_type": "markdown",
      "metadata": {
        "id": "-yEuLXoHua-f"
      },
      "source": [
        "Note: throughout this notebook, you may see a few ModuleNotFoundErrors. As long as the cell successfully executes, you can ignore that error."
      ]
    },
    {
      "cell_type": "markdown",
      "metadata": {
        "id": "ZBr83DYlTjhD"
      },
      "source": [
        "## 2. Sentiment Classification Example\n",
        "### Load data and preprocess\n",
        "\n",
        "The Stanford Sentiment treebank (SST-2) dataset is a dataset for sentiment classification. First, let's load this dataset into pandas dataframes:"
      ]
    },
    {
      "cell_type": "code",
      "execution_count": null,
      "metadata": {
        "colab": {
          "base_uri": "https://localhost:8080/"
        },
        "id": "hGP2eqTBTjhD",
        "outputId": "c11a7374-a6bb-4d3d-c44a-df731195d8cb"
      },
      "outputs": [
        {
          "output_type": "stream",
          "name": "stderr",
          "text": [
            "WARNING:datasets.builder:Found cached dataset glue (/root/.cache/huggingface/datasets/glue/sst2/1.0.0/dacbe3125aa31d7f70367a07a8a9e72a5a0bfeb5fc42e75c9db75b96da6053ad)\n",
            "WARNING:datasets.builder:Found cached dataset glue (/root/.cache/huggingface/datasets/glue/sst2/1.0.0/dacbe3125aa31d7f70367a07a8a9e72a5a0bfeb5fc42e75c9db75b96da6053ad)\n",
            "WARNING:datasets.builder:Found cached dataset glue (/root/.cache/huggingface/datasets/glue/sst2/1.0.0/dacbe3125aa31d7f70367a07a8a9e72a5a0bfeb5fc42e75c9db75b96da6053ad)\n"
          ]
        }
      ],
      "source": [
        "from datasets import load_dataset\n",
        "\n",
        "train_dataset = load_dataset(\"glue\", \"sst2\", split=\"train\").to_pandas()\n",
        "dev_dataset = load_dataset(\"glue\", \"sst2\", split=\"validation\").to_pandas()\n",
        "test_dataset = load_dataset(\"glue\", \"sst2\", split=\"test\").to_pandas()"
      ]
    },
    {
      "cell_type": "markdown",
      "metadata": {
        "id": "Nb7SAWVLTjhE"
      },
      "source": [
        "Take a look at the first 5 examples of this dataset:"
      ]
    },
    {
      "cell_type": "code",
      "execution_count": null,
      "metadata": {
        "id": "65mLkoJhTjhE",
        "outputId": "dd69179a-cfef-43d8-ec2d-d70efdc852e2",
        "colab": {
          "base_uri": "https://localhost:8080/",
          "height": 206
        }
      },
      "outputs": [
        {
          "output_type": "execute_result",
          "data": {
            "text/plain": [
              "                                            sentence  label  idx\n",
              "0       hide new secretions from the parental units       0    0\n",
              "1               contains no wit , only labored gags       0    1\n",
              "2  that loves its characters and communicates som...      1    2\n",
              "3  remains utterly satisfied to remain the same t...      0    3\n",
              "4  on the worst revenge-of-the-nerds clichés the ...      0    4"
            ],
            "text/html": [
              "\n",
              "  <div id=\"df-3bd5f1c4-3284-41a7-9c67-92b04662240a\">\n",
              "    <div class=\"colab-df-container\">\n",
              "      <div>\n",
              "<style scoped>\n",
              "    .dataframe tbody tr th:only-of-type {\n",
              "        vertical-align: middle;\n",
              "    }\n",
              "\n",
              "    .dataframe tbody tr th {\n",
              "        vertical-align: top;\n",
              "    }\n",
              "\n",
              "    .dataframe thead th {\n",
              "        text-align: right;\n",
              "    }\n",
              "</style>\n",
              "<table border=\"1\" class=\"dataframe\">\n",
              "  <thead>\n",
              "    <tr style=\"text-align: right;\">\n",
              "      <th></th>\n",
              "      <th>sentence</th>\n",
              "      <th>label</th>\n",
              "      <th>idx</th>\n",
              "    </tr>\n",
              "  </thead>\n",
              "  <tbody>\n",
              "    <tr>\n",
              "      <th>0</th>\n",
              "      <td>hide new secretions from the parental units</td>\n",
              "      <td>0</td>\n",
              "      <td>0</td>\n",
              "    </tr>\n",
              "    <tr>\n",
              "      <th>1</th>\n",
              "      <td>contains no wit , only labored gags</td>\n",
              "      <td>0</td>\n",
              "      <td>1</td>\n",
              "    </tr>\n",
              "    <tr>\n",
              "      <th>2</th>\n",
              "      <td>that loves its characters and communicates som...</td>\n",
              "      <td>1</td>\n",
              "      <td>2</td>\n",
              "    </tr>\n",
              "    <tr>\n",
              "      <th>3</th>\n",
              "      <td>remains utterly satisfied to remain the same t...</td>\n",
              "      <td>0</td>\n",
              "      <td>3</td>\n",
              "    </tr>\n",
              "    <tr>\n",
              "      <th>4</th>\n",
              "      <td>on the worst revenge-of-the-nerds clichés the ...</td>\n",
              "      <td>0</td>\n",
              "      <td>4</td>\n",
              "    </tr>\n",
              "  </tbody>\n",
              "</table>\n",
              "</div>\n",
              "      <button class=\"colab-df-convert\" onclick=\"convertToInteractive('df-3bd5f1c4-3284-41a7-9c67-92b04662240a')\"\n",
              "              title=\"Convert this dataframe to an interactive table.\"\n",
              "              style=\"display:none;\">\n",
              "        \n",
              "  <svg xmlns=\"http://www.w3.org/2000/svg\" height=\"24px\"viewBox=\"0 0 24 24\"\n",
              "       width=\"24px\">\n",
              "    <path d=\"M0 0h24v24H0V0z\" fill=\"none\"/>\n",
              "    <path d=\"M18.56 5.44l.94 2.06.94-2.06 2.06-.94-2.06-.94-.94-2.06-.94 2.06-2.06.94zm-11 1L8.5 8.5l.94-2.06 2.06-.94-2.06-.94L8.5 2.5l-.94 2.06-2.06.94zm10 10l.94 2.06.94-2.06 2.06-.94-2.06-.94-.94-2.06-.94 2.06-2.06.94z\"/><path d=\"M17.41 7.96l-1.37-1.37c-.4-.4-.92-.59-1.43-.59-.52 0-1.04.2-1.43.59L10.3 9.45l-7.72 7.72c-.78.78-.78 2.05 0 2.83L4 21.41c.39.39.9.59 1.41.59.51 0 1.02-.2 1.41-.59l7.78-7.78 2.81-2.81c.8-.78.8-2.07 0-2.86zM5.41 20L4 18.59l7.72-7.72 1.47 1.35L5.41 20z\"/>\n",
              "  </svg>\n",
              "      </button>\n",
              "      \n",
              "  <style>\n",
              "    .colab-df-container {\n",
              "      display:flex;\n",
              "      flex-wrap:wrap;\n",
              "      gap: 12px;\n",
              "    }\n",
              "\n",
              "    .colab-df-convert {\n",
              "      background-color: #E8F0FE;\n",
              "      border: none;\n",
              "      border-radius: 50%;\n",
              "      cursor: pointer;\n",
              "      display: none;\n",
              "      fill: #1967D2;\n",
              "      height: 32px;\n",
              "      padding: 0 0 0 0;\n",
              "      width: 32px;\n",
              "    }\n",
              "\n",
              "    .colab-df-convert:hover {\n",
              "      background-color: #E2EBFA;\n",
              "      box-shadow: 0px 1px 2px rgba(60, 64, 67, 0.3), 0px 1px 3px 1px rgba(60, 64, 67, 0.15);\n",
              "      fill: #174EA6;\n",
              "    }\n",
              "\n",
              "    [theme=dark] .colab-df-convert {\n",
              "      background-color: #3B4455;\n",
              "      fill: #D2E3FC;\n",
              "    }\n",
              "\n",
              "    [theme=dark] .colab-df-convert:hover {\n",
              "      background-color: #434B5C;\n",
              "      box-shadow: 0px 1px 3px 1px rgba(0, 0, 0, 0.15);\n",
              "      filter: drop-shadow(0px 1px 2px rgba(0, 0, 0, 0.3));\n",
              "      fill: #FFFFFF;\n",
              "    }\n",
              "  </style>\n",
              "\n",
              "      <script>\n",
              "        const buttonEl =\n",
              "          document.querySelector('#df-3bd5f1c4-3284-41a7-9c67-92b04662240a button.colab-df-convert');\n",
              "        buttonEl.style.display =\n",
              "          google.colab.kernel.accessAllowed ? 'block' : 'none';\n",
              "\n",
              "        async function convertToInteractive(key) {\n",
              "          const element = document.querySelector('#df-3bd5f1c4-3284-41a7-9c67-92b04662240a');\n",
              "          const dataTable =\n",
              "            await google.colab.kernel.invokeFunction('convertToInteractive',\n",
              "                                                     [key], {});\n",
              "          if (!dataTable) return;\n",
              "\n",
              "          const docLinkHtml = 'Like what you see? Visit the ' +\n",
              "            '<a target=\"_blank\" href=https://colab.research.google.com/notebooks/data_table.ipynb>data table notebook</a>'\n",
              "            + ' to learn more about interactive tables.';\n",
              "          element.innerHTML = '';\n",
              "          dataTable['output_type'] = 'display_data';\n",
              "          await google.colab.output.renderOutput(dataTable, element);\n",
              "          const docLink = document.createElement('div');\n",
              "          docLink.innerHTML = docLinkHtml;\n",
              "          element.appendChild(docLink);\n",
              "        }\n",
              "      </script>\n",
              "    </div>\n",
              "  </div>\n",
              "  "
            ]
          },
          "metadata": {},
          "execution_count": 12
        }
      ],
      "source": [
        "train_dataset.head(5)"
      ]
    },
    {
      "cell_type": "markdown",
      "metadata": {
        "id": "ENcUQbOgTjhE"
      },
      "source": [
        "Separate the data into X and y:"
      ]
    },
    {
      "cell_type": "code",
      "execution_count": null,
      "metadata": {
        "id": "GA0VH9URTjhF"
      },
      "outputs": [],
      "source": [
        "custom_sent_keys = [\"sentence\"]          # specify the column names of the input sentences\n",
        "label_key = \"label\"                                    # specify the column name of the label\n",
        "\n",
        "X_train, y_train = train_dataset[custom_sent_keys], train_dataset[label_key]\n",
        "X_val, y_val = dev_dataset[custom_sent_keys], dev_dataset[label_key]\n",
        "X_test = test_dataset[custom_sent_keys]"
      ]
    },
    {
      "cell_type": "markdown",
      "metadata": {
        "id": "NpRqB153TjhF"
      },
      "source": [
        "### Run FLAML"
      ]
    },
    {
      "cell_type": "markdown",
      "metadata": {
        "id": "2kXabqxZuzQl"
      },
      "source": [
        "Now we can run AutoML with FLAML:"
      ]
    },
    {
      "cell_type": "code",
      "execution_count": null,
      "metadata": {
        "id": "asYbkzrXTjhF"
      },
      "outputs": [],
      "source": [
        "from flaml import AutoML\n",
        "automl = AutoML()\n"
      ]
    },
    {
      "cell_type": "markdown",
      "metadata": {
        "id": "2XZmrBRru_A0"
      },
      "source": [
        "Let's run FLAML for 30 mins. Here we use Electra's [small model](https://huggingface.co/google/electra-small-discriminator) for the tuning. We set gpu_per_trial to 1, and n_concurrent_trials to 1 (the number of trials running at the same time). Make sure gpu_per_trial * n_concurrent_trials does not exceed the GPU number you have. While running you can observe the resource usage (including the GPU) on the right. "
      ]
    },
    {
      "cell_type": "code",
      "execution_count": null,
      "metadata": {
        "id": "QEvR2bZiTjhG"
      },
      "outputs": [],
      "source": [
        "TIME_BUDGET=1800\n",
        "automl_settings = {\n",
        "    \"time_budget\": TIME_BUDGET,                  # setting the time budget\n",
        "    \"task\": \"seq-classification\",       # setting the task as seq-classification\n",
        "    \"fit_kwargs_by_estimator\": {\n",
        "        \"transformer\": {\n",
        "            \"output_dir\": \"data/output/\",   # setting the output directory\n",
        "            \"model_path\": \"google/electra-small-discriminator\",  # if model_path is not set, the default model is facebook/muppet-roberta-base: https://huggingface.co/facebook/muppet-roberta-base\n",
        "        }\n",
        "    },\n",
        "    \"gpu_per_trial\": 1,                 # using 1 GPU for each trial\n",
        "    \"log_file_name\": \"seqclass.log\",    # set the file to save the log for HPO\n",
        "    \"log_type\": \"all\",                  # the log type for trials: \"all\" if logging all the trials, \"better\" if only keeping the better trials\n",
        "    \"use_ray\": False,                   # If parallel tuning, set \"use_ray\" to {\"local_dir\": \"data/output/\"}\n",
        "    \"n_concurrent_trials\": 1,           # How many trials to run at the same time, n_concurrent_trials * gpu_per_trial must not exceed the total number of GPUs\n",
        "    \"keep_search_state\": True,          # keeping the search state\n",
        "    \"fp16\": False                       # whether to use fp16, this option is True by default. \n",
        "}"
      ]
    },
    {
      "cell_type": "code",
      "execution_count": null,
      "metadata": {
        "colab": {
          "base_uri": "https://localhost:8080/"
        },
        "id": "EXjF65hOTjhG",
        "outputId": "94b16efe-ea6f-4b35-b2ea-ba659fc4e95e"
      },
      "outputs": [
        {
          "output_type": "stream",
          "name": "stderr",
          "text": [
            "/usr/local/lib/python3.8/dist-packages/pandas/core/frame.py:3641: SettingWithCopyWarning: \n",
            "A value is trying to be set on a copy of a slice from a DataFrame.\n",
            "Try using .loc[row_indexer,col_indexer] = value instead\n",
            "\n",
            "See the caveats in the documentation: https://pandas.pydata.org/pandas-docs/stable/user_guide/indexing.html#returning-a-view-versus-a-copy\n",
            "  self[k1] = value[k2]\n",
            "[flaml.automl: 02-03 23:02:39] {2565} INFO - task = seq-classification\n",
            "INFO:flaml.automl:task = seq-classification\n",
            "[flaml.automl: 02-03 23:02:39] {2567} INFO - Data split method: stratified\n",
            "INFO:flaml.automl:Data split method: stratified\n",
            "[flaml.automl: 02-03 23:02:39] {2570} INFO - Evaluation method: holdout\n",
            "INFO:flaml.automl:Evaluation method: holdout\n",
            "[flaml.automl: 02-03 23:02:39] {2689} INFO - Minimizing error metric: 1-accuracy\n",
            "INFO:flaml.automl:Minimizing error metric: 1-accuracy\n",
            "[flaml.automl: 02-03 23:02:39] {2831} INFO - List of ML learners in AutoML Run: ['transformer']\n",
            "INFO:flaml.automl:List of ML learners in AutoML Run: ['transformer']\n",
            "[flaml.automl: 02-03 23:02:39] {3133} INFO - iteration 0, current learner transformer\n",
            "INFO:flaml.automl:iteration 0, current learner transformer\n",
            "/usr/local/lib/python3.8/dist-packages/transformers/optimization.py:306: FutureWarning: This implementation of AdamW is deprecated and will be removed in a future version. Use the PyTorch implementation torch.optim.AdamW instead, or set `no_deprecation_warning=True` to disable this warning\n",
            "  warnings.warn(\n"
          ]
        },
        {
          "output_type": "stream",
          "name": "stdout",
          "text": [
            "{'loss': 0.5665, 'learning_rate': 4.6751863684771026e-06, 'epoch': 1.6}\n",
            "{'eval_loss': 0.42372816801071167, 'eval_automl_metric': 0.1754587155963303, 'eval_runtime': 16.9668, 'eval_samples_per_second': 51.394, 'eval_steps_per_second': 51.394, 'epoch': 2.0}\n",
            "{'eval_loss': 0.40139448642730713, 'eval_automl_metric': 0.16399082568807344, 'eval_runtime': 17.3365, 'eval_samples_per_second': 50.298, 'eval_steps_per_second': 50.298, 'epoch': 3.0}\n",
            "{'train_runtime': 93.9021, 'train_samples_per_second': 319.482, 'train_steps_per_second': 10.0, 'train_loss': 0.4875299618267023, 'epoch': 3.0}\n"
          ]
        },
        {
          "output_type": "stream",
          "name": "stderr",
          "text": [
            "***** Running Prediction *****\n",
            "  Num examples = 872\n",
            "  Batch size = 1\n",
            "Didn't find file data/output/train_2023-02-03_23-02-39/train_db256554_12_s=9223372036854775807,e=1e-05,s=-1,s=3,e=32,d=20_2023-02-03_23-02-39/checkpoint-939/added_tokens.json. We won't load it.\n",
            "loading file data/output/train_2023-02-03_23-02-39/train_db256554_12_s=9223372036854775807,e=1e-05,s=-1,s=3,e=32,d=20_2023-02-03_23-02-39/checkpoint-939/vocab.txt\n",
            "loading file data/output/train_2023-02-03_23-02-39/train_db256554_12_s=9223372036854775807,e=1e-05,s=-1,s=3,e=32,d=20_2023-02-03_23-02-39/checkpoint-939/tokenizer.json\n",
            "loading file None\n",
            "loading file data/output/train_2023-02-03_23-02-39/train_db256554_12_s=9223372036854775807,e=1e-05,s=-1,s=3,e=32,d=20_2023-02-03_23-02-39/checkpoint-939/special_tokens_map.json\n",
            "loading file data/output/train_2023-02-03_23-02-39/train_db256554_12_s=9223372036854775807,e=1e-05,s=-1,s=3,e=32,d=20_2023-02-03_23-02-39/checkpoint-939/tokenizer_config.json\n",
            "[flaml.automl: 02-03 23:05:04] {3266} INFO - Estimated sufficient time budget=9809450s. Estimated necessary time budget=9809s.\n",
            "INFO:flaml.automl:Estimated sufficient time budget=9809450s. Estimated necessary time budget=9809s.\n",
            "[flaml.automl: 02-03 23:05:04] {3313} INFO -  at 145.8s,\testimator transformer's best error=0.1640,\tbest estimator transformer's best error=0.1640\n",
            "INFO:flaml.automl: at 145.8s,\testimator transformer's best error=0.1640,\tbest estimator transformer's best error=0.1640\n",
            "[flaml.automl: 02-03 23:05:04] {3133} INFO - iteration 1, current learner transformer\n",
            "INFO:flaml.automl:iteration 1, current learner transformer\n",
            "/usr/local/lib/python3.8/dist-packages/transformers/optimization.py:306: FutureWarning: This implementation of AdamW is deprecated and will be removed in a future version. Use the PyTorch implementation torch.optim.AdamW instead, or set `no_deprecation_warning=True` to disable this warning\n",
            "  warnings.warn(\n"
          ]
        },
        {
          "output_type": "stream",
          "name": "stdout",
          "text": [
            "{'eval_loss': 0.48435646295547485, 'eval_automl_metric': 0.18233944954128445, 'eval_runtime': 17.8873, 'eval_samples_per_second': 48.75, 'eval_steps_per_second': 48.75, 'epoch': 2.0}\n",
            "{'eval_loss': 0.461802214384079, 'eval_automl_metric': 0.17889908256880738, 'eval_runtime': 17.4181, 'eval_samples_per_second': 50.063, 'eval_steps_per_second': 50.063, 'epoch': 3.0}\n",
            "{'train_runtime': 81.8034, 'train_samples_per_second': 366.733, 'train_steps_per_second': 5.758, 'train_loss': 0.557558096138535, 'epoch': 3.0}\n"
          ]
        },
        {
          "output_type": "stream",
          "name": "stderr",
          "text": [
            "***** Running Prediction *****\n",
            "  Num examples = 872\n",
            "  Batch size = 1\n",
            "Didn't find file data/output/train_2023-02-03_23-05-04/train_31f8a1ac_13_s=9223372036854775807,e=9.7119e-06,s=-1,s=3,e=64,d=14_2023-02-03_23-05-04/checkpoint-471/added_tokens.json. We won't load it.\n",
            "loading file data/output/train_2023-02-03_23-05-04/train_31f8a1ac_13_s=9223372036854775807,e=9.7119e-06,s=-1,s=3,e=64,d=14_2023-02-03_23-05-04/checkpoint-471/vocab.txt\n",
            "loading file data/output/train_2023-02-03_23-05-04/train_31f8a1ac_13_s=9223372036854775807,e=9.7119e-06,s=-1,s=3,e=64,d=14_2023-02-03_23-05-04/checkpoint-471/tokenizer.json\n",
            "loading file None\n",
            "loading file data/output/train_2023-02-03_23-05-04/train_31f8a1ac_13_s=9223372036854775807,e=9.7119e-06,s=-1,s=3,e=64,d=14_2023-02-03_23-05-04/checkpoint-471/special_tokens_map.json\n",
            "loading file data/output/train_2023-02-03_23-05-04/train_31f8a1ac_13_s=9223372036854775807,e=9.7119e-06,s=-1,s=3,e=64,d=14_2023-02-03_23-05-04/checkpoint-471/tokenizer_config.json\n",
            "[flaml.automl: 02-03 23:07:17] {3313} INFO -  at 279.0s,\testimator transformer's best error=0.1640,\tbest estimator transformer's best error=0.1640\n",
            "INFO:flaml.automl: at 279.0s,\testimator transformer's best error=0.1640,\tbest estimator transformer's best error=0.1640\n",
            "[flaml.automl: 02-03 23:07:18] {3133} INFO - iteration 2, current learner transformer\n",
            "INFO:flaml.automl:iteration 2, current learner transformer\n",
            "/usr/local/lib/python3.8/dist-packages/transformers/optimization.py:306: FutureWarning: This implementation of AdamW is deprecated and will be removed in a future version. Use the PyTorch implementation torch.optim.AdamW instead, or set `no_deprecation_warning=True` to disable this warning\n",
            "  warnings.warn(\n"
          ]
        },
        {
          "output_type": "stream",
          "name": "stdout",
          "text": [
            "{'loss': 0.5778, 'learning_rate': 7.550901222797876e-06, 'epoch': 0.8}\n",
            "{'loss': 0.3836, 'learning_rate': 4.805118959962285e-06, 'epoch': 1.6}\n",
            "{'eval_loss': 0.37492236495018005, 'eval_automl_metric': 0.15596330275229353, 'eval_runtime': 17.9473, 'eval_samples_per_second': 48.587, 'eval_steps_per_second': 48.587, 'epoch': 2.0}\n",
            "{'loss': 0.3399, 'learning_rate': 2.0593366971266936e-06, 'epoch': 2.4}\n",
            "{'eval_loss': 0.3696420192718506, 'eval_automl_metric': 0.1490825688073395, 'eval_runtime': 17.9385, 'eval_samples_per_second': 48.61, 'eval_steps_per_second': 48.61, 'epoch': 2.67}\n",
            "{'eval_loss': 0.3696420192718506, 'eval_automl_metric': 0.1490825688073395, 'eval_runtime': 17.1086, 'eval_samples_per_second': 50.968, 'eval_steps_per_second': 50.968, 'epoch': 2.67}\n",
            "{'train_runtime': 148.9286, 'train_samples_per_second': 201.439, 'train_steps_per_second': 12.59, 'train_loss': 0.42215518356798937, 'epoch': 2.67}\n"
          ]
        },
        {
          "output_type": "stream",
          "name": "stderr",
          "text": [
            "***** Running Prediction *****\n",
            "  Num examples = 872\n",
            "  Batch size = 1\n",
            "Didn't find file data/output/train_2023-02-03_23-07-18/train_81601676_14_s=9223372036854775807,e=1.0297e-05,s=-1,s=3,e=16,d=26_2023-02-03_23-07-18/checkpoint-1668/added_tokens.json. We won't load it.\n",
            "loading file data/output/train_2023-02-03_23-07-18/train_81601676_14_s=9223372036854775807,e=1.0297e-05,s=-1,s=3,e=16,d=26_2023-02-03_23-07-18/checkpoint-1668/vocab.txt\n",
            "loading file data/output/train_2023-02-03_23-07-18/train_81601676_14_s=9223372036854775807,e=1.0297e-05,s=-1,s=3,e=16,d=26_2023-02-03_23-07-18/checkpoint-1668/tokenizer.json\n",
            "loading file None\n",
            "loading file data/output/train_2023-02-03_23-07-18/train_81601676_14_s=9223372036854775807,e=1.0297e-05,s=-1,s=3,e=16,d=26_2023-02-03_23-07-18/checkpoint-1668/special_tokens_map.json\n",
            "loading file data/output/train_2023-02-03_23-07-18/train_81601676_14_s=9223372036854775807,e=1.0297e-05,s=-1,s=3,e=16,d=26_2023-02-03_23-07-18/checkpoint-1668/tokenizer_config.json\n",
            "[flaml.automl: 02-03 23:10:38] {729} WARNING - checkpoint data/output/train_2023-02-03_23-02-39/train_db256554_12_s=9223372036854775807,e=1e-05,s=-1,s=3,e=32,d=20_2023-02-03_23-02-39/checkpoint-939 not found\n",
            "WARNING:flaml.automl:checkpoint data/output/train_2023-02-03_23-02-39/train_db256554_12_s=9223372036854775807,e=1e-05,s=-1,s=3,e=32,d=20_2023-02-03_23-02-39/checkpoint-939 not found\n",
            "[flaml.automl: 02-03 23:10:38] {3313} INFO -  at 479.3s,\testimator transformer's best error=0.1491,\tbest estimator transformer's best error=0.1491\n",
            "INFO:flaml.automl: at 479.3s,\testimator transformer's best error=0.1491,\tbest estimator transformer's best error=0.1491\n",
            "[flaml.automl: 02-03 23:10:38] {3133} INFO - iteration 3, current learner transformer\n",
            "INFO:flaml.automl:iteration 3, current learner transformer\n",
            "/usr/local/lib/python3.8/dist-packages/transformers/optimization.py:306: FutureWarning: This implementation of AdamW is deprecated and will be removed in a future version. Use the PyTorch implementation torch.optim.AdamW instead, or set `no_deprecation_warning=True` to disable this warning\n",
            "  warnings.warn(\n"
          ]
        },
        {
          "output_type": "stream",
          "name": "stdout",
          "text": [
            "{'loss': 0.5362, 'learning_rate': 8.879996750213199e-06, 'epoch': 0.8}\n",
            "{'eval_loss': 0.3863365948200226, 'eval_automl_metric': 0.1594036697247706, 'eval_runtime': 17.8806, 'eval_samples_per_second': 48.768, 'eval_steps_per_second': 48.768, 'epoch': 1.0}\n",
            "{'loss': 0.3654, 'learning_rate': 2.959998916737733e-06, 'epoch': 1.6}\n",
            "{'eval_loss': 0.37569308280944824, 'eval_automl_metric': 0.15596330275229353, 'eval_runtime': 16.8125, 'eval_samples_per_second': 51.866, 'eval_steps_per_second': 51.866, 'epoch': 2.0}\n",
            "{'train_runtime': 107.3898, 'train_samples_per_second': 186.237, 'train_steps_per_second': 11.64, 'train_loss': 0.42628192749023436, 'epoch': 2.0}\n"
          ]
        },
        {
          "output_type": "stream",
          "name": "stderr",
          "text": [
            "***** Running Prediction *****\n",
            "  Num examples = 872\n",
            "  Batch size = 1\n",
            "Didn't find file data/output/train_2023-02-03_23-10-38/train_f8c69f82_15_s=9223372036854775807,e=1.48e-05,s=-1,s=2,e=16,d=25_2023-02-03_23-10-38/checkpoint-1250/added_tokens.json. We won't load it.\n",
            "loading file data/output/train_2023-02-03_23-10-38/train_f8c69f82_15_s=9223372036854775807,e=1.48e-05,s=-1,s=2,e=16,d=25_2023-02-03_23-10-38/checkpoint-1250/vocab.txt\n",
            "loading file data/output/train_2023-02-03_23-10-38/train_f8c69f82_15_s=9223372036854775807,e=1.48e-05,s=-1,s=2,e=16,d=25_2023-02-03_23-10-38/checkpoint-1250/tokenizer.json\n",
            "loading file None\n",
            "loading file data/output/train_2023-02-03_23-10-38/train_f8c69f82_15_s=9223372036854775807,e=1.48e-05,s=-1,s=2,e=16,d=25_2023-02-03_23-10-38/checkpoint-1250/special_tokens_map.json\n",
            "loading file data/output/train_2023-02-03_23-10-38/train_f8c69f82_15_s=9223372036854775807,e=1.48e-05,s=-1,s=2,e=16,d=25_2023-02-03_23-10-38/checkpoint-1250/tokenizer_config.json\n",
            "[flaml.automl: 02-03 23:13:17] {3313} INFO -  at 638.4s,\testimator transformer's best error=0.1491,\tbest estimator transformer's best error=0.1491\n",
            "INFO:flaml.automl: at 638.4s,\testimator transformer's best error=0.1491,\tbest estimator transformer's best error=0.1491\n",
            "[flaml.automl: 02-03 23:13:17] {3133} INFO - iteration 4, current learner transformer\n",
            "INFO:flaml.automl:iteration 4, current learner transformer\n",
            "/usr/local/lib/python3.8/dist-packages/transformers/optimization.py:306: FutureWarning: This implementation of AdamW is deprecated and will be removed in a future version. Use the PyTorch implementation torch.optim.AdamW instead, or set `no_deprecation_warning=True` to disable this warning\n",
            "  warnings.warn(\n"
          ]
        },
        {
          "output_type": "stream",
          "name": "stdout",
          "text": [
            "{'loss': 0.6402, 'learning_rate': 5.730904302906456e-06, 'epoch': 0.8}\n",
            "{'loss': 0.4537, 'learning_rate': 4.298178227179842e-06, 'epoch': 1.6}\n",
            "{'loss': 0.3716, 'learning_rate': 2.865452151453228e-06, 'epoch': 2.4}\n",
            "{'eval_loss': 0.41723206639289856, 'eval_automl_metric': 0.17201834862385323, 'eval_runtime': 17.5326, 'eval_samples_per_second': 49.736, 'eval_steps_per_second': 49.736, 'epoch': 2.43}\n",
            "{'eval_loss': 0.41723206639289856, 'eval_automl_metric': 0.17201834862385323, 'eval_runtime': 17.7227, 'eval_samples_per_second': 49.203, 'eval_steps_per_second': 49.203, 'epoch': 2.43}\n",
            "{'train_runtime': 122.295, 'train_samples_per_second': 327.078, 'train_steps_per_second': 20.442, 'train_loss': 0.4873114109982294, 'epoch': 2.43}\n"
          ]
        },
        {
          "output_type": "stream",
          "name": "stderr",
          "text": [
            "***** Running Prediction *****\n",
            "  Num examples = 872\n",
            "  Batch size = 1\n",
            "Didn't find file data/output/train_2023-02-03_23-13-17/train_579c9f0c_16_s=9223372036854775807,e=7.1636e-06,s=-1,s=4,e=16,d=27_2023-02-03_23-13-17/checkpoint-1517/added_tokens.json. We won't load it.\n",
            "loading file data/output/train_2023-02-03_23-13-17/train_579c9f0c_16_s=9223372036854775807,e=7.1636e-06,s=-1,s=4,e=16,d=27_2023-02-03_23-13-17/checkpoint-1517/vocab.txt\n",
            "loading file data/output/train_2023-02-03_23-13-17/train_579c9f0c_16_s=9223372036854775807,e=7.1636e-06,s=-1,s=4,e=16,d=27_2023-02-03_23-13-17/checkpoint-1517/tokenizer.json\n",
            "loading file None\n",
            "loading file data/output/train_2023-02-03_23-13-17/train_579c9f0c_16_s=9223372036854775807,e=7.1636e-06,s=-1,s=4,e=16,d=27_2023-02-03_23-13-17/checkpoint-1517/special_tokens_map.json\n",
            "loading file data/output/train_2023-02-03_23-13-17/train_579c9f0c_16_s=9223372036854775807,e=7.1636e-06,s=-1,s=4,e=16,d=27_2023-02-03_23-13-17/checkpoint-1517/tokenizer_config.json\n",
            "[flaml.automl: 02-03 23:16:11] {3313} INFO -  at 812.9s,\testimator transformer's best error=0.1491,\tbest estimator transformer's best error=0.1491\n",
            "INFO:flaml.automl: at 812.9s,\testimator transformer's best error=0.1491,\tbest estimator transformer's best error=0.1491\n",
            "[flaml.automl: 02-03 23:16:11] {3133} INFO - iteration 5, current learner transformer\n",
            "INFO:flaml.automl:iteration 5, current learner transformer\n",
            "/usr/local/lib/python3.8/dist-packages/transformers/optimization.py:306: FutureWarning: This implementation of AdamW is deprecated and will be removed in a future version. Use the PyTorch implementation torch.optim.AdamW instead, or set `no_deprecation_warning=True` to disable this warning\n",
            "  warnings.warn(\n"
          ]
        },
        {
          "output_type": "stream",
          "name": "stdout",
          "text": [
            "{'loss': 0.5223, 'learning_rate': 1.3121346786922505e-05, 'epoch': 0.8}\n",
            "{'loss': 0.333, 'learning_rate': 8.349947955314322e-06, 'epoch': 1.6}\n",
            "{'eval_loss': 0.3734644651412964, 'eval_automl_metric': 0.16055045871559637, 'eval_runtime': 16.6573, 'eval_samples_per_second': 52.349, 'eval_steps_per_second': 52.349, 'epoch': 2.0}\n",
            "{'eval_loss': 0.3734644651412964, 'eval_automl_metric': 0.16055045871559637, 'eval_runtime': 18.2583, 'eval_samples_per_second': 47.759, 'eval_steps_per_second': 47.759, 'epoch': 2.0}\n",
            "{'train_runtime': 108.966, 'train_samples_per_second': 275.315, 'train_steps_per_second': 17.207, 'train_loss': 0.40417463365223427, 'epoch': 2.0}\n"
          ]
        },
        {
          "output_type": "stream",
          "name": "stderr",
          "text": [
            "***** Running Prediction *****\n",
            "  Num examples = 872\n",
            "  Batch size = 1\n",
            "Didn't find file data/output/train_2023-02-03_23-16-11/train_bf9e1d1a_17_s=9223372036854775807,e=1.7893e-05,s=-1,s=3,e=16,d=32_2023-02-03_23-16-11/checkpoint-1249/added_tokens.json. We won't load it.\n",
            "loading file data/output/train_2023-02-03_23-16-11/train_bf9e1d1a_17_s=9223372036854775807,e=1.7893e-05,s=-1,s=3,e=16,d=32_2023-02-03_23-16-11/checkpoint-1249/vocab.txt\n",
            "loading file data/output/train_2023-02-03_23-16-11/train_bf9e1d1a_17_s=9223372036854775807,e=1.7893e-05,s=-1,s=3,e=16,d=32_2023-02-03_23-16-11/checkpoint-1249/tokenizer.json\n",
            "loading file None\n",
            "loading file data/output/train_2023-02-03_23-16-11/train_bf9e1d1a_17_s=9223372036854775807,e=1.7893e-05,s=-1,s=3,e=16,d=32_2023-02-03_23-16-11/checkpoint-1249/special_tokens_map.json\n",
            "loading file data/output/train_2023-02-03_23-16-11/train_bf9e1d1a_17_s=9223372036854775807,e=1.7893e-05,s=-1,s=3,e=16,d=32_2023-02-03_23-16-11/checkpoint-1249/tokenizer_config.json\n",
            "[flaml.automl: 02-03 23:18:54] {3313} INFO -  at 975.2s,\testimator transformer's best error=0.1491,\tbest estimator transformer's best error=0.1491\n",
            "INFO:flaml.automl: at 975.2s,\testimator transformer's best error=0.1491,\tbest estimator transformer's best error=0.1491\n",
            "[flaml.automl: 02-03 23:18:54] {3133} INFO - iteration 6, current learner transformer\n",
            "INFO:flaml.automl:iteration 6, current learner transformer\n",
            "/usr/local/lib/python3.8/dist-packages/transformers/optimization.py:306: FutureWarning: This implementation of AdamW is deprecated and will be removed in a future version. Use the PyTorch implementation torch.optim.AdamW instead, or set `no_deprecation_warning=True` to disable this warning\n",
            "  warnings.warn(\n"
          ]
        },
        {
          "output_type": "stream",
          "name": "stdout",
          "text": [
            "{'loss': 0.6593, 'learning_rate': 4.3452939856201385e-06, 'epoch': 0.8}\n",
            "{'loss': 0.5039, 'learning_rate': 2.76518708175827e-06, 'epoch': 1.6}\n",
            "{'eval_loss': 0.4587852358818054, 'eval_automl_metric': 0.1834862385321101, 'eval_runtime': 18.1337, 'eval_samples_per_second': 48.087, 'eval_steps_per_second': 48.087, 'epoch': 1.72}\n",
            "{'eval_loss': 0.4587852358818054, 'eval_automl_metric': 0.1834862385321101, 'eval_runtime': 18.1051, 'eval_samples_per_second': 48.163, 'eval_steps_per_second': 48.163, 'epoch': 1.72}\n",
            "{'train_runtime': 98.2134, 'train_samples_per_second': 305.457, 'train_steps_per_second': 19.091, 'train_loss': 0.5717241930098255, 'epoch': 1.72}\n"
          ]
        },
        {
          "output_type": "stream",
          "name": "stderr",
          "text": [
            "***** Running Prediction *****\n",
            "  Num examples = 872\n",
            "  Batch size = 1\n",
            "Didn't find file data/output/train_2023-02-03_23-18-54/train_205f5e5c_18_s=9223372036854775807,e=5.9254e-06,s=-1,s=3,e=16,d=20_2023-02-03_23-18-54/checkpoint-1077/added_tokens.json. We won't load it.\n",
            "loading file data/output/train_2023-02-03_23-18-54/train_205f5e5c_18_s=9223372036854775807,e=5.9254e-06,s=-1,s=3,e=16,d=20_2023-02-03_23-18-54/checkpoint-1077/vocab.txt\n",
            "loading file data/output/train_2023-02-03_23-18-54/train_205f5e5c_18_s=9223372036854775807,e=5.9254e-06,s=-1,s=3,e=16,d=20_2023-02-03_23-18-54/checkpoint-1077/tokenizer.json\n",
            "loading file None\n",
            "loading file data/output/train_2023-02-03_23-18-54/train_205f5e5c_18_s=9223372036854775807,e=5.9254e-06,s=-1,s=3,e=16,d=20_2023-02-03_23-18-54/checkpoint-1077/special_tokens_map.json\n",
            "loading file data/output/train_2023-02-03_23-18-54/train_205f5e5c_18_s=9223372036854775807,e=5.9254e-06,s=-1,s=3,e=16,d=20_2023-02-03_23-18-54/checkpoint-1077/tokenizer_config.json\n",
            "[flaml.automl: 02-03 23:21:26] {3313} INFO -  at 1127.4s,\testimator transformer's best error=0.1491,\tbest estimator transformer's best error=0.1491\n",
            "INFO:flaml.automl: at 1127.4s,\testimator transformer's best error=0.1491,\tbest estimator transformer's best error=0.1491\n",
            "[flaml.automl: 02-03 23:21:26] {3133} INFO - iteration 7, current learner transformer\n",
            "INFO:flaml.automl:iteration 7, current learner transformer\n",
            "/usr/local/lib/python3.8/dist-packages/transformers/optimization.py:306: FutureWarning: This implementation of AdamW is deprecated and will be removed in a future version. Use the PyTorch implementation torch.optim.AdamW instead, or set `no_deprecation_warning=True` to disable this warning\n",
            "  warnings.warn(\n"
          ]
        },
        {
          "output_type": "stream",
          "name": "stdout",
          "text": [
            "{'loss': 0.4949, 'learning_rate': 1.624682269684853e-05, 'epoch': 0.8}\n",
            "{'eval_loss': 0.45531630516052246, 'eval_automl_metric': 0.16628440366972475, 'eval_runtime': 17.1126, 'eval_samples_per_second': 50.956, 'eval_steps_per_second': 50.956, 'epoch': 1.45}\n",
            "{'eval_loss': 0.45531630516052246, 'eval_automl_metric': 0.16628440366972475, 'eval_runtime': 17.8199, 'eval_samples_per_second': 48.934, 'eval_steps_per_second': 48.934, 'epoch': 1.45}\n",
            "{'train_runtime': 85.6593, 'train_samples_per_second': 350.225, 'train_steps_per_second': 21.889, 'train_loss': 0.41743640836570595, 'epoch': 1.45}\n"
          ]
        },
        {
          "output_type": "stream",
          "name": "stderr",
          "text": [
            "***** Running Prediction *****\n",
            "  Num examples = 872\n",
            "  Batch size = 1\n",
            "Didn't find file data/output/train_2023-02-03_23-21-26/train_7b1a4b04_19_s=9223372036854775807,e=2.2155e-05,s=-1,s=3,e=16,d=24_2023-02-03_23-21-26/checkpoint-907/added_tokens.json. We won't load it.\n",
            "loading file data/output/train_2023-02-03_23-21-26/train_7b1a4b04_19_s=9223372036854775807,e=2.2155e-05,s=-1,s=3,e=16,d=24_2023-02-03_23-21-26/checkpoint-907/vocab.txt\n",
            "loading file data/output/train_2023-02-03_23-21-26/train_7b1a4b04_19_s=9223372036854775807,e=2.2155e-05,s=-1,s=3,e=16,d=24_2023-02-03_23-21-26/checkpoint-907/tokenizer.json\n",
            "loading file None\n",
            "loading file data/output/train_2023-02-03_23-21-26/train_7b1a4b04_19_s=9223372036854775807,e=2.2155e-05,s=-1,s=3,e=16,d=24_2023-02-03_23-21-26/checkpoint-907/special_tokens_map.json\n",
            "loading file data/output/train_2023-02-03_23-21-26/train_7b1a4b04_19_s=9223372036854775807,e=2.2155e-05,s=-1,s=3,e=16,d=24_2023-02-03_23-21-26/checkpoint-907/tokenizer_config.json\n",
            "[flaml.automl: 02-03 23:23:44] {3313} INFO -  at 1265.6s,\testimator transformer's best error=0.1491,\tbest estimator transformer's best error=0.1491\n",
            "INFO:flaml.automl: at 1265.6s,\testimator transformer's best error=0.1491,\tbest estimator transformer's best error=0.1491\n",
            "[flaml.automl: 02-03 23:23:44] {3133} INFO - iteration 8, current learner transformer\n",
            "INFO:flaml.automl:iteration 8, current learner transformer\n",
            "/usr/local/lib/python3.8/dist-packages/transformers/optimization.py:306: FutureWarning: This implementation of AdamW is deprecated and will be removed in a future version. Use the PyTorch implementation torch.optim.AdamW instead, or set `no_deprecation_warning=True` to disable this warning\n",
            "  warnings.warn(\n"
          ]
        },
        {
          "output_type": "stream",
          "name": "stdout",
          "text": [
            "{'loss': 0.6603, 'learning_rate': 3.5093698220458912e-06, 'epoch': 0.8}\n",
            "{'eval_loss': 0.5387052297592163, 'eval_automl_metric': 0.19610091743119262, 'eval_runtime': 17.8274, 'eval_samples_per_second': 48.913, 'eval_steps_per_second': 48.913, 'epoch': 1.14}\n",
            "{'eval_loss': 0.5387052297592163, 'eval_automl_metric': 0.19610091743119262, 'eval_runtime': 16.6155, 'eval_samples_per_second': 52.481, 'eval_steps_per_second': 52.481, 'epoch': 1.14}\n",
            "{'train_runtime': 75.0146, 'train_samples_per_second': 399.922, 'train_steps_per_second': 24.995, 'train_loss': 0.6341454626808704, 'epoch': 1.14}\n"
          ]
        },
        {
          "output_type": "stream",
          "name": "stderr",
          "text": [
            "***** Running Prediction *****\n",
            "  Num examples = 872\n",
            "  Batch size = 1\n",
            "Didn't find file data/output/train_2023-02-03_23-23-44/train_cd752d42_20_s=9223372036854775807,e=4.7855e-06,s=-1,s=3,e=16,d=28_2023-02-03_23-23-44/checkpoint-710/added_tokens.json. We won't load it.\n",
            "loading file data/output/train_2023-02-03_23-23-44/train_cd752d42_20_s=9223372036854775807,e=4.7855e-06,s=-1,s=3,e=16,d=28_2023-02-03_23-23-44/checkpoint-710/vocab.txt\n",
            "loading file data/output/train_2023-02-03_23-23-44/train_cd752d42_20_s=9223372036854775807,e=4.7855e-06,s=-1,s=3,e=16,d=28_2023-02-03_23-23-44/checkpoint-710/tokenizer.json\n",
            "loading file None\n",
            "loading file data/output/train_2023-02-03_23-23-44/train_cd752d42_20_s=9223372036854775807,e=4.7855e-06,s=-1,s=3,e=16,d=28_2023-02-03_23-23-44/checkpoint-710/special_tokens_map.json\n",
            "loading file data/output/train_2023-02-03_23-23-44/train_cd752d42_20_s=9223372036854775807,e=4.7855e-06,s=-1,s=3,e=16,d=28_2023-02-03_23-23-44/checkpoint-710/tokenizer_config.json\n",
            "[flaml.automl: 02-03 23:25:51] {3313} INFO -  at 1392.7s,\testimator transformer's best error=0.1491,\tbest estimator transformer's best error=0.1491\n",
            "INFO:flaml.automl: at 1392.7s,\testimator transformer's best error=0.1491,\tbest estimator transformer's best error=0.1491\n",
            "[flaml.automl: 02-03 23:25:51] {3133} INFO - iteration 9, current learner transformer\n",
            "INFO:flaml.automl:iteration 9, current learner transformer\n",
            "/usr/local/lib/python3.8/dist-packages/transformers/optimization.py:306: FutureWarning: This implementation of AdamW is deprecated and will be removed in a future version. Use the PyTorch implementation torch.optim.AdamW instead, or set `no_deprecation_warning=True` to disable this warning\n",
            "  warnings.warn(\n"
          ]
        },
        {
          "output_type": "stream",
          "name": "stdout",
          "text": [
            "{'loss': 0.569, 'learning_rate': 9.889055477492793e-06, 'epoch': 0.12}\n",
            "{'loss': 0.3883, 'learning_rate': 9.481427469352118e-06, 'epoch': 0.24}\n",
            "{'loss': 0.3417, 'learning_rate': 9.073799461211442e-06, 'epoch': 0.36}\n",
            "{'loss': 0.3214, 'learning_rate': 8.666171453070765e-06, 'epoch': 0.48}\n",
            "{'loss': 0.2934, 'learning_rate': 8.25854344493009e-06, 'epoch': 0.59}\n",
            "{'loss': 0.2847, 'learning_rate': 7.850915436789415e-06, 'epoch': 0.71}\n",
            "{'loss': 0.2737, 'learning_rate': 7.443287428648738e-06, 'epoch': 0.83}\n",
            "{'loss': 0.2676, 'learning_rate': 7.035659420508063e-06, 'epoch': 0.95}\n",
            "{'loss': 0.2502, 'learning_rate': 6.628031412367387e-06, 'epoch': 1.07}\n",
            "{'loss': 0.2328, 'learning_rate': 6.220403404226712e-06, 'epoch': 1.19}\n",
            "{'loss': 0.2443, 'learning_rate': 5.812775396086035e-06, 'epoch': 1.31}\n",
            "{'loss': 0.2288, 'learning_rate': 5.405147387945359e-06, 'epoch': 1.43}\n",
            "{'loss': 0.2243, 'learning_rate': 4.997519379804684e-06, 'epoch': 1.54}\n",
            "{'loss': 0.2258, 'learning_rate': 4.589891371664009e-06, 'epoch': 1.66}\n",
            "{'eval_loss': 0.26538023352622986, 'eval_automl_metric': 0.08600917431192656, 'eval_runtime': 16.9998, 'eval_samples_per_second': 51.295, 'eval_steps_per_second': 51.295, 'epoch': 1.72}\n",
            "{'eval_loss': 0.26538023352622986, 'eval_automl_metric': 0.08600917431192656, 'eval_runtime': 17.7922, 'eval_samples_per_second': 49.01, 'eval_steps_per_second': 49.01, 'epoch': 1.72}\n",
            "{'train_runtime': 442.9772, 'train_samples_per_second': 456.111, 'train_steps_per_second': 28.512, 'train_loss': 0.2938054195253237, 'epoch': 1.72}\n"
          ]
        },
        {
          "output_type": "stream",
          "name": "stderr",
          "text": [
            "***** Running Prediction *****\n",
            "  Num examples = 872\n",
            "  Batch size = 1\n",
            "Didn't find file data/output/train_2023-02-03_23-25-51/train_193efac8_21_s=9223372036854775807,e=1.0297e-05,s=-1,s=3,e=16,d=26_2023-02-03_23-25-51/checkpoint-7234/added_tokens.json. We won't load it.\n",
            "loading file data/output/train_2023-02-03_23-25-51/train_193efac8_21_s=9223372036854775807,e=1.0297e-05,s=-1,s=3,e=16,d=26_2023-02-03_23-25-51/checkpoint-7234/vocab.txt\n",
            "loading file data/output/train_2023-02-03_23-25-51/train_193efac8_21_s=9223372036854775807,e=1.0297e-05,s=-1,s=3,e=16,d=26_2023-02-03_23-25-51/checkpoint-7234/tokenizer.json\n",
            "loading file None\n",
            "loading file data/output/train_2023-02-03_23-25-51/train_193efac8_21_s=9223372036854775807,e=1.0297e-05,s=-1,s=3,e=16,d=26_2023-02-03_23-25-51/checkpoint-7234/special_tokens_map.json\n",
            "loading file data/output/train_2023-02-03_23-25-51/train_193efac8_21_s=9223372036854775807,e=1.0297e-05,s=-1,s=3,e=16,d=26_2023-02-03_23-25-51/checkpoint-7234/tokenizer_config.json\n",
            "[flaml.automl: 02-03 23:34:33] {729} WARNING - checkpoint data/output/train_2023-02-03_23-07-18/train_81601676_14_s=9223372036854775807,e=1.0297e-05,s=-1,s=3,e=16,d=26_2023-02-03_23-07-18/checkpoint-1668 not found\n",
            "WARNING:flaml.automl:checkpoint data/output/train_2023-02-03_23-07-18/train_81601676_14_s=9223372036854775807,e=1.0297e-05,s=-1,s=3,e=16,d=26_2023-02-03_23-07-18/checkpoint-1668 not found\n",
            "[flaml.automl: 02-03 23:34:33] {3313} INFO -  at 1914.1s,\testimator transformer's best error=0.0860,\tbest estimator transformer's best error=0.0860\n",
            "INFO:flaml.automl: at 1914.1s,\testimator transformer's best error=0.0860,\tbest estimator transformer's best error=0.0860\n",
            "[flaml.automl: 02-03 23:34:33] {3434} INFO - selected model: None\n",
            "INFO:flaml.automl:selected model: None\n",
            "[flaml.automl: 02-03 23:34:33] {2862} INFO - fit succeeded\n",
            "INFO:flaml.automl:fit succeeded\n",
            "[flaml.automl: 02-03 23:34:33] {2863} INFO - Time taken to find the best model: 1914.0816633701324\n",
            "INFO:flaml.automl:Time taken to find the best model: 1914.0816633701324\n",
            "[flaml.automl: 02-03 23:34:33] {2874} WARNING - Time taken to find the best model is 106% of the provided time budget and not all estimators' hyperparameter search converged. Consider increasing the time budget.\n",
            "WARNING:flaml.automl:Time taken to find the best model is 106% of the provided time budget and not all estimators' hyperparameter search converged. Consider increasing the time budget.\n"
          ]
        }
      ],
      "source": [
        "'''The main flaml automl API'''\n",
        "automl.fit(X_train=X_train, y_train=y_train, X_val=X_val, y_val=y_val, **automl_settings)"
      ]
    },
    {
      "cell_type": "markdown",
      "metadata": {
        "id": "Ehn1SDb5xAH9"
      },
      "source": [
        "The run searched for 9 trials. We can print the best trial's loss, which is 1-the accuracy. The accuracy we got is 91.0% which is close to 91.2% reported by [the Electra model github](https://github.com/google-research/electra). "
      ]
    },
    {
      "cell_type": "code",
      "execution_count": null,
      "metadata": {
        "colab": {
          "base_uri": "https://localhost:8080/"
        },
        "id": "qbTAqBsnTjhG",
        "outputId": "f0ab82a7-1d70-4934-f5cb-f047a3282b4a"
      },
      "outputs": [
        {
          "output_type": "stream",
          "name": "stdout",
          "text": [
            "The best loss by FLAML: 0.9139908256880734\n"
          ]
        }
      ],
      "source": [
        "print(\"The best loss by FLAML: {}\".format(1-automl.best_loss))"
      ]
    },
    {
      "cell_type": "markdown",
      "metadata": {
        "id": "wcO2th5M6AIu"
      },
      "source": [
        "If you have more GPUs on your server, you can use flaml.tune with the ray tune option, which will often give you a better score. For example, with the NVIDIA V100 GPU, the accuracy was 92.2%. For that experiment, you can open this notebook on your GPU server and set \"use_ray\" to {\"local_dir\": \"data/output/\"} and n_concurrent_trials to more than 1. "
      ]
    },
    {
      "cell_type": "markdown",
      "metadata": {
        "id": "QFP5JNdPTjhG"
      },
      "source": [
        "### Best model and metric"
      ]
    },
    {
      "cell_type": "markdown",
      "metadata": {
        "id": "mY07pTY_xlIV"
      },
      "source": [
        "Next, we can print the best hyperparameter and the best score:"
      ]
    },
    {
      "cell_type": "code",
      "execution_count": null,
      "metadata": {
        "colab": {
          "base_uri": "https://localhost:8080/"
        },
        "id": "sbnhP3WrTjhG",
        "outputId": "db743525-bbcb-4877-8d4f-28e9832e0179"
      },
      "outputs": [
        {
          "output_type": "stream",
          "name": "stdout",
          "text": [
            "Best hyperparmeter config: {'learning_rate': 1.0296683485633468e-05, 'num_train_epochs': 3, 'per_device_train_batch_size': 16, 'seed': 26, 'global_max_steps': 7234, 'FLAML_sample_size': 67349}\n",
            "Best accuracy on validation data: 0.914\n",
            "Training duration of best run: 521.3 s\n"
          ]
        }
      ],
      "source": [
        "'''retrieve best config and best learner'''\n",
        "print('Best hyperparmeter config:', automl.best_config)\n",
        "print('Best accuracy on validation data: {0:.4g}'.format(1-automl.best_loss))\n",
        "print('Training duration of best run: {0:.4g} s'.format(automl.best_config_train_time))"
      ]
    },
    {
      "cell_type": "markdown",
      "source": [
        "Save and load the model:"
      ],
      "metadata": {
        "id": "MqIpmxl0dKWu"
      }
    },
    {
      "cell_type": "code",
      "source": [
        "import pickle\n",
        "automl.pickle(\"automl.pkl\")\n",
        "\n",
        "with open(\"automl.pkl\", \"rb\") as f:\n",
        "    automl = pickle.load(f)"
      ],
      "metadata": {
        "id": "gfUNXfcNTBA2"
      },
      "execution_count": null,
      "outputs": []
    },
    {
      "cell_type": "markdown",
      "metadata": {
        "id": "6mdBURdexxJS"
      },
      "source": [
        "Run the prediction:\n",
        "\n",
        "\n"
      ]
    },
    {
      "cell_type": "code",
      "execution_count": null,
      "metadata": {
        "colab": {
          "base_uri": "https://localhost:8080/"
        },
        "id": "kRl7pnEKTjhH",
        "outputId": "83d95983-cd96-4b39-87b9-4be4083cb857",
        "scrolled": true
      },
      "outputs": [
        {
          "output_type": "stream",
          "name": "stderr",
          "text": [
            "***** Running Prediction *****\n",
            "  Num examples = 872\n",
            "  Batch size = 1\n",
            "Didn't find file data/output/train_2023-02-03_23-25-51/train_193efac8_21_s=9223372036854775807,e=1.0297e-05,s=-1,s=3,e=16,d=26_2023-02-03_23-25-51/checkpoint-7234/added_tokens.json. We won't load it.\n",
            "loading file data/output/train_2023-02-03_23-25-51/train_193efac8_21_s=9223372036854775807,e=1.0297e-05,s=-1,s=3,e=16,d=26_2023-02-03_23-25-51/checkpoint-7234/vocab.txt\n",
            "loading file data/output/train_2023-02-03_23-25-51/train_193efac8_21_s=9223372036854775807,e=1.0297e-05,s=-1,s=3,e=16,d=26_2023-02-03_23-25-51/checkpoint-7234/tokenizer.json\n",
            "loading file None\n",
            "loading file data/output/train_2023-02-03_23-25-51/train_193efac8_21_s=9223372036854775807,e=1.0297e-05,s=-1,s=3,e=16,d=26_2023-02-03_23-25-51/checkpoint-7234/special_tokens_map.json\n",
            "loading file data/output/train_2023-02-03_23-25-51/train_193efac8_21_s=9223372036854775807,e=1.0297e-05,s=-1,s=3,e=16,d=26_2023-02-03_23-25-51/checkpoint-7234/tokenizer_config.json\n"
          ]
        },
        {
          "output_type": "stream",
          "name": "stdout",
          "text": [
            "Predicted labels [1 0 1 1 0 1 0 0 1 0 1 0 0 0 0 1 1 1 0 0 0 0 0 1 1 0 0 1 0 0 1 0 1 0 0 0 1\n",
            " 0 1 1 1 1 1 1 0 0 0 1 1 0 0 1 1 1 0 1 0 0 0 0 1 0 1 1 1 0 1 1 1 0 0 1 1 0\n",
            " 0 1 0 1 1 0 1 0 0 0 1 1 0 1 1 1 1 1 1 0 1 1 0 1 0 0 1 0 1 1 1 0 1 0 0 1 0\n",
            " 0 0 0 1 1 1 1 1 0 1 1 1 0 1 1 0 0 1 1 0 0 1 0 0 0 0 0 1 0 0 0 1 1 0 0 1 0\n",
            " 0 1 1 1 1 0 1 0 1 0 0 1 0 0 0 0 1 0 0 0 1 1 1 0 1 1 1 1 1 0 0 1 0 0 0 1 0\n",
            " 1 1 1 0 0 0 1 1 1 0 1 1 0 1 0 1 1 0 0 1 0 1 1 0 0 1 0 0 0 0 1 1 0 1 1 1 0\n",
            " 1 1 1 1 0 1 1 0 1 1 0 0 1 1 1 0 0 1 1 0 0 1 1 1 1 0 0 1 1 0 1 1 0 0 0 0 0\n",
            " 1 0 1 0 1 0 0 0 0 0 1 1 0 0 0 1 1 1 1 0 1 1 0 0 1 0 0 1 1 1 1 1 0 1 1 1 1\n",
            " 0 1 0 1 1 1 1 1 1 0 1 1 1 1 1 1 0 1 1 0 1 1 0 0 1 0 0 1 0 1 1 1 0 0 0 1 1\n",
            " 1 1 0 1 0 0 1 0 1 0 0 1 1 0 0 0 0 0 1 1 1 1 0 0 0 1 1 1 0 1 0 0 0 1 1 0 1\n",
            " 0 1 1 0 0 0 0 0 0 0 0 1 0 1 0 0 1 1 0 1 0 0 0 1 1 0 1 1 1 0 1 1 0 0 1 0 1\n",
            " 0 0 0 1 1 0 0 1 1 1 1 1 0 0 1 0 0 1 1 1 1 1 0 1 0 0 1 0 1 0 1 1 1 1 0 0 1\n",
            " 0 1 1 1 0 1 1 1 0 1 0 1 0 1 1 1 1 0 0 0 1 0 1 1 1 0 1 0 1 1 0 1 0 0 0 1 1\n",
            " 0 1 1 1 1 0 0 1 0 0 0 1 0 1 0 1 0 1 1 0 0 0 0 1 1 1 1 1 1 1 1 0 0 1 0 0 1\n",
            " 1 1 1 0 0 1 1 1 0 1 0 0 1 0 1 1 1 1 0 1 0 0 1 1 0 0 1 1 0 0 0 0 0 0 0 1 0\n",
            " 0 0 1 1 0 0 0 0 1 0 1 0 1 0 1 1 0 0 1 0 0 0 1 0 0 0 0 0 0 0 0 0 0 1 1 0 0\n",
            " 0 1 1 0 0 0 0 0 1 0 1 1 1 1 0 1 1 1 0 1 0 1 1 0 1 0 1 0 0 1 1 1 1 1 1 0 1\n",
            " 0 1 0 0 1 0 0 1 0 1 0 1 1 0 0 1 0 1 0 1 0 0 0 0 0 0 1 0 0 1 0 1 0 0 1 1 1\n",
            " 1 0 0 1 0 1 0 0 1 1 0 1 1 1 1 0 0 1 1 0 1 0 0 0 0 1 0 0 0 1 1 1 1 0 0 0 0\n",
            " 0 0 0 0 0 1 0 0 0 0 0 1 0 0 1 1 0 1 1 0 1 1 1 1 0 1 1 0 0 0 1 0 0 1 1 1 1\n",
            " 1 0 1 0 1 0 1 1 0 1 0 0 0 1 1 1 0 0 1 0 0 0 1 1 0 0 1 1 1 1 0 1 1 1 0 0 0\n",
            " 1 1 0 1 0 1 1 1 1 0 0 1 0 0 1 1 1 1 0 1 0 0 1 0 0 0 1 0 1 1 1 1 1 1 0 1 0\n",
            " 0 1 1 1 0 0 1 1 0 1 0 1 1 0 0 1 1 1 1 0 1 1 0 1 0 0 0 1 0 0 0 0 1 1 1 0 0\n",
            " 0 0 1 0 1 1 1 1 1 1 1 1 1 0 0 1 1 1 0 0 1]\n"
          ]
        }
      ],
      "source": [
        "'''compute predictions of testing dataset''' \n",
        "y_pred = automl.predict(X_val, **{\"per_device_eval_batch_size\": 1})\n",
        "print('Predicted labels', y_pred)"
      ]
    },
    {
      "cell_type": "markdown",
      "metadata": {
        "id": "QThcVssKTjhH"
      },
      "source": [
        "### Log history"
      ]
    },
    {
      "cell_type": "markdown",
      "metadata": {
        "id": "OEFqWAuLyYIQ"
      },
      "source": [
        "You can also save and plot the history:"
      ]
    },
    {
      "cell_type": "code",
      "execution_count": null,
      "metadata": {
        "colab": {
          "base_uri": "https://localhost:8080/"
        },
        "id": "58wpj4vPTjhH",
        "outputId": "1a245432-541c-4e13-dc2b-dcb0c33a0e9c"
      },
      "outputs": [
        {
          "output_type": "stream",
          "name": "stdout",
          "text": [
            "{'Current Learner': 'transformer', 'Current Sample': 10000, 'Current Hyper-parameters': {'learning_rate': 9.999999999999999e-06, 'num_train_epochs': 3, 'per_device_train_batch_size': 32, 'seed': 20, 'global_max_steps': 939, 'FLAML_sample_size': 10000}, 'Best Learner': 'transformer', 'Best Hyper-parameters': {'learning_rate': 9.999999999999999e-06, 'num_train_epochs': 3, 'per_device_train_batch_size': 32, 'seed': 20, 'global_max_steps': 939, 'FLAML_sample_size': 10000}}\n",
            "{'Current Learner': 'transformer', 'Current Sample': 10000, 'Current Hyper-parameters': {'learning_rate': 9.711865003865157e-06, 'num_train_epochs': 3, 'per_device_train_batch_size': 64, 'seed': 14, 'global_max_steps': 471, 'FLAML_sample_size': 10000}, 'Best Learner': 'transformer', 'Best Hyper-parameters': {'learning_rate': 9.999999999999999e-06, 'num_train_epochs': 3, 'per_device_train_batch_size': 32, 'seed': 20, 'global_max_steps': 939, 'FLAML_sample_size': 10000}}\n",
            "{'Current Learner': 'transformer', 'Current Sample': 10000, 'Current Hyper-parameters': {'learning_rate': 1.0296683485633468e-05, 'num_train_epochs': 3, 'per_device_train_batch_size': 16, 'seed': 26, 'global_max_steps': 1668, 'FLAML_sample_size': 10000}, 'Best Learner': 'transformer', 'Best Hyper-parameters': {'learning_rate': 1.0296683485633468e-05, 'num_train_epochs': 3, 'per_device_train_batch_size': 16, 'seed': 26, 'global_max_steps': 1668, 'FLAML_sample_size': 10000}}\n",
            "{'Current Learner': 'transformer', 'Current Sample': 10000, 'Current Hyper-parameters': {'learning_rate': 1.4799994583688665e-05, 'num_train_epochs': 2, 'per_device_train_batch_size': 16, 'seed': 25, 'global_max_steps': 1250, 'FLAML_sample_size': 10000}, 'Best Learner': 'transformer', 'Best Hyper-parameters': {'learning_rate': 1.0296683485633468e-05, 'num_train_epochs': 3, 'per_device_train_batch_size': 16, 'seed': 26, 'global_max_steps': 1668, 'FLAML_sample_size': 10000}}\n",
            "{'Current Learner': 'transformer', 'Current Sample': 10000, 'Current Hyper-parameters': {'learning_rate': 7.163630378633069e-06, 'num_train_epochs': 4, 'per_device_train_batch_size': 16, 'seed': 27, 'global_max_steps': 1517, 'FLAML_sample_size': 10000}, 'Best Learner': 'transformer', 'Best Hyper-parameters': {'learning_rate': 1.0296683485633468e-05, 'num_train_epochs': 3, 'per_device_train_batch_size': 16, 'seed': 26, 'global_max_steps': 1668, 'FLAML_sample_size': 10000}}\n",
            "{'Current Learner': 'transformer', 'Current Sample': 10000, 'Current Hyper-parameters': {'learning_rate': 1.789274561853069e-05, 'num_train_epochs': 3, 'per_device_train_batch_size': 16, 'seed': 32, 'global_max_steps': 1249, 'FLAML_sample_size': 10000}, 'Best Learner': 'transformer', 'Best Hyper-parameters': {'learning_rate': 1.0296683485633468e-05, 'num_train_epochs': 3, 'per_device_train_batch_size': 16, 'seed': 26, 'global_max_steps': 1668, 'FLAML_sample_size': 10000}}\n",
            "{'Current Learner': 'transformer', 'Current Sample': 10000, 'Current Hyper-parameters': {'learning_rate': 5.925400889482007e-06, 'num_train_epochs': 3, 'per_device_train_batch_size': 16, 'seed': 20, 'global_max_steps': 1077, 'FLAML_sample_size': 10000}, 'Best Learner': 'transformer', 'Best Hyper-parameters': {'learning_rate': 1.0296683485633468e-05, 'num_train_epochs': 3, 'per_device_train_batch_size': 16, 'seed': 26, 'global_max_steps': 1668, 'FLAML_sample_size': 10000}}\n",
            "{'Current Learner': 'transformer', 'Current Sample': 10000, 'Current Hyper-parameters': {'learning_rate': 2.215475822297527e-05, 'num_train_epochs': 3, 'per_device_train_batch_size': 16, 'seed': 24, 'global_max_steps': 907, 'FLAML_sample_size': 10000}, 'Best Learner': 'transformer', 'Best Hyper-parameters': {'learning_rate': 1.0296683485633468e-05, 'num_train_epochs': 3, 'per_device_train_batch_size': 16, 'seed': 26, 'global_max_steps': 1668, 'FLAML_sample_size': 10000}}\n",
            "{'Current Learner': 'transformer', 'Current Sample': 10000, 'Current Hyper-parameters': {'learning_rate': 4.785504302789852e-06, 'num_train_epochs': 3, 'per_device_train_batch_size': 16, 'seed': 28, 'global_max_steps': 710, 'FLAML_sample_size': 10000}, 'Best Learner': 'transformer', 'Best Hyper-parameters': {'learning_rate': 1.0296683485633468e-05, 'num_train_epochs': 3, 'per_device_train_batch_size': 16, 'seed': 26, 'global_max_steps': 1668, 'FLAML_sample_size': 10000}}\n",
            "{'Current Learner': 'transformer', 'Current Sample': 67349, 'Current Hyper-parameters': {'learning_rate': 1.0296683485633468e-05, 'num_train_epochs': 3, 'per_device_train_batch_size': 16, 'seed': 26, 'global_max_steps': 7234, 'FLAML_sample_size': 67349}, 'Best Learner': 'transformer', 'Best Hyper-parameters': {'learning_rate': 1.0296683485633468e-05, 'num_train_epochs': 3, 'per_device_train_batch_size': 16, 'seed': 26, 'global_max_steps': 7234, 'FLAML_sample_size': 67349}}\n"
          ]
        }
      ],
      "source": [
        "from flaml.data import get_output_from_log\n",
        "time_history, best_valid_loss_history, valid_loss_history, config_history, metric_history = \\\n",
        "    get_output_from_log(filename=automl_settings['log_file_name'], time_budget=3000)\n",
        "for config in config_history:\n",
        "    print(config)"
      ]
    },
    {
      "cell_type": "code",
      "execution_count": null,
      "metadata": {
        "colab": {
          "base_uri": "https://localhost:8080/",
          "height": 312
        },
        "id": "dtWSrLsdTjhH",
        "outputId": "8de6480d-3c16-4087-bd87-2b051004a490"
      },
      "outputs": [
        {
          "output_type": "stream",
          "name": "stdout",
          "text": [
            "10\n"
          ]
        },
        {
          "output_type": "display_data",
          "data": {
            "text/plain": [
              "<Figure size 432x288 with 1 Axes>"
            ],
            "image/png": "[encoded data removed]"
          },
          "metadata": {
            "needs_background": "light"
          }
        }
      ],
      "source": [
        "import matplotlib.pyplot as plt\n",
        "import numpy as np\n",
        "\n",
        "plt.title('Learning Curve')\n",
        "plt.xlabel('Wall Clock Time (s)')\n",
        "plt.ylabel('Validation Accuracy')\n",
        "print(len(valid_loss_history))\n",
        "plt.scatter(time_history, 1 - np.array(valid_loss_history))\n",
        "plt.step(time_history, 1 - np.array(best_valid_loss_history), where='post')\n",
        "plt.show()"
      ]
    },
    {
      "cell_type": "markdown",
      "metadata": {
        "id": "xudzM73mTjhI"
      },
      "source": [
        "## 3. Model selection"
      ]
    },
    {
      "cell_type": "markdown",
      "metadata": {
        "id": "A3gC3u_E4cO1"
      },
      "source": [
        "Given a dataset, which language model should you use for the fine tuning? It appears this is a simple question: just choose the best model according to the benchmarks such as [GLUE](https://gluebenchmark.com/leaderboard). However, we will see that under the resource constraints, the model selection is non trivial. \n",
        "\n",
        "In this example, we will tune the [spooky-author-identification](https://www.kaggle.com/competitions/spooky-author-identification/data?select=train.zip) dataset from kaggle. You can download the dataset from the [here](https://drive.google.com/file/d/1Jk-_Vg_SxOUDfFVzF7S85oBasY8fFvOY/view?usp=sharing) and upload it to Colab. We run FLAML for 30 mins using bert."
      ]
    },
    {
      "cell_type": "code",
      "execution_count": null,
      "metadata": {
        "colab": {
          "base_uri": "https://localhost:8080/"
        },
        "id": "HjvdojhfTjhI",
        "outputId": "c55ee39f-ff5b-4398-8184-c3db2e6d84be"
      },
      "outputs": [
        {
          "output_type": "stream",
          "name": "stderr",
          "text": [
            "[flaml.automl: 02-04 14:48:51] {2565} INFO - task = seq-classification\n",
            "INFO:flaml.automl:task = seq-classification\n",
            "[flaml.automl: 02-04 14:48:51] {2567} INFO - Data split method: stratified\n",
            "INFO:flaml.automl:Data split method: stratified\n",
            "[flaml.automl: 02-04 14:48:51] {2570} INFO - Evaluation method: holdout\n",
            "INFO:flaml.automl:Evaluation method: holdout\n",
            "[flaml.automl: 02-04 14:48:51] {2689} INFO - Minimizing error metric: 1-accuracy\n",
            "INFO:flaml.automl:Minimizing error metric: 1-accuracy\n",
            "[flaml.automl: 02-04 14:48:51] {2831} INFO - List of ML learners in AutoML Run: ['transformer']\n",
            "INFO:flaml.automl:List of ML learners in AutoML Run: ['transformer']\n",
            "[flaml.automl: 02-04 14:48:51] {3133} INFO - iteration 0, current learner transformer\n",
            "INFO:flaml.automl:iteration 0, current learner transformer\n",
            "/usr/local/lib/python3.8/dist-packages/transformers/optimization.py:306: FutureWarning: This implementation of AdamW is deprecated and will be removed in a future version. Use the PyTorch implementation torch.optim.AdamW instead, or set `no_deprecation_warning=True` to disable this warning\n",
            "  warnings.warn(\n"
          ]
        },
        {
          "output_type": "stream",
          "name": "stdout",
          "text": [
            "{'eval_loss': 0.8727557063102722, 'eval_automl_metric': 0.3628192032686415, 'eval_runtime': 71.3358, 'eval_samples_per_second': 68.619, 'eval_steps_per_second': 68.619, 'epoch': 0.3}\n",
            "{'train_runtime': 152.2333, 'train_samples_per_second': 28.937, 'train_steps_per_second': 0.907, 'train_loss': 0.9736662049224412, 'epoch': 0.3}\n"
          ]
        },
        {
          "output_type": "stream",
          "name": "stderr",
          "text": [
            "The following columns in the test set  don't have a corresponding argument in `BertForSequenceClassification.forward` and have been ignored: __index_level_0__. If __index_level_0__ are not expected by `BertForSequenceClassification.forward`,  you can safely ignore this message.\n",
            "***** Running Prediction *****\n",
            "  Num examples = 4895\n",
            "  Batch size = 1\n",
            "Didn't find file data/output/train_2023-02-04_14-48-51/train_0a66475a_14_s=9223372036854775807,e=1e-05,s=-1,s=0.3,e=32,d=20_2023-02-04_14-48-51/checkpoint-138/added_tokens.json. We won't load it.\n",
            "loading file data/output/train_2023-02-04_14-48-51/train_0a66475a_14_s=9223372036854775807,e=1e-05,s=-1,s=0.3,e=32,d=20_2023-02-04_14-48-51/checkpoint-138/vocab.txt\n",
            "loading file data/output/train_2023-02-04_14-48-51/train_0a66475a_14_s=9223372036854775807,e=1e-05,s=-1,s=0.3,e=32,d=20_2023-02-04_14-48-51/checkpoint-138/tokenizer.json\n",
            "loading file None\n",
            "loading file data/output/train_2023-02-04_14-48-51/train_0a66475a_14_s=9223372036854775807,e=1e-05,s=-1,s=0.3,e=32,d=20_2023-02-04_14-48-51/checkpoint-138/special_tokens_map.json\n",
            "loading file data/output/train_2023-02-04_14-48-51/train_0a66475a_14_s=9223372036854775807,e=1e-05,s=-1,s=0.3,e=32,d=20_2023-02-04_14-48-51/checkpoint-138/tokenizer_config.json\n",
            "[flaml.automl: 02-04 14:53:13] {3266} INFO - Estimated sufficient time budget=2611333s. Estimated necessary time budget=2611s.\n",
            "INFO:flaml.automl:Estimated sufficient time budget=2611333s. Estimated necessary time budget=2611s.\n",
            "[flaml.automl: 02-04 14:53:13] {3313} INFO -  at 261.2s,\testimator transformer's best error=0.3628,\tbest estimator transformer's best error=0.3628\n",
            "INFO:flaml.automl: at 261.2s,\testimator transformer's best error=0.3628,\tbest estimator transformer's best error=0.3628\n",
            "[flaml.automl: 02-04 14:53:13] {3133} INFO - iteration 1, current learner transformer\n",
            "INFO:flaml.automl:iteration 1, current learner transformer\n",
            "/usr/local/lib/python3.8/dist-packages/transformers/optimization.py:306: FutureWarning: This implementation of AdamW is deprecated and will be removed in a future version. Use the PyTorch implementation torch.optim.AdamW instead, or set `no_deprecation_warning=True` to disable this warning\n",
            "  warnings.warn(\n"
          ]
        },
        {
          "output_type": "stream",
          "name": "stdout",
          "text": [
            "{'eval_loss': 0.9410160183906555, 'eval_automl_metric': 0.44596527068437186, 'eval_runtime': 68.3436, 'eval_samples_per_second': 71.623, 'eval_steps_per_second': 71.623, 'epoch': 0.3}\n",
            "{'train_runtime': 154.8779, 'train_samples_per_second': 28.443, 'train_steps_per_second': 0.446, 'train_loss': 1.0090055603911912, 'epoch': 0.3}\n"
          ]
        },
        {
          "output_type": "stream",
          "name": "stderr",
          "text": [
            "The following columns in the test set  don't have a corresponding argument in `BertForSequenceClassification.forward` and have been ignored: __index_level_0__. If __index_level_0__ are not expected by `BertForSequenceClassification.forward`,  you can safely ignore this message.\n",
            "***** Running Prediction *****\n",
            "  Num examples = 4895\n",
            "  Batch size = 1\n",
            "Didn't find file data/output/train_2023-02-04_14-53-13/train_a60f5c78_15_s=9223372036854775807,e=9.7119e-06,s=-1,s=0.3,e=64,d=14_2023-02-04_14-53-13/checkpoint-69/added_tokens.json. We won't load it.\n",
            "loading file data/output/train_2023-02-04_14-53-13/train_a60f5c78_15_s=9223372036854775807,e=9.7119e-06,s=-1,s=0.3,e=64,d=14_2023-02-04_14-53-13/checkpoint-69/vocab.txt\n",
            "loading file data/output/train_2023-02-04_14-53-13/train_a60f5c78_15_s=9223372036854775807,e=9.7119e-06,s=-1,s=0.3,e=64,d=14_2023-02-04_14-53-13/checkpoint-69/tokenizer.json\n",
            "loading file None\n",
            "loading file data/output/train_2023-02-04_14-53-13/train_a60f5c78_15_s=9223372036854775807,e=9.7119e-06,s=-1,s=0.3,e=64,d=14_2023-02-04_14-53-13/checkpoint-69/special_tokens_map.json\n",
            "loading file data/output/train_2023-02-04_14-53-13/train_a60f5c78_15_s=9223372036854775807,e=9.7119e-06,s=-1,s=0.3,e=64,d=14_2023-02-04_14-53-13/checkpoint-69/tokenizer_config.json\n",
            "[flaml.automl: 02-04 14:57:35] {3313} INFO -  at 523.2s,\testimator transformer's best error=0.3628,\tbest estimator transformer's best error=0.3628\n",
            "INFO:flaml.automl: at 523.2s,\testimator transformer's best error=0.3628,\tbest estimator transformer's best error=0.3628\n",
            "[flaml.automl: 02-04 14:57:35] {3133} INFO - iteration 2, current learner transformer\n",
            "INFO:flaml.automl:iteration 2, current learner transformer\n",
            "/usr/local/lib/python3.8/dist-packages/transformers/optimization.py:306: FutureWarning: This implementation of AdamW is deprecated and will be removed in a future version. Use the PyTorch implementation torch.optim.AdamW instead, or set `no_deprecation_warning=True` to disable this warning\n",
            "  warnings.warn(\n"
          ]
        },
        {
          "output_type": "stream",
          "name": "stdout",
          "text": [
            "{'eval_loss': 0.7713562846183777, 'eval_automl_metric': 0.30561797752808983, 'eval_runtime': 69.2028, 'eval_samples_per_second': 70.734, 'eval_steps_per_second': 70.734, 'epoch': 0.3}\n",
            "{'train_runtime': 146.5147, 'train_samples_per_second': 30.067, 'train_steps_per_second': 1.884, 'train_loss': 0.9087791442871094, 'epoch': 0.3}\n"
          ]
        },
        {
          "output_type": "stream",
          "name": "stderr",
          "text": [
            "The following columns in the test set  don't have a corresponding argument in `BertForSequenceClassification.forward` and have been ignored: __index_level_0__. If __index_level_0__ are not expected by `BertForSequenceClassification.forward`,  you can safely ignore this message.\n",
            "***** Running Prediction *****\n",
            "  Num examples = 4895\n",
            "  Batch size = 1\n",
            "Didn't find file data/output/train_2023-02-04_14-57-35/train_424d30b0_16_s=9223372036854775807,e=1.0297e-05,s=-1,s=0.3,e=16,d=26_2023-02-04_14-57-35/checkpoint-276/added_tokens.json. We won't load it.\n",
            "loading file data/output/train_2023-02-04_14-57-35/train_424d30b0_16_s=9223372036854775807,e=1.0297e-05,s=-1,s=0.3,e=16,d=26_2023-02-04_14-57-35/checkpoint-276/vocab.txt\n",
            "loading file data/output/train_2023-02-04_14-57-35/train_424d30b0_16_s=9223372036854775807,e=1.0297e-05,s=-1,s=0.3,e=16,d=26_2023-02-04_14-57-35/checkpoint-276/tokenizer.json\n",
            "loading file None\n",
            "loading file data/output/train_2023-02-04_14-57-35/train_424d30b0_16_s=9223372036854775807,e=1.0297e-05,s=-1,s=0.3,e=16,d=26_2023-02-04_14-57-35/checkpoint-276/special_tokens_map.json\n",
            "loading file data/output/train_2023-02-04_14-57-35/train_424d30b0_16_s=9223372036854775807,e=1.0297e-05,s=-1,s=0.3,e=16,d=26_2023-02-04_14-57-35/checkpoint-276/tokenizer_config.json\n",
            "[flaml.automl: 02-04 15:01:48] {729} WARNING - checkpoint data/output/train_2023-02-04_14-48-51/train_0a66475a_14_s=9223372036854775807,e=1e-05,s=-1,s=0.3,e=32,d=20_2023-02-04_14-48-51/checkpoint-138 not found\n",
            "WARNING:flaml.automl:checkpoint data/output/train_2023-02-04_14-48-51/train_0a66475a_14_s=9223372036854775807,e=1e-05,s=-1,s=0.3,e=32,d=20_2023-02-04_14-48-51/checkpoint-138 not found\n",
            "[flaml.automl: 02-04 15:01:48] {3313} INFO -  at 776.4s,\testimator transformer's best error=0.3056,\tbest estimator transformer's best error=0.3056\n",
            "INFO:flaml.automl: at 776.4s,\testimator transformer's best error=0.3056,\tbest estimator transformer's best error=0.3056\n",
            "[flaml.automl: 02-04 15:01:48] {3133} INFO - iteration 3, current learner transformer\n",
            "INFO:flaml.automl:iteration 3, current learner transformer\n",
            "/usr/local/lib/python3.8/dist-packages/transformers/optimization.py:306: FutureWarning: This implementation of AdamW is deprecated and will be removed in a future version. Use the PyTorch implementation torch.optim.AdamW instead, or set `no_deprecation_warning=True` to disable this warning\n",
            "  warnings.warn(\n"
          ]
        },
        {
          "output_type": "stream",
          "name": "stdout",
          "text": [
            "{'eval_loss': 0.707525908946991, 'eval_automl_metric': 0.27170582226761997, 'eval_runtime': 69.6641, 'eval_samples_per_second': 70.266, 'eval_steps_per_second': 70.266, 'epoch': 0.3}\n",
            "{'train_runtime': 144.8029, 'train_samples_per_second': 30.422, 'train_steps_per_second': 1.906, 'train_loss': 0.8718066008194633, 'epoch': 0.3}\n"
          ]
        },
        {
          "output_type": "stream",
          "name": "stderr",
          "text": [
            "The following columns in the test set  don't have a corresponding argument in `BertForSequenceClassification.forward` and have been ignored: __index_level_0__. If __index_level_0__ are not expected by `BertForSequenceClassification.forward`,  you can safely ignore this message.\n",
            "***** Running Prediction *****\n",
            "  Num examples = 4895\n",
            "  Batch size = 1\n",
            "Didn't find file data/output/train_2023-02-04_15-01-48/train_d9314d36_17_s=9223372036854775807,e=1.48e-05,s=-1,s=0.3,e=16,d=25_2023-02-04_15-01-48/checkpoint-276/added_tokens.json. We won't load it.\n",
            "loading file data/output/train_2023-02-04_15-01-48/train_d9314d36_17_s=9223372036854775807,e=1.48e-05,s=-1,s=0.3,e=16,d=25_2023-02-04_15-01-48/checkpoint-276/vocab.txt\n",
            "loading file data/output/train_2023-02-04_15-01-48/train_d9314d36_17_s=9223372036854775807,e=1.48e-05,s=-1,s=0.3,e=16,d=25_2023-02-04_15-01-48/checkpoint-276/tokenizer.json\n",
            "loading file None\n",
            "loading file data/output/train_2023-02-04_15-01-48/train_d9314d36_17_s=9223372036854775807,e=1.48e-05,s=-1,s=0.3,e=16,d=25_2023-02-04_15-01-48/checkpoint-276/special_tokens_map.json\n",
            "loading file data/output/train_2023-02-04_15-01-48/train_d9314d36_17_s=9223372036854775807,e=1.48e-05,s=-1,s=0.3,e=16,d=25_2023-02-04_15-01-48/checkpoint-276/tokenizer_config.json\n",
            "[flaml.automl: 02-04 15:05:59] {729} WARNING - checkpoint data/output/train_2023-02-04_14-57-35/train_424d30b0_16_s=9223372036854775807,e=1.0297e-05,s=-1,s=0.3,e=16,d=26_2023-02-04_14-57-35/checkpoint-276 not found\n",
            "WARNING:flaml.automl:checkpoint data/output/train_2023-02-04_14-57-35/train_424d30b0_16_s=9223372036854775807,e=1.0297e-05,s=-1,s=0.3,e=16,d=26_2023-02-04_14-57-35/checkpoint-276 not found\n",
            "[flaml.automl: 02-04 15:05:59] {3313} INFO -  at 1027.9s,\testimator transformer's best error=0.2717,\tbest estimator transformer's best error=0.2717\n",
            "INFO:flaml.automl: at 1027.9s,\testimator transformer's best error=0.2717,\tbest estimator transformer's best error=0.2717\n",
            "[flaml.automl: 02-04 15:05:59] {3133} INFO - iteration 4, current learner transformer\n",
            "INFO:flaml.automl:iteration 4, current learner transformer\n",
            "/usr/local/lib/python3.8/dist-packages/transformers/optimization.py:306: FutureWarning: This implementation of AdamW is deprecated and will be removed in a future version. Use the PyTorch implementation torch.optim.AdamW instead, or set `no_deprecation_warning=True` to disable this warning\n",
            "  warnings.warn(\n"
          ]
        },
        {
          "output_type": "stream",
          "name": "stdout",
          "text": [
            "{'loss': 0.756, 'learning_rate': 4.6884680795150215e-06, 'epoch': 0.54}\n",
            "{'eval_loss': 0.4841633141040802, 'eval_automl_metric': 0.18386108273748725, 'eval_runtime': 67.7555, 'eval_samples_per_second': 72.245, 'eval_steps_per_second': 72.245, 'epoch': 1.0}\n",
            "{'train_runtime': 317.666, 'train_samples_per_second': 46.225, 'train_steps_per_second': 2.89, 'train_loss': 0.6495356009157135, 'epoch': 1.0}\n"
          ]
        },
        {
          "output_type": "stream",
          "name": "stderr",
          "text": [
            "The following columns in the test set  don't have a corresponding argument in `BertForSequenceClassification.forward` and have been ignored: __index_level_0__. If __index_level_0__ are not expected by `BertForSequenceClassification.forward`,  you can safely ignore this message.\n",
            "***** Running Prediction *****\n",
            "  Num examples = 4895\n",
            "  Batch size = 1\n",
            "Didn't find file data/output/train_2023-02-04_15-05-59/train_6f1c5444_18_s=9223372036854775807,e=1.0297e-05,s=-1,s=1,e=16,d=26_2023-02-04_15-05-59/checkpoint-918/added_tokens.json. We won't load it.\n",
            "loading file data/output/train_2023-02-04_15-05-59/train_6f1c5444_18_s=9223372036854775807,e=1.0297e-05,s=-1,s=1,e=16,d=26_2023-02-04_15-05-59/checkpoint-918/vocab.txt\n",
            "loading file data/output/train_2023-02-04_15-05-59/train_6f1c5444_18_s=9223372036854775807,e=1.0297e-05,s=-1,s=1,e=16,d=26_2023-02-04_15-05-59/checkpoint-918/tokenizer.json\n",
            "loading file None\n",
            "loading file data/output/train_2023-02-04_15-05-59/train_6f1c5444_18_s=9223372036854775807,e=1.0297e-05,s=-1,s=1,e=16,d=26_2023-02-04_15-05-59/checkpoint-918/special_tokens_map.json\n",
            "loading file data/output/train_2023-02-04_15-05-59/train_6f1c5444_18_s=9223372036854775807,e=1.0297e-05,s=-1,s=1,e=16,d=26_2023-02-04_15-05-59/checkpoint-918/tokenizer_config.json\n",
            "[flaml.automl: 02-04 15:13:05] {729} WARNING - checkpoint data/output/train_2023-02-04_15-01-48/train_d9314d36_17_s=9223372036854775807,e=1.48e-05,s=-1,s=0.3,e=16,d=25_2023-02-04_15-01-48/checkpoint-276 not found\n",
            "WARNING:flaml.automl:checkpoint data/output/train_2023-02-04_15-01-48/train_d9314d36_17_s=9223372036854775807,e=1.48e-05,s=-1,s=0.3,e=16,d=25_2023-02-04_15-01-48/checkpoint-276 not found\n",
            "[flaml.automl: 02-04 15:13:05] {3313} INFO -  at 1453.2s,\testimator transformer's best error=0.1839,\tbest estimator transformer's best error=0.1839\n",
            "INFO:flaml.automl: at 1453.2s,\testimator transformer's best error=0.1839,\tbest estimator transformer's best error=0.1839\n",
            "[flaml.automl: 02-04 15:13:05] {3434} INFO - selected model: None\n",
            "INFO:flaml.automl:selected model: None\n",
            "[flaml.automl: 02-04 15:13:05] {2862} INFO - fit succeeded\n",
            "INFO:flaml.automl:fit succeeded\n",
            "[flaml.automl: 02-04 15:13:05] {2863} INFO - Time taken to find the best model: 1453.2411518096924\n",
            "INFO:flaml.automl:Time taken to find the best model: 1453.2411518096924\n",
            "[flaml.automl: 02-04 15:13:05] {2874} WARNING - Time taken to find the best model is 81% of the provided time budget and not all estimators' hyperparameter search converged. Consider increasing the time budget.\n",
            "WARNING:flaml.automl:Time taken to find the best model is 81% of the provided time budget and not all estimators' hyperparameter search converged. Consider increasing the time budget.\n"
          ]
        }
      ],
      "source": [
        "import flaml\n",
        "from flaml import AutoML\n",
        "import pandas as pd\n",
        "from sklearn.model_selection import train_test_split\n",
        "\n",
        "df = pd.read_csv('spooky-author-identification.csv')\n",
        "X, y = df.drop('author', axis=1), df['author']\n",
        "\n",
        "X_train, X_val, y_train, y_val = train_test_split(X, y, random_state=123)\n",
        "automl_model = AutoML()\n",
        "\n",
        "automl_settings = {\n",
        "    \"time_budget\": 1800,                 \n",
        "    \"task\": \"seq-classification\",       \n",
        "    \"fit_kwargs_by_estimator\": {\n",
        "        \"transformer\": {\n",
        "            \"output_dir\": \"data/output/\",   \n",
        "            \"model_path\": \"bert-base-uncased\",  \n",
        "        }\n",
        "    },\n",
        "    \"metric\": \"accuracy\",\n",
        "    \"gpu_per_trial\": 1,  \n",
        "    \"log_file_name\": \"spooky_bert.log\", \n",
        "    \"log_type\": \"all\",                 \n",
        "    \"use_ray\": False,                    # set whether to use Ray\n",
        "    \"n_concurrent_trials\": 1,\n",
        "    \"keep_search_state\": True,          # keeping the search state\n",
        "}\n",
        "\n",
        "from flaml import tune\n",
        "custom_hp = {\n",
        "    \"transformer\": {\n",
        "            \"num_train_epochs\": {\n",
        "                \"domain\": tune.choice([0.3, 1, 2, 3, 4, 5]),\n",
        "                \"init_value\": 0.3,  \n",
        "                \"low_cost_init_value\": 0.3,\n",
        "            },\n",
        "        }\n",
        "}\n",
        "\n",
        "automl_model.fit(X_train=X_train, y_train=y_train,X_val=X_val, y_val=y_val, custom_hp=custom_hp, **automl_settings)"
      ]
    },
    {
      "cell_type": "markdown",
      "metadata": {
        "id": "9jZiKSU75jjl"
      },
      "source": [
        "The job ran for 23m and searched for 4 trials. This time is shorter than our budget 30m because FLAML early stops the last trial which will run for too long. If you want to run for longer time, set a larger time budget. "
      ]
    },
    {
      "cell_type": "code",
      "execution_count": null,
      "metadata": {
        "colab": {
          "base_uri": "https://localhost:8080/"
        },
        "id": "xpA-rzYzTjhI",
        "outputId": "30642088-ce7b-4aff-f854-619ee67aff80"
      },
      "outputs": [
        {
          "output_type": "stream",
          "name": "stdout",
          "text": [
            "the best loss for spooky author identification: 0.18386108273748725\n"
          ]
        }
      ],
      "source": [
        "print(\"the best loss for spooky author identification: {}\".format(automl_model.best_loss))"
      ]
    },
    {
      "cell_type": "markdown",
      "metadata": {
        "id": "TzDjaBTA6ZaD"
      },
      "source": [
        "Next, we set the model to roberta and run again. RoBERTa outperforms BERT by 15% on the [SuperGLUE](https://super.gluebenchmark.com/) benchmark, as well as [GLUE](https://gluebenchmark.com/), [SQuAD](https://rajpurkar.github.io/SQuAD-explorer/), [RACE](https://www.cs.cmu.edu/~glai1/data/race/), etc. Does this mean we should always use RoBERTa and never use BERT? To answer this question, we run the same experiment again with RoBERTa:"
      ]
    },
    {
      "cell_type": "code",
      "execution_count": null,
      "metadata": {
        "colab": {
          "base_uri": "https://localhost:8080/"
        },
        "id": "6MTZCJz1TjhJ",
        "outputId": "c7e57ade-a192-4da0-8469-a41e803285e2"
      },
      "outputs": [
        {
          "output_type": "stream",
          "name": "stderr",
          "text": [
            "[flaml.automl: 02-04 15:14:27] {2565} INFO - task = seq-classification\n",
            "INFO:flaml.automl:task = seq-classification\n",
            "[flaml.automl: 02-04 15:14:27] {2567} INFO - Data split method: stratified\n",
            "INFO:flaml.automl:Data split method: stratified\n",
            "[flaml.automl: 02-04 15:14:27] {2570} INFO - Evaluation method: holdout\n",
            "INFO:flaml.automl:Evaluation method: holdout\n",
            "[flaml.automl: 02-04 15:14:27] {2689} INFO - Minimizing error metric: 1-accuracy\n",
            "INFO:flaml.automl:Minimizing error metric: 1-accuracy\n",
            "[flaml.automl: 02-04 15:14:27] {2831} INFO - List of ML learners in AutoML Run: ['transformer']\n",
            "INFO:flaml.automl:List of ML learners in AutoML Run: ['transformer']\n",
            "[flaml.automl: 02-04 15:14:27] {3133} INFO - iteration 0, current learner transformer\n",
            "INFO:flaml.automl:iteration 0, current learner transformer\n",
            "/usr/local/lib/python3.8/dist-packages/transformers/optimization.py:306: FutureWarning: This implementation of AdamW is deprecated and will be removed in a future version. Use the PyTorch implementation torch.optim.AdamW instead, or set `no_deprecation_warning=True` to disable this warning\n",
            "  warnings.warn(\n"
          ]
        },
        {
          "output_type": "stream",
          "name": "stdout",
          "text": [
            "{'eval_loss': 0.7839170694351196, 'eval_automl_metric': 0.3182839632277834, 'eval_runtime': 70.6706, 'eval_samples_per_second': 69.265, 'eval_steps_per_second': 69.265, 'epoch': 0.3}\n",
            "{'train_runtime': 145.1261, 'train_samples_per_second': 30.354, 'train_steps_per_second': 0.951, 'train_loss': 0.9716572416001472, 'epoch': 0.3}\n"
          ]
        },
        {
          "output_type": "stream",
          "name": "stderr",
          "text": [
            "The following columns in the test set  don't have a corresponding argument in `RobertaForSequenceClassification.forward` and have been ignored: __index_level_0__. If __index_level_0__ are not expected by `RobertaForSequenceClassification.forward`,  you can safely ignore this message.\n",
            "***** Running Prediction *****\n",
            "  Num examples = 4895\n",
            "  Batch size = 1\n",
            "Didn't find file data/output/train_2023-02-04_15-14-27/train_9d8eaf4c_19_s=9223372036854775807,e=1e-05,s=-1,s=0.3,e=32,d=20_2023-02-04_15-14-27/checkpoint-138/added_tokens.json. We won't load it.\n",
            "loading file data/output/train_2023-02-04_15-14-27/train_9d8eaf4c_19_s=9223372036854775807,e=1e-05,s=-1,s=0.3,e=32,d=20_2023-02-04_15-14-27/checkpoint-138/vocab.json\n",
            "loading file data/output/train_2023-02-04_15-14-27/train_9d8eaf4c_19_s=9223372036854775807,e=1e-05,s=-1,s=0.3,e=32,d=20_2023-02-04_15-14-27/checkpoint-138/merges.txt\n",
            "loading file data/output/train_2023-02-04_15-14-27/train_9d8eaf4c_19_s=9223372036854775807,e=1e-05,s=-1,s=0.3,e=32,d=20_2023-02-04_15-14-27/checkpoint-138/tokenizer.json\n",
            "loading file None\n",
            "loading file data/output/train_2023-02-04_15-14-27/train_9d8eaf4c_19_s=9223372036854775807,e=1e-05,s=-1,s=0.3,e=32,d=20_2023-02-04_15-14-27/checkpoint-138/special_tokens_map.json\n",
            "loading file data/output/train_2023-02-04_15-14-27/train_9d8eaf4c_19_s=9223372036854775807,e=1e-05,s=-1,s=0.3,e=32,d=20_2023-02-04_15-14-27/checkpoint-138/tokenizer_config.json\n",
            "[flaml.automl: 02-04 15:18:43] {3266} INFO - Estimated sufficient time budget=2559430s. Estimated necessary time budget=2559s.\n",
            "INFO:flaml.automl:Estimated sufficient time budget=2559430s. Estimated necessary time budget=2559s.\n",
            "[flaml.automl: 02-04 15:18:43] {3313} INFO -  at 256.1s,\testimator transformer's best error=0.3183,\tbest estimator transformer's best error=0.3183\n",
            "INFO:flaml.automl: at 256.1s,\testimator transformer's best error=0.3183,\tbest estimator transformer's best error=0.3183\n",
            "[flaml.automl: 02-04 15:18:43] {3133} INFO - iteration 1, current learner transformer\n",
            "INFO:flaml.automl:iteration 1, current learner transformer\n",
            "/usr/local/lib/python3.8/dist-packages/transformers/optimization.py:306: FutureWarning: This implementation of AdamW is deprecated and will be removed in a future version. Use the PyTorch implementation torch.optim.AdamW instead, or set `no_deprecation_warning=True` to disable this warning\n",
            "  warnings.warn(\n"
          ]
        },
        {
          "output_type": "stream",
          "name": "stdout",
          "text": [
            "{'eval_loss': 1.031941533088684, 'eval_automl_metric': 0.5885597548518897, 'eval_runtime': 70.5239, 'eval_samples_per_second': 69.409, 'eval_steps_per_second': 69.409, 'epoch': 0.3}\n",
            "{'train_runtime': 148.3182, 'train_samples_per_second': 29.701, 'train_steps_per_second': 0.465, 'train_loss': 1.0691052865290986, 'epoch': 0.3}\n"
          ]
        },
        {
          "output_type": "stream",
          "name": "stderr",
          "text": [
            "The following columns in the test set  don't have a corresponding argument in `RobertaForSequenceClassification.forward` and have been ignored: __index_level_0__. If __index_level_0__ are not expected by `RobertaForSequenceClassification.forward`,  you can safely ignore this message.\n",
            "***** Running Prediction *****\n",
            "  Num examples = 4895\n",
            "  Batch size = 1\n",
            "Didn't find file data/output/train_2023-02-04_15-18-43/train_361f8fc4_20_s=9223372036854775807,e=9.7119e-06,s=-1,s=0.3,e=64,d=14_2023-02-04_15-18-43/checkpoint-69/added_tokens.json. We won't load it.\n",
            "loading file data/output/train_2023-02-04_15-18-43/train_361f8fc4_20_s=9223372036854775807,e=9.7119e-06,s=-1,s=0.3,e=64,d=14_2023-02-04_15-18-43/checkpoint-69/vocab.json\n",
            "loading file data/output/train_2023-02-04_15-18-43/train_361f8fc4_20_s=9223372036854775807,e=9.7119e-06,s=-1,s=0.3,e=64,d=14_2023-02-04_15-18-43/checkpoint-69/merges.txt\n",
            "loading file data/output/train_2023-02-04_15-18-43/train_361f8fc4_20_s=9223372036854775807,e=9.7119e-06,s=-1,s=0.3,e=64,d=14_2023-02-04_15-18-43/checkpoint-69/tokenizer.json\n",
            "loading file None\n",
            "loading file data/output/train_2023-02-04_15-18-43/train_361f8fc4_20_s=9223372036854775807,e=9.7119e-06,s=-1,s=0.3,e=64,d=14_2023-02-04_15-18-43/checkpoint-69/special_tokens_map.json\n",
            "loading file data/output/train_2023-02-04_15-18-43/train_361f8fc4_20_s=9223372036854775807,e=9.7119e-06,s=-1,s=0.3,e=64,d=14_2023-02-04_15-18-43/checkpoint-69/tokenizer_config.json\n",
            "[flaml.automl: 02-04 15:23:02] {3313} INFO -  at 515.3s,\testimator transformer's best error=0.3183,\tbest estimator transformer's best error=0.3183\n",
            "INFO:flaml.automl: at 515.3s,\testimator transformer's best error=0.3183,\tbest estimator transformer's best error=0.3183\n",
            "[flaml.automl: 02-04 15:23:02] {3133} INFO - iteration 2, current learner transformer\n",
            "INFO:flaml.automl:iteration 2, current learner transformer\n",
            "/usr/local/lib/python3.8/dist-packages/transformers/optimization.py:306: FutureWarning: This implementation of AdamW is deprecated and will be removed in a future version. Use the PyTorch implementation torch.optim.AdamW instead, or set `no_deprecation_warning=True` to disable this warning\n",
            "  warnings.warn(\n"
          ]
        },
        {
          "output_type": "stream",
          "name": "stdout",
          "text": [
            "{'eval_loss': 0.6512515544891357, 'eval_automl_metric': 0.27170582226761997, 'eval_runtime': 69.9606, 'eval_samples_per_second': 69.968, 'eval_steps_per_second': 69.968, 'epoch': 0.3}\n",
            "{'train_runtime': 148.4588, 'train_samples_per_second': 29.673, 'train_steps_per_second': 1.859, 'train_loss': 0.8516891590063123, 'epoch': 0.3}\n"
          ]
        },
        {
          "output_type": "stream",
          "name": "stderr",
          "text": [
            "The following columns in the test set  don't have a corresponding argument in `RobertaForSequenceClassification.forward` and have been ignored: __index_level_0__. If __index_level_0__ are not expected by `RobertaForSequenceClassification.forward`,  you can safely ignore this message.\n",
            "***** Running Prediction *****\n",
            "  Num examples = 4895\n",
            "  Batch size = 1\n",
            "Didn't find file data/output/train_2023-02-04_15-23-02/train_d0ce556e_21_s=9223372036854775807,e=1.0297e-05,s=-1,s=0.3,e=16,d=26_2023-02-04_15-23-02/checkpoint-276/added_tokens.json. We won't load it.\n",
            "loading file data/output/train_2023-02-04_15-23-02/train_d0ce556e_21_s=9223372036854775807,e=1.0297e-05,s=-1,s=0.3,e=16,d=26_2023-02-04_15-23-02/checkpoint-276/vocab.json\n",
            "loading file data/output/train_2023-02-04_15-23-02/train_d0ce556e_21_s=9223372036854775807,e=1.0297e-05,s=-1,s=0.3,e=16,d=26_2023-02-04_15-23-02/checkpoint-276/merges.txt\n",
            "loading file data/output/train_2023-02-04_15-23-02/train_d0ce556e_21_s=9223372036854775807,e=1.0297e-05,s=-1,s=0.3,e=16,d=26_2023-02-04_15-23-02/checkpoint-276/tokenizer.json\n",
            "loading file None\n",
            "loading file data/output/train_2023-02-04_15-23-02/train_d0ce556e_21_s=9223372036854775807,e=1.0297e-05,s=-1,s=0.3,e=16,d=26_2023-02-04_15-23-02/checkpoint-276/special_tokens_map.json\n",
            "loading file data/output/train_2023-02-04_15-23-02/train_d0ce556e_21_s=9223372036854775807,e=1.0297e-05,s=-1,s=0.3,e=16,d=26_2023-02-04_15-23-02/checkpoint-276/tokenizer_config.json\n",
            "[flaml.automl: 02-04 15:27:22] {729} WARNING - checkpoint data/output/train_2023-02-04_15-14-27/train_9d8eaf4c_19_s=9223372036854775807,e=1e-05,s=-1,s=0.3,e=32,d=20_2023-02-04_15-14-27/checkpoint-138 not found\n",
            "WARNING:flaml.automl:checkpoint data/output/train_2023-02-04_15-14-27/train_9d8eaf4c_19_s=9223372036854775807,e=1e-05,s=-1,s=0.3,e=32,d=20_2023-02-04_15-14-27/checkpoint-138 not found\n",
            "[flaml.automl: 02-04 15:27:22] {3313} INFO -  at 775.2s,\testimator transformer's best error=0.2717,\tbest estimator transformer's best error=0.2717\n",
            "INFO:flaml.automl: at 775.2s,\testimator transformer's best error=0.2717,\tbest estimator transformer's best error=0.2717\n",
            "[flaml.automl: 02-04 15:27:22] {3133} INFO - iteration 3, current learner transformer\n",
            "INFO:flaml.automl:iteration 3, current learner transformer\n",
            "/usr/local/lib/python3.8/dist-packages/transformers/optimization.py:306: FutureWarning: This implementation of AdamW is deprecated and will be removed in a future version. Use the PyTorch implementation torch.optim.AdamW instead, or set `no_deprecation_warning=True` to disable this warning\n",
            "  warnings.warn(\n"
          ]
        },
        {
          "output_type": "stream",
          "name": "stdout",
          "text": [
            "{'eval_loss': 0.5892437100410461, 'eval_automl_metric': 0.2422880490296221, 'eval_runtime': 70.4773, 'eval_samples_per_second': 69.455, 'eval_steps_per_second': 69.455, 'epoch': 0.3}\n",
            "{'train_runtime': 146.8963, 'train_samples_per_second': 29.989, 'train_steps_per_second': 1.879, 'train_loss': 0.7882821456245754, 'epoch': 0.3}\n"
          ]
        },
        {
          "output_type": "stream",
          "name": "stderr",
          "text": [
            "The following columns in the test set  don't have a corresponding argument in `RobertaForSequenceClassification.forward` and have been ignored: __index_level_0__. If __index_level_0__ are not expected by `RobertaForSequenceClassification.forward`,  you can safely ignore this message.\n",
            "***** Running Prediction *****\n",
            "  Num examples = 4895\n",
            "  Batch size = 1\n",
            "Didn't find file data/output/train_2023-02-04_15-27-22/train_6b98b760_22_s=9223372036854775807,e=1.48e-05,s=-1,s=0.3,e=16,d=25_2023-02-04_15-27-22/checkpoint-276/added_tokens.json. We won't load it.\n",
            "loading file data/output/train_2023-02-04_15-27-22/train_6b98b760_22_s=9223372036854775807,e=1.48e-05,s=-1,s=0.3,e=16,d=25_2023-02-04_15-27-22/checkpoint-276/vocab.json\n",
            "loading file data/output/train_2023-02-04_15-27-22/train_6b98b760_22_s=9223372036854775807,e=1.48e-05,s=-1,s=0.3,e=16,d=25_2023-02-04_15-27-22/checkpoint-276/merges.txt\n",
            "loading file data/output/train_2023-02-04_15-27-22/train_6b98b760_22_s=9223372036854775807,e=1.48e-05,s=-1,s=0.3,e=16,d=25_2023-02-04_15-27-22/checkpoint-276/tokenizer.json\n",
            "loading file None\n",
            "loading file data/output/train_2023-02-04_15-27-22/train_6b98b760_22_s=9223372036854775807,e=1.48e-05,s=-1,s=0.3,e=16,d=25_2023-02-04_15-27-22/checkpoint-276/special_tokens_map.json\n",
            "loading file data/output/train_2023-02-04_15-27-22/train_6b98b760_22_s=9223372036854775807,e=1.48e-05,s=-1,s=0.3,e=16,d=25_2023-02-04_15-27-22/checkpoint-276/tokenizer_config.json\n",
            "[flaml.automl: 02-04 15:31:40] {729} WARNING - checkpoint data/output/train_2023-02-04_15-23-02/train_d0ce556e_21_s=9223372036854775807,e=1.0297e-05,s=-1,s=0.3,e=16,d=26_2023-02-04_15-23-02/checkpoint-276 not found\n",
            "WARNING:flaml.automl:checkpoint data/output/train_2023-02-04_15-23-02/train_d0ce556e_21_s=9223372036854775807,e=1.0297e-05,s=-1,s=0.3,e=16,d=26_2023-02-04_15-23-02/checkpoint-276 not found\n",
            "[flaml.automl: 02-04 15:31:40] {3313} INFO -  at 1033.6s,\testimator transformer's best error=0.2423,\tbest estimator transformer's best error=0.2423\n",
            "INFO:flaml.automl: at 1033.6s,\testimator transformer's best error=0.2423,\tbest estimator transformer's best error=0.2423\n",
            "[flaml.automl: 02-04 15:31:40] {3133} INFO - iteration 4, current learner transformer\n",
            "INFO:flaml.automl:iteration 4, current learner transformer\n",
            "/usr/local/lib/python3.8/dist-packages/transformers/optimization.py:306: FutureWarning: This implementation of AdamW is deprecated and will be removed in a future version. Use the PyTorch implementation torch.optim.AdamW instead, or set `no_deprecation_warning=True` to disable this warning\n",
            "  warnings.warn(\n"
          ]
        },
        {
          "output_type": "stream",
          "name": "stdout",
          "text": [
            "{'loss': 0.7216, 'learning_rate': 4.6884680795150215e-06, 'epoch': 0.54}\n",
            "{'eval_loss': 0.48796290159225464, 'eval_automl_metric': 0.19325842696629214, 'eval_runtime': 73.8955, 'eval_samples_per_second': 66.242, 'eval_steps_per_second': 66.242, 'epoch': 1.0}\n",
            "{'train_runtime': 332.9895, 'train_samples_per_second': 44.097, 'train_steps_per_second': 2.757, 'train_loss': 0.6249666899637459, 'epoch': 1.0}\n"
          ]
        },
        {
          "output_type": "stream",
          "name": "stderr",
          "text": [
            "The following columns in the test set  don't have a corresponding argument in `RobertaForSequenceClassification.forward` and have been ignored: __index_level_0__. If __index_level_0__ are not expected by `RobertaForSequenceClassification.forward`,  you can safely ignore this message.\n",
            "***** Running Prediction *****\n",
            "  Num examples = 4895\n",
            "  Batch size = 1\n",
            "Didn't find file data/output/train_2023-02-04_15-31-40/train_059e4348_23_s=9223372036854775807,e=1.0297e-05,s=-1,s=1,e=16,d=26_2023-02-04_15-31-40/checkpoint-918/added_tokens.json. We won't load it.\n",
            "loading file data/output/train_2023-02-04_15-31-40/train_059e4348_23_s=9223372036854775807,e=1.0297e-05,s=-1,s=1,e=16,d=26_2023-02-04_15-31-40/checkpoint-918/vocab.json\n",
            "loading file data/output/train_2023-02-04_15-31-40/train_059e4348_23_s=9223372036854775807,e=1.0297e-05,s=-1,s=1,e=16,d=26_2023-02-04_15-31-40/checkpoint-918/merges.txt\n",
            "loading file data/output/train_2023-02-04_15-31-40/train_059e4348_23_s=9223372036854775807,e=1.0297e-05,s=-1,s=1,e=16,d=26_2023-02-04_15-31-40/checkpoint-918/tokenizer.json\n",
            "loading file None\n",
            "loading file data/output/train_2023-02-04_15-31-40/train_059e4348_23_s=9223372036854775807,e=1.0297e-05,s=-1,s=1,e=16,d=26_2023-02-04_15-31-40/checkpoint-918/special_tokens_map.json\n",
            "loading file data/output/train_2023-02-04_15-31-40/train_059e4348_23_s=9223372036854775807,e=1.0297e-05,s=-1,s=1,e=16,d=26_2023-02-04_15-31-40/checkpoint-918/tokenizer_config.json\n",
            "[flaml.automl: 02-04 15:39:06] {729} WARNING - checkpoint data/output/train_2023-02-04_15-27-22/train_6b98b760_22_s=9223372036854775807,e=1.48e-05,s=-1,s=0.3,e=16,d=25_2023-02-04_15-27-22/checkpoint-276 not found\n",
            "WARNING:flaml.automl:checkpoint data/output/train_2023-02-04_15-27-22/train_6b98b760_22_s=9223372036854775807,e=1.48e-05,s=-1,s=0.3,e=16,d=25_2023-02-04_15-27-22/checkpoint-276 not found\n",
            "[flaml.automl: 02-04 15:39:06] {3313} INFO -  at 1478.9s,\testimator transformer's best error=0.1933,\tbest estimator transformer's best error=0.1933\n",
            "INFO:flaml.automl: at 1478.9s,\testimator transformer's best error=0.1933,\tbest estimator transformer's best error=0.1933\n",
            "[flaml.automl: 02-04 15:39:06] {3434} INFO - selected model: None\n",
            "INFO:flaml.automl:selected model: None\n",
            "[flaml.automl: 02-04 15:39:06] {2862} INFO - fit succeeded\n",
            "INFO:flaml.automl:fit succeeded\n",
            "[flaml.automl: 02-04 15:39:06] {2863} INFO - Time taken to find the best model: 1478.8978712558746\n",
            "INFO:flaml.automl:Time taken to find the best model: 1478.8978712558746\n",
            "[flaml.automl: 02-04 15:39:06] {2874} WARNING - Time taken to find the best model is 82% of the provided time budget and not all estimators' hyperparameter search converged. Consider increasing the time budget.\n",
            "WARNING:flaml.automl:Time taken to find the best model is 82% of the provided time budget and not all estimators' hyperparameter search converged. Consider increasing the time budget.\n"
          ]
        }
      ],
      "source": [
        "automl_settings[\"fit_kwargs_by_estimator\"][\"transformer\"][\"model_path\"] = \"roberta-base\"\n",
        "automl_settings[\"log_file_name\"] = \"spooky_roberta.log\"\n",
        "automl_model.fit(X_train=X_train, y_train=y_train,X_val=X_val, y_val=y_val, custom_hp=custom_hp, **automl_settings)"
      ]
    },
    {
      "cell_type": "code",
      "source": [
        "automl_settings[\"time_budget\"] = 3600\n",
        "automl_settings[\"estimator_list\"] = [\"transformer_ms\"]\n",
        "automl_settings[\"log_file_name\"] = \"spooky_ms.log\"     \n",
        "automl_settings[\"fit_kwargs_by_estimator\"] =  { \n",
        "    \"transformer_ms\": {\n",
        "            \"output_dir\": \"data/output/\"     \n",
        "    }\n",
        "}    \n",
        "\n",
        "from flaml import tune\n",
        "\n",
        "custom_hp = {\n",
        "    \"transformer_ms\": {\n",
        "            \"model_path\": {\n",
        "                \"domain\": tune.choice([\"bert-base-uncased\", \"roberta-base\"]),\n",
        "                \"init_value\": \"bert-base-uncased\"\n",
        "            },\n",
        "            \"num_train_epochs\": {\n",
        "                \"domain\": tune.choice([0.3, 1, 2, 3, 4, 5]),\n",
        "                \"init_value\": 0.3,  \n",
        "                \"low_cost_init_value\": 0.3,\n",
        "            },\n",
        "        }\n",
        "}\n",
        "\n",
        "automl_model.fit(X_train=X_train, y_train=y_train,X_val=X_val, y_val=y_val, custom_hp=custom_hp, **automl_settings)"
      ],
      "metadata": {
        "colab": {
          "base_uri": "https://localhost:8080/"
        },
        "id": "eJygKvYzkHwQ",
        "outputId": "ed54c25f-65f8-4abd-95e7-70f73ba4d608"
      },
      "execution_count": null,
      "outputs": [
        {
          "output_type": "stream",
          "name": "stderr",
          "text": [
            "[flaml.automl: 02-04 15:39:17] {2565} INFO - task = seq-classification\n",
            "INFO:flaml.automl:task = seq-classification\n",
            "[flaml.automl: 02-04 15:39:17] {2567} INFO - Data split method: stratified\n",
            "INFO:flaml.automl:Data split method: stratified\n",
            "[flaml.automl: 02-04 15:39:17] {2570} INFO - Evaluation method: holdout\n",
            "INFO:flaml.automl:Evaluation method: holdout\n",
            "[flaml.automl: 02-04 15:39:17] {2689} INFO - Minimizing error metric: 1-accuracy\n",
            "INFO:flaml.automl:Minimizing error metric: 1-accuracy\n",
            "[flaml.automl: 02-04 15:39:17] {2831} INFO - List of ML learners in AutoML Run: ['transformer_ms']\n",
            "INFO:flaml.automl:List of ML learners in AutoML Run: ['transformer_ms']\n",
            "[flaml.automl: 02-04 15:39:17] {3133} INFO - iteration 0, current learner transformer_ms\n",
            "INFO:flaml.automl:iteration 0, current learner transformer_ms\n",
            "/usr/local/lib/python3.8/dist-packages/transformers/optimization.py:306: FutureWarning: This implementation of AdamW is deprecated and will be removed in a future version. Use the PyTorch implementation torch.optim.AdamW instead, or set `no_deprecation_warning=True` to disable this warning\n",
            "  warnings.warn(\n"
          ]
        },
        {
          "output_type": "stream",
          "name": "stdout",
          "text": [
            "{'eval_loss': 0.8727557063102722, 'eval_automl_metric': 0.3628192032686415, 'eval_runtime': 70.3602, 'eval_samples_per_second': 69.571, 'eval_steps_per_second': 69.571, 'epoch': 0.3}\n",
            "{'train_runtime': 151.6971, 'train_samples_per_second': 29.039, 'train_steps_per_second': 0.91, 'train_loss': 0.9736662049224412, 'epoch': 0.3}\n"
          ]
        },
        {
          "output_type": "stream",
          "name": "stderr",
          "text": [
            "The following columns in the test set  don't have a corresponding argument in `BertForSequenceClassification.forward` and have been ignored: __index_level_0__. If __index_level_0__ are not expected by `BertForSequenceClassification.forward`,  you can safely ignore this message.\n",
            "***** Running Prediction *****\n",
            "  Num examples = 4895\n",
            "  Batch size = 1\n",
            "Didn't find file data/output/train_2023-02-04_15-39-17/train_158c3228_24_s=9223372036854775807,e=1e-05,h=bert-base-uncased,s=-1,s=0.3,e=32,d=20_2023-02-04_15-39-17/checkpoint-138/added_tokens.json. We won't load it.\n",
            "loading file data/output/train_2023-02-04_15-39-17/train_158c3228_24_s=9223372036854775807,e=1e-05,h=bert-base-uncased,s=-1,s=0.3,e=32,d=20_2023-02-04_15-39-17/checkpoint-138/vocab.txt\n",
            "loading file data/output/train_2023-02-04_15-39-17/train_158c3228_24_s=9223372036854775807,e=1e-05,h=bert-base-uncased,s=-1,s=0.3,e=32,d=20_2023-02-04_15-39-17/checkpoint-138/tokenizer.json\n",
            "loading file None\n",
            "loading file data/output/train_2023-02-04_15-39-17/train_158c3228_24_s=9223372036854775807,e=1e-05,h=bert-base-uncased,s=-1,s=0.3,e=32,d=20_2023-02-04_15-39-17/checkpoint-138/special_tokens_map.json\n",
            "loading file data/output/train_2023-02-04_15-39-17/train_158c3228_24_s=9223372036854775807,e=1e-05,h=bert-base-uncased,s=-1,s=0.3,e=32,d=20_2023-02-04_15-39-17/checkpoint-138/tokenizer_config.json\n",
            "[flaml.automl: 02-04 15:43:34] {3266} INFO - Estimated sufficient time budget=2572556s. Estimated necessary time budget=2573s.\n",
            "INFO:flaml.automl:Estimated sufficient time budget=2572556s. Estimated necessary time budget=2573s.\n",
            "[flaml.automl: 02-04 15:43:34] {3313} INFO -  at 257.4s,\testimator transformer_ms's best error=0.3628,\tbest estimator transformer_ms's best error=0.3628\n",
            "INFO:flaml.automl: at 257.4s,\testimator transformer_ms's best error=0.3628,\tbest estimator transformer_ms's best error=0.3628\n",
            "[flaml.automl: 02-04 15:43:34] {3133} INFO - iteration 1, current learner transformer_ms\n",
            "INFO:flaml.automl:iteration 1, current learner transformer_ms\n",
            "/usr/local/lib/python3.8/dist-packages/transformers/optimization.py:306: FutureWarning: This implementation of AdamW is deprecated and will be removed in a future version. Use the PyTorch implementation torch.optim.AdamW instead, or set `no_deprecation_warning=True` to disable this warning\n",
            "  warnings.warn(\n"
          ]
        },
        {
          "output_type": "stream",
          "name": "stdout",
          "text": [
            "{'eval_loss': 0.946633517742157, 'eval_automl_metric': 0.4518896833503575, 'eval_runtime': 68.1616, 'eval_samples_per_second': 71.815, 'eval_steps_per_second': 71.815, 'epoch': 0.3}\n",
            "{'train_runtime': 154.666, 'train_samples_per_second': 28.482, 'train_steps_per_second': 0.446, 'train_loss': 1.0112800045289856, 'epoch': 0.3}\n"
          ]
        },
        {
          "output_type": "stream",
          "name": "stderr",
          "text": [
            "The following columns in the test set  don't have a corresponding argument in `BertForSequenceClassification.forward` and have been ignored: __index_level_0__. If __index_level_0__ are not expected by `BertForSequenceClassification.forward`,  you can safely ignore this message.\n",
            "***** Running Prediction *****\n",
            "  Num examples = 4895\n",
            "  Batch size = 1\n",
            "Didn't find file data/output/train_2023-02-04_15-43-34/train_aee4fd6a_25_s=9223372036854775807,e=9.7069e-06,h=bert-base-uncased,s=-1,s=0.3,e=64,d=14_2023-02-04_15-43-34/checkpoint-69/added_tokens.json. We won't load it.\n",
            "loading file data/output/train_2023-02-04_15-43-34/train_aee4fd6a_25_s=9223372036854775807,e=9.7069e-06,h=bert-base-uncased,s=-1,s=0.3,e=64,d=14_2023-02-04_15-43-34/checkpoint-69/vocab.txt\n",
            "loading file data/output/train_2023-02-04_15-43-34/train_aee4fd6a_25_s=9223372036854775807,e=9.7069e-06,h=bert-base-uncased,s=-1,s=0.3,e=64,d=14_2023-02-04_15-43-34/checkpoint-69/tokenizer.json\n",
            "loading file None\n",
            "loading file data/output/train_2023-02-04_15-43-34/train_aee4fd6a_25_s=9223372036854775807,e=9.7069e-06,h=bert-base-uncased,s=-1,s=0.3,e=64,d=14_2023-02-04_15-43-34/checkpoint-69/special_tokens_map.json\n",
            "loading file data/output/train_2023-02-04_15-43-34/train_aee4fd6a_25_s=9223372036854775807,e=9.7069e-06,h=bert-base-uncased,s=-1,s=0.3,e=64,d=14_2023-02-04_15-43-34/checkpoint-69/tokenizer_config.json\n",
            "[flaml.automl: 02-04 15:47:54] {3313} INFO -  at 517.5s,\testimator transformer_ms's best error=0.3628,\tbest estimator transformer_ms's best error=0.3628\n",
            "INFO:flaml.automl: at 517.5s,\testimator transformer_ms's best error=0.3628,\tbest estimator transformer_ms's best error=0.3628\n",
            "[flaml.automl: 02-04 15:47:54] {3133} INFO - iteration 2, current learner transformer_ms\n",
            "INFO:flaml.automl:iteration 2, current learner transformer_ms\n",
            "/usr/local/lib/python3.8/dist-packages/transformers/optimization.py:306: FutureWarning: This implementation of AdamW is deprecated and will be removed in a future version. Use the PyTorch implementation torch.optim.AdamW instead, or set `no_deprecation_warning=True` to disable this warning\n",
            "  warnings.warn(\n"
          ]
        },
        {
          "output_type": "stream",
          "name": "stdout",
          "text": [
            "{'eval_loss': 0.6528550982475281, 'eval_automl_metric': 0.27007150153217574, 'eval_runtime': 69.5492, 'eval_samples_per_second': 70.382, 'eval_steps_per_second': 70.382, 'epoch': 0.3}\n",
            "{'train_runtime': 152.6851, 'train_samples_per_second': 28.852, 'train_steps_per_second': 1.808, 'train_loss': 0.8494818314262058, 'epoch': 0.3}\n"
          ]
        },
        {
          "output_type": "stream",
          "name": "stderr",
          "text": [
            "The following columns in the test set  don't have a corresponding argument in `RobertaForSequenceClassification.forward` and have been ignored: __index_level_0__. If __index_level_0__ are not expected by `RobertaForSequenceClassification.forward`,  you can safely ignore this message.\n",
            "***** Running Prediction *****\n",
            "  Num examples = 4895\n",
            "  Batch size = 1\n",
            "Didn't find file data/output/train_2023-02-04_15-47-54/train_4a0a5f2e_26_s=9223372036854775807,e=1.0302e-05,h=roberta-base,s=-1,s=0.3,e=16,d=26_2023-02-04_15-47-54/checkpoint-276/added_tokens.json. We won't load it.\n",
            "loading file data/output/train_2023-02-04_15-47-54/train_4a0a5f2e_26_s=9223372036854775807,e=1.0302e-05,h=roberta-base,s=-1,s=0.3,e=16,d=26_2023-02-04_15-47-54/checkpoint-276/vocab.json\n",
            "loading file data/output/train_2023-02-04_15-47-54/train_4a0a5f2e_26_s=9223372036854775807,e=1.0302e-05,h=roberta-base,s=-1,s=0.3,e=16,d=26_2023-02-04_15-47-54/checkpoint-276/merges.txt\n",
            "loading file data/output/train_2023-02-04_15-47-54/train_4a0a5f2e_26_s=9223372036854775807,e=1.0302e-05,h=roberta-base,s=-1,s=0.3,e=16,d=26_2023-02-04_15-47-54/checkpoint-276/tokenizer.json\n",
            "loading file None\n",
            "loading file data/output/train_2023-02-04_15-47-54/train_4a0a5f2e_26_s=9223372036854775807,e=1.0302e-05,h=roberta-base,s=-1,s=0.3,e=16,d=26_2023-02-04_15-47-54/checkpoint-276/special_tokens_map.json\n",
            "loading file data/output/train_2023-02-04_15-47-54/train_4a0a5f2e_26_s=9223372036854775807,e=1.0302e-05,h=roberta-base,s=-1,s=0.3,e=16,d=26_2023-02-04_15-47-54/checkpoint-276/tokenizer_config.json\n",
            "[flaml.automl: 02-04 15:52:18] {729} WARNING - checkpoint data/output/train_2023-02-04_15-39-17/train_158c3228_24_s=9223372036854775807,e=1e-05,h=bert-base-uncased,s=-1,s=0.3,e=32,d=20_2023-02-04_15-39-17/checkpoint-138 not found\n",
            "WARNING:flaml.automl:checkpoint data/output/train_2023-02-04_15-39-17/train_158c3228_24_s=9223372036854775807,e=1e-05,h=bert-base-uncased,s=-1,s=0.3,e=32,d=20_2023-02-04_15-39-17/checkpoint-138 not found\n",
            "[flaml.automl: 02-04 15:52:18] {3313} INFO -  at 780.9s,\testimator transformer_ms's best error=0.2701,\tbest estimator transformer_ms's best error=0.2701\n",
            "INFO:flaml.automl: at 780.9s,\testimator transformer_ms's best error=0.2701,\tbest estimator transformer_ms's best error=0.2701\n",
            "[flaml.automl: 02-04 15:52:18] {3133} INFO - iteration 3, current learner transformer_ms\n",
            "INFO:flaml.automl:iteration 3, current learner transformer_ms\n",
            "/usr/local/lib/python3.8/dist-packages/transformers/optimization.py:306: FutureWarning: This implementation of AdamW is deprecated and will be removed in a future version. Use the PyTorch implementation torch.optim.AdamW instead, or set `no_deprecation_warning=True` to disable this warning\n",
            "  warnings.warn(\n"
          ]
        },
        {
          "output_type": "stream",
          "name": "stdout",
          "text": [
            "{'eval_loss': 0.9604764580726624, 'eval_automl_metric': 0.4655771195097038, 'eval_runtime': 67.7891, 'eval_samples_per_second': 72.209, 'eval_steps_per_second': 72.209, 'epoch': 0.3}\n",
            "{'train_runtime': 147.6417, 'train_samples_per_second': 29.837, 'train_steps_per_second': 1.869, 'train_loss': 1.0139579220094543, 'epoch': 0.3}\n"
          ]
        },
        {
          "output_type": "stream",
          "name": "stderr",
          "text": [
            "The following columns in the test set  don't have a corresponding argument in `BertForSequenceClassification.forward` and have been ignored: __index_level_0__. If __index_level_0__ are not expected by `BertForSequenceClassification.forward`,  you can safely ignore this message.\n",
            "***** Running Prediction *****\n",
            "  Num examples = 4895\n",
            "  Batch size = 1\n",
            "Didn't find file data/output/train_2023-02-04_15-52-18/train_e704ddea_27_s=9223372036854775807,e=4.4037e-06,h=bert-base-uncased,s=-1,s=0.3,e=16,d=31_2023-02-04_15-52-18/checkpoint-276/added_tokens.json. We won't load it.\n",
            "loading file data/output/train_2023-02-04_15-52-18/train_e704ddea_27_s=9223372036854775807,e=4.4037e-06,h=bert-base-uncased,s=-1,s=0.3,e=16,d=31_2023-02-04_15-52-18/checkpoint-276/vocab.txt\n",
            "loading file data/output/train_2023-02-04_15-52-18/train_e704ddea_27_s=9223372036854775807,e=4.4037e-06,h=bert-base-uncased,s=-1,s=0.3,e=16,d=31_2023-02-04_15-52-18/checkpoint-276/tokenizer.json\n",
            "loading file None\n",
            "loading file data/output/train_2023-02-04_15-52-18/train_e704ddea_27_s=9223372036854775807,e=4.4037e-06,h=bert-base-uncased,s=-1,s=0.3,e=16,d=31_2023-02-04_15-52-18/checkpoint-276/special_tokens_map.json\n",
            "loading file data/output/train_2023-02-04_15-52-18/train_e704ddea_27_s=9223372036854775807,e=4.4037e-06,h=bert-base-uncased,s=-1,s=0.3,e=16,d=31_2023-02-04_15-52-18/checkpoint-276/tokenizer_config.json\n",
            "[flaml.automl: 02-04 15:56:31] {3313} INFO -  at 1033.9s,\testimator transformer_ms's best error=0.2701,\tbest estimator transformer_ms's best error=0.2701\n",
            "INFO:flaml.automl: at 1033.9s,\testimator transformer_ms's best error=0.2701,\tbest estimator transformer_ms's best error=0.2701\n",
            "[flaml.automl: 02-04 15:56:31] {3133} INFO - iteration 4, current learner transformer_ms\n",
            "INFO:flaml.automl:iteration 4, current learner transformer_ms\n",
            "/usr/local/lib/python3.8/dist-packages/transformers/optimization.py:306: FutureWarning: This implementation of AdamW is deprecated and will be removed in a future version. Use the PyTorch implementation torch.optim.AdamW instead, or set `no_deprecation_warning=True` to disable this warning\n",
            "  warnings.warn(\n"
          ]
        },
        {
          "output_type": "stream",
          "name": "stdout",
          "text": [
            "{'eval_loss': 0.5380544066429138, 'eval_automl_metric': 0.20755873340143005, 'eval_runtime': 68.8542, 'eval_samples_per_second': 71.092, 'eval_steps_per_second': 71.092, 'epoch': 0.3}\n",
            "{'train_runtime': 151.2753, 'train_samples_per_second': 29.12, 'train_steps_per_second': 1.824, 'train_loss': 0.7422244859778363, 'epoch': 0.3}\n"
          ]
        },
        {
          "output_type": "stream",
          "name": "stderr",
          "text": [
            "The following columns in the test set  don't have a corresponding argument in `RobertaForSequenceClassification.forward` and have been ignored: __index_level_0__. If __index_level_0__ are not expected by `RobertaForSequenceClassification.forward`,  you can safely ignore this message.\n",
            "***** Running Prediction *****\n",
            "  Num examples = 4895\n",
            "  Batch size = 1\n",
            "Didn't find file data/output/train_2023-02-04_15-56-31/train_7de26002_28_s=9223372036854775807,e=2.41e-05,h=roberta-base,s=-1,s=0.3,e=16,d=21_2023-02-04_15-56-31/checkpoint-276/added_tokens.json. We won't load it.\n",
            "loading file data/output/train_2023-02-04_15-56-31/train_7de26002_28_s=9223372036854775807,e=2.41e-05,h=roberta-base,s=-1,s=0.3,e=16,d=21_2023-02-04_15-56-31/checkpoint-276/vocab.json\n",
            "loading file data/output/train_2023-02-04_15-56-31/train_7de26002_28_s=9223372036854775807,e=2.41e-05,h=roberta-base,s=-1,s=0.3,e=16,d=21_2023-02-04_15-56-31/checkpoint-276/merges.txt\n",
            "loading file data/output/train_2023-02-04_15-56-31/train_7de26002_28_s=9223372036854775807,e=2.41e-05,h=roberta-base,s=-1,s=0.3,e=16,d=21_2023-02-04_15-56-31/checkpoint-276/tokenizer.json\n",
            "loading file None\n",
            "loading file data/output/train_2023-02-04_15-56-31/train_7de26002_28_s=9223372036854775807,e=2.41e-05,h=roberta-base,s=-1,s=0.3,e=16,d=21_2023-02-04_15-56-31/checkpoint-276/special_tokens_map.json\n",
            "loading file data/output/train_2023-02-04_15-56-31/train_7de26002_28_s=9223372036854775807,e=2.41e-05,h=roberta-base,s=-1,s=0.3,e=16,d=21_2023-02-04_15-56-31/checkpoint-276/tokenizer_config.json\n",
            "[flaml.automl: 02-04 16:00:53] {729} WARNING - checkpoint data/output/train_2023-02-04_15-47-54/train_4a0a5f2e_26_s=9223372036854775807,e=1.0302e-05,h=roberta-base,s=-1,s=0.3,e=16,d=26_2023-02-04_15-47-54/checkpoint-276 not found\n",
            "WARNING:flaml.automl:checkpoint data/output/train_2023-02-04_15-47-54/train_4a0a5f2e_26_s=9223372036854775807,e=1.0302e-05,h=roberta-base,s=-1,s=0.3,e=16,d=26_2023-02-04_15-47-54/checkpoint-276 not found\n",
            "[flaml.automl: 02-04 16:00:53] {3313} INFO -  at 1296.5s,\testimator transformer_ms's best error=0.2076,\tbest estimator transformer_ms's best error=0.2076\n",
            "INFO:flaml.automl: at 1296.5s,\testimator transformer_ms's best error=0.2076,\tbest estimator transformer_ms's best error=0.2076\n",
            "[flaml.automl: 02-04 16:00:53] {3133} INFO - iteration 5, current learner transformer_ms\n",
            "INFO:flaml.automl:iteration 5, current learner transformer_ms\n",
            "/usr/local/lib/python3.8/dist-packages/transformers/optimization.py:306: FutureWarning: This implementation of AdamW is deprecated and will be removed in a future version. Use the PyTorch implementation torch.optim.AdamW instead, or set `no_deprecation_warning=True` to disable this warning\n",
            "  warnings.warn(\n"
          ]
        },
        {
          "output_type": "stream",
          "name": "stdout",
          "text": [
            "{'eval_loss': 0.4672330915927887, 'eval_automl_metric': 0.18651685393258421, 'eval_runtime': 67.1563, 'eval_samples_per_second': 72.89, 'eval_steps_per_second': 72.89, 'epoch': 1.0}\n",
            "{'train_runtime': 329.5973, 'train_samples_per_second': 44.551, 'train_steps_per_second': 1.393, 'train_loss': 0.6467108965439474, 'epoch': 1.0}\n"
          ]
        },
        {
          "output_type": "stream",
          "name": "stderr",
          "text": [
            "The following columns in the test set  don't have a corresponding argument in `RobertaForSequenceClassification.forward` and have been ignored: __index_level_0__. If __index_level_0__ are not expected by `RobertaForSequenceClassification.forward`,  you can safely ignore this message.\n",
            "***** Running Prediction *****\n",
            "  Num examples = 4895\n",
            "  Batch size = 1\n",
            "Didn't find file data/output/train_2023-02-04_16-00-53/train_1a547646_29_s=9223372036854775807,e=1.8547e-05,h=roberta-base,s=-1,s=1,e=32,d=19_2023-02-04_16-00-53/checkpoint-459/added_tokens.json. We won't load it.\n",
            "loading file data/output/train_2023-02-04_16-00-53/train_1a547646_29_s=9223372036854775807,e=1.8547e-05,h=roberta-base,s=-1,s=1,e=32,d=19_2023-02-04_16-00-53/checkpoint-459/vocab.json\n",
            "loading file data/output/train_2023-02-04_16-00-53/train_1a547646_29_s=9223372036854775807,e=1.8547e-05,h=roberta-base,s=-1,s=1,e=32,d=19_2023-02-04_16-00-53/checkpoint-459/merges.txt\n",
            "loading file data/output/train_2023-02-04_16-00-53/train_1a547646_29_s=9223372036854775807,e=1.8547e-05,h=roberta-base,s=-1,s=1,e=32,d=19_2023-02-04_16-00-53/checkpoint-459/tokenizer.json\n",
            "loading file None\n",
            "loading file data/output/train_2023-02-04_16-00-53/train_1a547646_29_s=9223372036854775807,e=1.8547e-05,h=roberta-base,s=-1,s=1,e=32,d=19_2023-02-04_16-00-53/checkpoint-459/special_tokens_map.json\n",
            "loading file data/output/train_2023-02-04_16-00-53/train_1a547646_29_s=9223372036854775807,e=1.8547e-05,h=roberta-base,s=-1,s=1,e=32,d=19_2023-02-04_16-00-53/checkpoint-459/tokenizer_config.json\n",
            "[flaml.automl: 02-04 16:08:14] {729} WARNING - checkpoint data/output/train_2023-02-04_15-56-31/train_7de26002_28_s=9223372036854775807,e=2.41e-05,h=roberta-base,s=-1,s=0.3,e=16,d=21_2023-02-04_15-56-31/checkpoint-276 not found\n",
            "WARNING:flaml.automl:checkpoint data/output/train_2023-02-04_15-56-31/train_7de26002_28_s=9223372036854775807,e=2.41e-05,h=roberta-base,s=-1,s=0.3,e=16,d=21_2023-02-04_15-56-31/checkpoint-276 not found\n",
            "[flaml.automl: 02-04 16:08:14] {3313} INFO -  at 1737.2s,\testimator transformer_ms's best error=0.1865,\tbest estimator transformer_ms's best error=0.1865\n",
            "INFO:flaml.automl: at 1737.2s,\testimator transformer_ms's best error=0.1865,\tbest estimator transformer_ms's best error=0.1865\n",
            "[flaml.automl: 02-04 16:08:14] {3133} INFO - iteration 6, current learner transformer_ms\n",
            "INFO:flaml.automl:iteration 6, current learner transformer_ms\n",
            "/usr/local/lib/python3.8/dist-packages/transformers/optimization.py:306: FutureWarning: This implementation of AdamW is deprecated and will be removed in a future version. Use the PyTorch implementation torch.optim.AdamW instead, or set `no_deprecation_warning=True` to disable this warning\n",
            "  warnings.warn(\n"
          ]
        },
        {
          "output_type": "stream",
          "name": "stdout",
          "text": [
            "{'eval_loss': 0.5672435760498047, 'eval_automl_metric': 0.22145045965270682, 'eval_runtime': 66.3427, 'eval_samples_per_second': 73.784, 'eval_steps_per_second': 73.784, 'epoch': 0.3}\n",
            "{'train_runtime': 146.9383, 'train_samples_per_second': 29.98, 'train_steps_per_second': 1.878, 'train_loss': 0.7753462307695029, 'epoch': 0.3}\n"
          ]
        },
        {
          "output_type": "stream",
          "name": "stderr",
          "text": [
            "The following columns in the test set  don't have a corresponding argument in `BertForSequenceClassification.forward` and have been ignored: __index_level_0__. If __index_level_0__ are not expected by `BertForSequenceClassification.forward`,  you can safely ignore this message.\n",
            "***** Running Prediction *****\n",
            "  Num examples = 4895\n",
            "  Batch size = 1\n",
            "Didn't find file data/output/train_2023-02-04_16-08-14/train_2107ae26_30_s=9223372036854775807,e=2.41e-05,h=bert-base-uncased,s=-1,s=0.3,e=16,d=21_2023-02-04_16-08-14/checkpoint-276/added_tokens.json. We won't load it.\n",
            "loading file data/output/train_2023-02-04_16-08-14/train_2107ae26_30_s=9223372036854775807,e=2.41e-05,h=bert-base-uncased,s=-1,s=0.3,e=16,d=21_2023-02-04_16-08-14/checkpoint-276/vocab.txt\n",
            "loading file data/output/train_2023-02-04_16-08-14/train_2107ae26_30_s=9223372036854775807,e=2.41e-05,h=bert-base-uncased,s=-1,s=0.3,e=16,d=21_2023-02-04_16-08-14/checkpoint-276/tokenizer.json\n",
            "loading file None\n",
            "loading file data/output/train_2023-02-04_16-08-14/train_2107ae26_30_s=9223372036854775807,e=2.41e-05,h=bert-base-uncased,s=-1,s=0.3,e=16,d=21_2023-02-04_16-08-14/checkpoint-276/special_tokens_map.json\n",
            "loading file data/output/train_2023-02-04_16-08-14/train_2107ae26_30_s=9223372036854775807,e=2.41e-05,h=bert-base-uncased,s=-1,s=0.3,e=16,d=21_2023-02-04_16-08-14/checkpoint-276/tokenizer_config.json\n",
            "[flaml.automl: 02-04 16:12:28] {3313} INFO -  at 1991.0s,\testimator transformer_ms's best error=0.1865,\tbest estimator transformer_ms's best error=0.1865\n",
            "INFO:flaml.automl: at 1991.0s,\testimator transformer_ms's best error=0.1865,\tbest estimator transformer_ms's best error=0.1865\n",
            "[flaml.automl: 02-04 16:12:28] {3133} INFO - iteration 7, current learner transformer_ms\n",
            "INFO:flaml.automl:iteration 7, current learner transformer_ms\n",
            "/usr/local/lib/python3.8/dist-packages/transformers/optimization.py:306: FutureWarning: This implementation of AdamW is deprecated and will be removed in a future version. Use the PyTorch implementation torch.optim.AdamW instead, or set `no_deprecation_warning=True` to disable this warning\n",
            "  warnings.warn(\n"
          ]
        },
        {
          "output_type": "stream",
          "name": "stdout",
          "text": [
            "{'eval_loss': 0.49196645617485046, 'eval_automl_metric': 0.19693564862104185, 'eval_runtime': 68.1366, 'eval_samples_per_second': 71.841, 'eval_steps_per_second': 71.841, 'epoch': 1.0}\n",
            "{'train_runtime': 328.658, 'train_samples_per_second': 44.679, 'train_steps_per_second': 1.397, 'train_loss': 0.6361647794968682, 'epoch': 1.0}\n"
          ]
        },
        {
          "output_type": "stream",
          "name": "stderr",
          "text": [
            "The following columns in the test set  don't have a corresponding argument in `RobertaForSequenceClassification.forward` and have been ignored: __index_level_0__. If __index_level_0__ are not expected by `RobertaForSequenceClassification.forward`,  you can safely ignore this message.\n",
            "***** Running Prediction *****\n",
            "  Num examples = 4895\n",
            "  Batch size = 1\n",
            "Didn't find file data/output/train_2023-02-04_16-12-28/train_b8556520_31_s=9223372036854775807,e=1.3298e-05,h=roberta-base,s=-1,s=1,e=32,d=11_2023-02-04_16-12-28/checkpoint-459/added_tokens.json. We won't load it.\n",
            "loading file data/output/train_2023-02-04_16-12-28/train_b8556520_31_s=9223372036854775807,e=1.3298e-05,h=roberta-base,s=-1,s=1,e=32,d=11_2023-02-04_16-12-28/checkpoint-459/vocab.json\n",
            "loading file data/output/train_2023-02-04_16-12-28/train_b8556520_31_s=9223372036854775807,e=1.3298e-05,h=roberta-base,s=-1,s=1,e=32,d=11_2023-02-04_16-12-28/checkpoint-459/merges.txt\n",
            "loading file data/output/train_2023-02-04_16-12-28/train_b8556520_31_s=9223372036854775807,e=1.3298e-05,h=roberta-base,s=-1,s=1,e=32,d=11_2023-02-04_16-12-28/checkpoint-459/tokenizer.json\n",
            "loading file None\n",
            "loading file data/output/train_2023-02-04_16-12-28/train_b8556520_31_s=9223372036854775807,e=1.3298e-05,h=roberta-base,s=-1,s=1,e=32,d=11_2023-02-04_16-12-28/checkpoint-459/special_tokens_map.json\n",
            "loading file data/output/train_2023-02-04_16-12-28/train_b8556520_31_s=9223372036854775807,e=1.3298e-05,h=roberta-base,s=-1,s=1,e=32,d=11_2023-02-04_16-12-28/checkpoint-459/tokenizer_config.json\n",
            "[flaml.automl: 02-04 16:19:48] {3313} INFO -  at 2430.8s,\testimator transformer_ms's best error=0.1865,\tbest estimator transformer_ms's best error=0.1865\n",
            "INFO:flaml.automl: at 2430.8s,\testimator transformer_ms's best error=0.1865,\tbest estimator transformer_ms's best error=0.1865\n",
            "[flaml.automl: 02-04 16:19:48] {3133} INFO - iteration 8, current learner transformer_ms\n",
            "INFO:flaml.automl:iteration 8, current learner transformer_ms\n",
            "/usr/local/lib/python3.8/dist-packages/transformers/optimization.py:306: FutureWarning: This implementation of AdamW is deprecated and will be removed in a future version. Use the PyTorch implementation torch.optim.AdamW instead, or set `no_deprecation_warning=True` to disable this warning\n",
            "  warnings.warn(\n"
          ]
        },
        {
          "output_type": "stream",
          "name": "stdout",
          "text": [
            "{'eval_loss': 0.4154946804046631, 'eval_automl_metric': 0.15648621041879474, 'eval_runtime': 65.6619, 'eval_samples_per_second': 74.549, 'eval_steps_per_second': 74.549, 'epoch': 1.0}\n",
            "{'train_runtime': 327.1772, 'train_samples_per_second': 44.881, 'train_steps_per_second': 1.403, 'train_loss': 0.5775986881297658, 'epoch': 1.0}\n"
          ]
        },
        {
          "output_type": "stream",
          "name": "stderr",
          "text": [
            "The following columns in the test set  don't have a corresponding argument in `BertForSequenceClassification.forward` and have been ignored: __index_level_0__. If __index_level_0__ are not expected by `BertForSequenceClassification.forward`,  you can safely ignore this message.\n",
            "***** Running Prediction *****\n",
            "  Num examples = 4895\n",
            "  Batch size = 1\n",
            "Didn't find file data/output/train_2023-02-04_16-19-48/train_be7fb7ce_32_s=9223372036854775807,e=2.5867e-05,h=bert-base-uncased,s=-1,s=1,e=32,d=27_2023-02-04_16-19-48/checkpoint-459/added_tokens.json. We won't load it.\n",
            "loading file data/output/train_2023-02-04_16-19-48/train_be7fb7ce_32_s=9223372036854775807,e=2.5867e-05,h=bert-base-uncased,s=-1,s=1,e=32,d=27_2023-02-04_16-19-48/checkpoint-459/vocab.txt\n",
            "loading file data/output/train_2023-02-04_16-19-48/train_be7fb7ce_32_s=9223372036854775807,e=2.5867e-05,h=bert-base-uncased,s=-1,s=1,e=32,d=27_2023-02-04_16-19-48/checkpoint-459/tokenizer.json\n",
            "loading file None\n",
            "loading file data/output/train_2023-02-04_16-19-48/train_be7fb7ce_32_s=9223372036854775807,e=2.5867e-05,h=bert-base-uncased,s=-1,s=1,e=32,d=27_2023-02-04_16-19-48/checkpoint-459/special_tokens_map.json\n",
            "loading file data/output/train_2023-02-04_16-19-48/train_be7fb7ce_32_s=9223372036854775807,e=2.5867e-05,h=bert-base-uncased,s=-1,s=1,e=32,d=27_2023-02-04_16-19-48/checkpoint-459/tokenizer_config.json\n",
            "[flaml.automl: 02-04 16:26:59] {729} WARNING - checkpoint data/output/train_2023-02-04_16-00-53/train_1a547646_29_s=9223372036854775807,e=1.8547e-05,h=roberta-base,s=-1,s=1,e=32,d=19_2023-02-04_16-00-53/checkpoint-459 not found\n",
            "WARNING:flaml.automl:checkpoint data/output/train_2023-02-04_16-00-53/train_1a547646_29_s=9223372036854775807,e=1.8547e-05,h=roberta-base,s=-1,s=1,e=32,d=19_2023-02-04_16-00-53/checkpoint-459 not found\n",
            "[flaml.automl: 02-04 16:26:59] {3313} INFO -  at 2862.3s,\testimator transformer_ms's best error=0.1565,\tbest estimator transformer_ms's best error=0.1565\n",
            "INFO:flaml.automl: at 2862.3s,\testimator transformer_ms's best error=0.1565,\tbest estimator transformer_ms's best error=0.1565\n",
            "[flaml.automl: 02-04 16:26:59] {3133} INFO - iteration 9, current learner transformer_ms\n",
            "INFO:flaml.automl:iteration 9, current learner transformer_ms\n",
            "/usr/local/lib/python3.8/dist-packages/transformers/optimization.py:306: FutureWarning: This implementation of AdamW is deprecated and will be removed in a future version. Use the PyTorch implementation torch.optim.AdamW instead, or set `no_deprecation_warning=True` to disable this warning\n",
            "  warnings.warn(\n"
          ]
        },
        {
          "output_type": "stream",
          "name": "stdout",
          "text": [
            "{'eval_loss': 0.46208682656288147, 'eval_automl_metric': 0.18120531154239017, 'eval_runtime': 67.1695, 'eval_samples_per_second': 72.875, 'eval_steps_per_second': 72.875, 'epoch': 1.0}\n",
            "{'train_runtime': 326.82, 'train_samples_per_second': 44.93, 'train_steps_per_second': 1.404, 'train_loss': 0.6211117015165442, 'epoch': 1.0}\n"
          ]
        },
        {
          "output_type": "stream",
          "name": "stderr",
          "text": [
            "The following columns in the test set  don't have a corresponding argument in `RobertaForSequenceClassification.forward` and have been ignored: __index_level_0__. If __index_level_0__ are not expected by `RobertaForSequenceClassification.forward`,  you can safely ignore this message.\n",
            "***** Running Prediction *****\n",
            "  Num examples = 4895\n",
            "  Batch size = 1\n",
            "Didn't find file data/output/train_2023-02-04_16-26-59/train_bf949ec6_33_s=9223372036854775807,e=1.7751e-05,h=roberta-base,s=-1,s=1,e=32,d=21_2023-02-04_16-26-59/checkpoint-459/added_tokens.json. We won't load it.\n",
            "loading file data/output/train_2023-02-04_16-26-59/train_bf949ec6_33_s=9223372036854775807,e=1.7751e-05,h=roberta-base,s=-1,s=1,e=32,d=21_2023-02-04_16-26-59/checkpoint-459/vocab.json\n",
            "loading file data/output/train_2023-02-04_16-26-59/train_bf949ec6_33_s=9223372036854775807,e=1.7751e-05,h=roberta-base,s=-1,s=1,e=32,d=21_2023-02-04_16-26-59/checkpoint-459/merges.txt\n",
            "loading file data/output/train_2023-02-04_16-26-59/train_bf949ec6_33_s=9223372036854775807,e=1.7751e-05,h=roberta-base,s=-1,s=1,e=32,d=21_2023-02-04_16-26-59/checkpoint-459/tokenizer.json\n",
            "loading file None\n",
            "loading file data/output/train_2023-02-04_16-26-59/train_bf949ec6_33_s=9223372036854775807,e=1.7751e-05,h=roberta-base,s=-1,s=1,e=32,d=21_2023-02-04_16-26-59/checkpoint-459/special_tokens_map.json\n",
            "loading file data/output/train_2023-02-04_16-26-59/train_bf949ec6_33_s=9223372036854775807,e=1.7751e-05,h=roberta-base,s=-1,s=1,e=32,d=21_2023-02-04_16-26-59/checkpoint-459/tokenizer_config.json\n",
            "[flaml.automl: 02-04 16:34:16] {3313} INFO -  at 3298.9s,\testimator transformer_ms's best error=0.1565,\tbest estimator transformer_ms's best error=0.1565\n",
            "INFO:flaml.automl: at 3298.9s,\testimator transformer_ms's best error=0.1565,\tbest estimator transformer_ms's best error=0.1565\n",
            "[flaml.automl: 02-04 16:34:16] {3434} INFO - selected model: None\n",
            "INFO:flaml.automl:selected model: None\n",
            "[flaml.automl: 02-04 16:34:16] {2862} INFO - fit succeeded\n",
            "INFO:flaml.automl:fit succeeded\n",
            "[flaml.automl: 02-04 16:34:16] {2863} INFO - Time taken to find the best model: 2862.293454885483\n",
            "INFO:flaml.automl:Time taken to find the best model: 2862.293454885483\n",
            "[flaml.automl: 02-04 16:34:16] {2874} WARNING - Time taken to find the best model is 80% of the provided time budget and not all estimators' hyperparameter search converged. Consider increasing the time budget.\n",
            "WARNING:flaml.automl:Time taken to find the best model is 80% of the provided time budget and not all estimators' hyperparameter search converged. Consider increasing the time budget.\n"
          ]
        }
      ]
    },
    {
      "cell_type": "code",
      "source": [
        "with open(\"spooky_ms.log\", \"r\") as fin:\n",
        "  for line in fin:\n",
        "    print(line)"
      ],
      "metadata": {
        "colab": {
          "base_uri": "https://localhost:8080/"
        },
        "id": "58KIeU-xyj13",
        "outputId": "c44b086d-e039-48c1-a47f-4d4481f85ec5"
      },
      "execution_count": null,
      "outputs": [
        {
          "output_type": "stream",
          "name": "stdout",
          "text": [
            "{\"record_id\": 0, \"iter_per_learner\": 1, \"logged_metric\": {\"pred_time\": 0.013989242177696344, \"intermediate_results\": [{\"eval_loss\": 0.8727557063102722, \"eval_automl_metric\": 0.3628192032686415, \"eval_runtime\": 68.6435, \"eval_samples_per_second\": 71.31, \"eval_steps_per_second\": 71.31, \"epoch\": 0.3, \"train_runtime\": 149.5055, \"train_samples_per_second\": 29.465, \"train_steps_per_second\": 0.923, \"train_loss\": 0.9736662049224412}]}, \"trial_time\": 256.7629292011261, \"wall_clock_time\": 256.8650815486908, \"validation_loss\": 0.3628192032686415, \"config\": {\"learning_rate\": 9.999999999999999e-06, \"num_train_epochs\": 0.3, \"per_device_train_batch_size\": 32, \"seed\": 20, \"global_max_steps\": 138, \"model_path\": \"bert-base-uncased\"}, \"learner\": \"transformer_ms\", \"sample_size\": 14684}\n",
            "\n",
            "{\"record_id\": 1, \"iter_per_learner\": 2, \"logged_metric\": {\"pred_time\": 0.013809721608692828, \"intermediate_results\": [{\"eval_loss\": 0.946633517742157, \"eval_automl_metric\": 0.4518896833503575, \"eval_runtime\": 68.8559, \"eval_samples_per_second\": 71.091, \"eval_steps_per_second\": 71.091, \"epoch\": 0.3, \"train_runtime\": 155.042, \"train_samples_per_second\": 28.413, \"train_steps_per_second\": 0.445, \"train_loss\": 1.0112800045289856}]}, \"trial_time\": 261.29625153541565, \"wall_clock_time\": 518.1829340457916, \"validation_loss\": 0.4518896833503575, \"config\": {\"learning_rate\": 9.706892218498696e-06, \"num_train_epochs\": 0.3, \"per_device_train_batch_size\": 64, \"seed\": 14, \"global_max_steps\": 69, \"model_path\": \"bert-base-uncased\"}, \"learner\": \"transformer_ms\", \"sample_size\": 14684}\n",
            "\n",
            "{\"record_id\": 2, \"iter_per_learner\": 3, \"logged_metric\": {\"pred_time\": 0.014071654542839198, \"intermediate_results\": [{\"eval_loss\": 0.6528550982475281, \"eval_automl_metric\": 0.27007150153217574, \"eval_runtime\": 69.1705, \"eval_samples_per_second\": 70.767, \"eval_steps_per_second\": 70.767, \"epoch\": 0.3, \"train_runtime\": 151.9218, \"train_samples_per_second\": 28.996, \"train_steps_per_second\": 1.817, \"train_loss\": 0.8494818314262058}]}, \"trial_time\": 262.854238986969, \"wall_clock_time\": 781.2544484138489, \"validation_loss\": 0.27007150153217574, \"config\": {\"learning_rate\": 1.0301958417692867e-05, \"num_train_epochs\": 0.3, \"per_device_train_batch_size\": 16, \"seed\": 26, \"global_max_steps\": 276, \"model_path\": \"roberta-base\"}, \"learner\": \"transformer_ms\", \"sample_size\": 14684}\n",
            "\n",
            "{\"record_id\": 3, \"iter_per_learner\": 4, \"logged_metric\": {\"pred_time\": 0.013939913105794188, \"intermediate_results\": [{\"eval_loss\": 0.9604764580726624, \"eval_automl_metric\": 0.4655771195097038, \"eval_runtime\": 68.0275, \"eval_samples_per_second\": 71.956, \"eval_steps_per_second\": 71.956, \"epoch\": 0.3, \"train_runtime\": 147.4424, \"train_samples_per_second\": 29.877, \"train_steps_per_second\": 1.872, \"train_loss\": 1.0139579220094543}]}, \"trial_time\": 254.1214702129364, \"wall_clock_time\": 1035.4846386909485, \"validation_loss\": 0.4655771195097038, \"config\": {\"learning_rate\": 4.403698954265022e-06, \"num_train_epochs\": 0.3, \"per_device_train_batch_size\": 16, \"seed\": 31, \"global_max_steps\": 276, \"model_path\": \"bert-base-uncased\"}, \"learner\": \"transformer_ms\", \"sample_size\": 14684}\n",
            "\n",
            "{\"curr_best_record_id\": 2}\n",
            "\n"
          ]
        }
      ]
    },
    {
      "cell_type": "markdown",
      "source": [
        "We plot the performance of BERT, RoBERTa, and model selection w.r.t. the wall clock time. We find two things: \n",
        "\n",
        "(1) although RoBERTa frequently outperforms BERT on benchmark datasets, its performance on the spooky-author-identification dataset is worse than BERT using the same time budget. Therefore, model selection is a non trivial problem;\n",
        "\n",
        "(2) by using FLAML's automated model selection, we are able to achieve a better performance than using just one model. Therefore, automated model selection is helpful;"
      ],
      "metadata": {
        "id": "ujti_Dih5_-3"
      }
    },
    {
      "cell_type": "code",
      "source": [
        "from flaml.data import get_output_from_log\n",
        "import matplotlib.pyplot as plt\n",
        "import numpy as np\n",
        "\n",
        "for each_file_name in ['bert', 'roberta', 'ms']:\n",
        "    time_history, best_valid_loss_history, valid_loss_history, config_history, metric_history = \\\n",
        "        get_output_from_log(filename='spooky_' + each_file_name + '.log', time_budget=3000)\n",
        "    print(len(valid_loss_history))\n",
        "    plt.scatter(time_history, 1 - np.array(valid_loss_history))\n",
        "    plt.step(time_history, 1 - np.array(best_valid_loss_history), where='post')\n",
        "\n",
        "plt.legend(['bert', 'roberta', 'ms'])\n",
        "plt.show()"
      ],
      "metadata": {
        "colab": {
          "base_uri": "https://localhost:8080/",
          "height": 317
        },
        "id": "rxV-dTUhxaQO",
        "outputId": "b93c2114-ef4e-4f5e-d23b-4cb450af006f"
      },
      "execution_count": null,
      "outputs": [
        {
          "output_type": "stream",
          "name": "stdout",
          "text": [
            "5\n",
            "5\n",
            "9\n"
          ]
        },
        {
          "output_type": "display_data",
          "data": {
            "text/plain": [
              "<Figure size 432x288 with 1 Axes>"
            ],
            "image/png": "[encoded data removed]"
          },
          "metadata": {
            "needs_background": "light"
          }
        }
      ]
    },
    {
      "cell_type": "markdown",
      "metadata": {
        "id": "lT7IwNCoTjhJ"
      },
      "source": [
        "## 4. Other Tasks"
      ]
    },
    {
      "cell_type": "markdown",
      "metadata": {
        "id": "Fzkr77iATjhJ"
      },
      "source": [
        "Besides sequence classification, FLAML currently also supports four other tasks (more tasks are to be supported, which can be found on [FLAML's documentation website] (https://microsoft.github.io/FLAML/docs/Examples/AutoML-NLP)):\n",
        "\n",
        "- sequence regression: predicting a float number from the input sequence, e.g., predicting the rating of a hotel review based on the text content;\n",
        "- token classification: predicting the label of each token in a sequence, e.g., named entity recognition;\n",
        "- multiple choice: predicting the best second half of a sentence that comes next to the first part of a sentence based on common sensen reasoning. An example is seen below;\n",
        "- (abstractive) summarization: generating the textual summarization of an input paragraph;\n",
        "\n",
        "Here we look into two tasks: multiple choice classification and text summarization. These tasks require significant computational resources, therefore instead of Colab, we run them using 4 NVIDIA V100 GPUs and Ray Tune on our server."
      ]
    },
    {
      "cell_type": "markdown",
      "metadata": {
        "id": "Y4VgUR5TTjhJ"
      },
      "source": [
        "### 4.1 Multiple Choice Example"
      ]
    },
    {
      "cell_type": "markdown",
      "metadata": {
        "id": "OO8GqaH3TjhJ"
      },
      "source": [
        "Multiple choice is a task of predicting the best second half of a sentence that follows the first half based on common sense reasoning. An example of multiple-choice classification problem is:\n",
        "\n",
        "On stage, a woman takes a seat at the piano. She\n",
        "a) sits on a bench as her sister plays with the doll.\n",
        "b) smiles with someone as the music plays.\n",
        "c) is in the crowd, watching the dancers.\n",
        "d) *nervously sets her fingers on the keys*."
      ]
    },
    {
      "cell_type": "code",
      "execution_count": null,
      "metadata": {
        "colab": {
          "base_uri": "https://localhost:8080/"
        },
        "id": "hQ5fX0N3TjhJ",
        "outputId": "d3332604-429e-4397-d79d-caa78c0765ee"
      },
      "outputs": [
        {
          "output_type": "stream",
          "name": "stderr",
          "text": [
            "WARNING:datasets.builder:No config specified, defaulting to: swag/regular\n",
            "WARNING:datasets.builder:Found cached dataset swag (/root/.cache/huggingface/datasets/swag/regular/0.0.0/9640de08cdba6a1469ed3834fcab4b8ad8e38caf5d1ba5e7436d8b1fd067ad4c)\n",
            "WARNING:datasets.builder:No config specified, defaulting to: swag/regular\n",
            "WARNING:datasets.builder:Found cached dataset swag (/root/.cache/huggingface/datasets/swag/regular/0.0.0/9640de08cdba6a1469ed3834fcab4b8ad8e38caf5d1ba5e7436d8b1fd067ad4c)\n",
            "WARNING:datasets.builder:No config specified, defaulting to: swag/regular\n",
            "WARNING:datasets.builder:Found cached dataset swag (/root/.cache/huggingface/datasets/swag/regular/0.0.0/9640de08cdba6a1469ed3834fcab4b8ad8e38caf5d1ba5e7436d8b1fd067ad4c)\n"
          ]
        },
        {
          "output_type": "stream",
          "name": "stdout",
          "text": [
            "10000\n",
            "2000\n"
          ]
        }
      ],
      "source": [
        "from datasets import load_dataset\n",
        "\n",
        "train_dataset = load_dataset(\"swag\", split=\"train\").to_pandas()[:10000]\n",
        "dev_dataset = load_dataset(\"swag\", split=\"validation\").to_pandas()[:2000]\n",
        "test_dataset = load_dataset(\"swag\", split=\"test\").to_pandas()\n",
        "\n",
        "custom_sent_keys = [\n",
        "        \"sent1\",\n",
        "        \"sent2\",\n",
        "        \"ending0\",\n",
        "        \"ending1\",\n",
        "        \"ending2\",\n",
        "        \"ending3\",\n",
        "        \"gold-source\",\n",
        "        \"video-id\",\n",
        "        \"startphrase\",\n",
        "        \"fold-ind\",\n",
        "    ]                                                  # specify the column names of the input sentences\n",
        "label_key = \"label\"                                    # specify the column name of the label\n",
        "\n",
        "X_train, y_train = train_dataset[custom_sent_keys], train_dataset[label_key]\n",
        "X_val, y_val = dev_dataset[custom_sent_keys], dev_dataset[label_key]\n",
        "X_test = test_dataset[custom_sent_keys]\n",
        "\n",
        "print(len(X_train))\n",
        "print(len(X_val))"
      ]
    },
    {
      "cell_type": "code",
      "execution_count": null,
      "metadata": {
        "colab": {
          "base_uri": "https://localhost:8080/",
          "height": 53
        },
        "id": "19m2ZpRGTjhJ",
        "outputId": "65a82458-dfd0-4e90-d0ac-fdbd231822f1"
      },
      "outputs": [
        {
          "data": {
            "application/vnd.google.colaboratory.intrinsic+json": {
              "type": "string"
            },
            "text/plain": [
              "'Members of the procession walk down the street holding small horn brass instruments.'"
            ]
          },
          "execution_count": 29,
          "metadata": {},
          "output_type": "execute_result"
        }
      ],
      "source": [
        "train_dataset.iloc[0][\"sent1\"]"
      ]
    },
    {
      "cell_type": "code",
      "execution_count": null,
      "metadata": {
        "colab": {
          "base_uri": "https://localhost:8080/"
        },
        "id": "uvNeyzFsTjhJ",
        "outputId": "e48a65e9-9c77-4c07-cc41-5f49aed1ad3c"
      },
      "outputs": [
        {
          "output_type": "stream",
          "name": "stdout",
          "text": [
            "[flaml.automl.automl: 02-04 19:17:22] {2715} INFO - task = multichoice-classification\n",
            "[flaml.automl.automl: 02-04 19:17:22] {2717} INFO - Data split method: stratified\n",
            "[flaml.automl.automl: 02-04 19:17:22] {2720} INFO - Evaluation method: holdout\n",
            "[flaml.automl.automl: 02-04 19:17:22] {2847} INFO - Minimizing error metric: 1-accuracy\n",
            "[flaml.automl.automl: 02-04 19:17:22] {2993} INFO - List of ML learners in AutoML Run: ['transformer']\n",
            "[flaml.automl.automl: 02-04 19:17:22] {3322} INFO - iteration 0, current learner transformer\n"
          ]
        },
        {
          "output_type": "stream",
          "name": "stderr",
          "text": [
            "/usr/local/lib/python3.8/dist-packages/pandas/core/frame.py:3641: SettingWithCopyWarning: \n",
            "A value is trying to be set on a copy of a slice from a DataFrame.\n",
            "Try using .loc[row_indexer,col_indexer] = value instead\n",
            "\n",
            "See the caveats in the documentation: https://pandas.pydata.org/pandas-docs/stable/user_guide/indexing.html#returning-a-view-versus-a-copy\n",
            "  self[k1] = value[k2]\n",
            "/usr/local/lib/python3.8/dist-packages/transformers/optimization.py:306: FutureWarning: This implementation of AdamW is deprecated and will be removed in a future version. Use the PyTorch implementation torch.optim.AdamW instead, or set `no_deprecation_warning=True` to disable this warning\n",
            "  warnings.warn(\n"
          ]
        },
        {
          "output_type": "stream",
          "name": "stdout",
          "text": [
            "{'loss': 1.0939, 'learning_rate': 9.333333333333333e-06, 'epoch': 0.2}\n",
            "{'loss': 0.9167, 'learning_rate': 8.666666666666666e-06, 'epoch': 0.4}\n",
            "{'loss': 0.8645, 'learning_rate': 8e-06, 'epoch': 0.6}\n",
            "{'loss': 0.8389, 'learning_rate': 7.333333333333332e-06, 'epoch': 0.8}\n",
            "{'loss': 0.8301, 'learning_rate': 6.666666666666666e-06, 'epoch': 1.0}\n",
            "{'loss': 0.5047, 'learning_rate': 5.999999999999999e-06, 'epoch': 1.2}\n",
            "{'loss': 0.5136, 'learning_rate': 5.333333333333333e-06, 'epoch': 1.4}\n",
            "{'loss': 0.4773, 'learning_rate': 4.666666666666666e-06, 'epoch': 1.6}\n",
            "{'loss': 0.5683, 'learning_rate': 4e-06, 'epoch': 1.8}\n",
            "{'loss': 0.5244, 'learning_rate': 3.333333333333333e-06, 'epoch': 2.0}\n",
            "{'eval_loss': 0.8023245930671692, 'eval_automl_metric': 0.24550000000000005, 'eval_runtime': 34.2913, 'eval_samples_per_second': 58.324, 'eval_steps_per_second': 58.324, 'epoch': 2.0}\n",
            "{'loss': 0.286, 'learning_rate': 2.6666666666666664e-06, 'epoch': 2.2}\n",
            "{'loss': 0.2731, 'learning_rate': 2e-06, 'epoch': 2.4}\n",
            "{'loss': 0.3135, 'learning_rate': 1.3333333333333332e-06, 'epoch': 2.6}\n",
            "{'loss': 0.2998, 'learning_rate': 6.666666666666666e-07, 'epoch': 2.8}\n",
            "{'loss': 0.3069, 'learning_rate': 0.0, 'epoch': 3.0}\n",
            "{'eval_loss': 1.0260273218154907, 'eval_automl_metric': 0.24950000000000006, 'eval_runtime': 34.1546, 'eval_samples_per_second': 58.557, 'eval_steps_per_second': 58.557, 'epoch': 3.0}\n",
            "{'train_runtime': 1305.7207, 'train_samples_per_second': 22.976, 'train_steps_per_second': 5.744, 'train_loss': 0.5741126241048177, 'epoch': 3.0}\n"
          ]
        },
        {
          "output_type": "stream",
          "name": "stderr",
          "text": [
            "The following columns in the test set  don't have a corresponding argument in `BertForMultipleChoice.forward` and have been ignored: sent2, ending2, startphrase, sent1, ending3, video-id, ending0, gold-source, fold-ind, ending1. If sent2, ending2, startphrase, sent1, ending3, video-id, ending0, gold-source, fold-ind, ending1 are not expected by `BertForMultipleChoice.forward`,  you can safely ignore this message.\n",
            "***** Running Prediction *****\n",
            "  Num examples = 2000\n",
            "  Batch size = 1\n",
            "Didn't find file data/output/train_2023-02-04_19-17-29/train_8d1725e6_1_s=9223372036854775807,e=1e-05,s=-1,s=3,e=4,d=20_2023-02-04_19-17-29/checkpoint-5000/added_tokens.json. We won't load it.\n",
            "loading file data/output/train_2023-02-04_19-17-29/train_8d1725e6_1_s=9223372036854775807,e=1e-05,s=-1,s=3,e=4,d=20_2023-02-04_19-17-29/checkpoint-5000/vocab.txt\n",
            "loading file data/output/train_2023-02-04_19-17-29/train_8d1725e6_1_s=9223372036854775807,e=1e-05,s=-1,s=3,e=4,d=20_2023-02-04_19-17-29/checkpoint-5000/tokenizer.json\n",
            "loading file None\n",
            "loading file data/output/train_2023-02-04_19-17-29/train_8d1725e6_1_s=9223372036854775807,e=1e-05,s=-1,s=3,e=4,d=20_2023-02-04_19-17-29/checkpoint-5000/special_tokens_map.json\n",
            "loading file data/output/train_2023-02-04_19-17-29/train_8d1725e6_1_s=9223372036854775807,e=1e-05,s=-1,s=3,e=4,d=20_2023-02-04_19-17-29/checkpoint-5000/tokenizer_config.json\n"
          ]
        },
        {
          "output_type": "stream",
          "name": "stdout",
          "text": [
            "[flaml.automl.automl: 02-04 19:40:51] {3460} INFO - Estimated sufficient time budget=14090681s. Estimated necessary time budget=14091s.\n",
            "[flaml.automl.automl: 02-04 19:40:51] {3507} INFO -  at 1409.2s,\testimator transformer's best error=0.2455,\tbest estimator transformer's best error=0.2455\n",
            "[flaml.automl.automl: 02-04 19:40:51] {3623} INFO - selected model: None\n",
            "[flaml.automl.automl: 02-04 19:40:51] {3023} INFO - fit succeeded\n",
            "[flaml.automl.automl: 02-04 19:40:51] {3024} INFO - Time taken to find the best model: 1409.1783339977264\n",
            "[flaml.automl.automl: 02-04 19:40:51] {3036} WARNING - Time taken to find the best model is 78% of the provided time budget and not all estimators' hyperparameter search converged. Consider increasing the time budget.\n"
          ]
        }
      ],
      "source": [
        "''' import AutoML class from flaml package '''\n",
        "from flaml import AutoML\n",
        "automl = AutoML()\n",
        "\n",
        "automl_settings = {\n",
        "    \"time_budget\": 1800,                 # setting the time budget\n",
        "    \"task\": \"multichoice-classification\",       # setting the task as multiplechoice-classification\n",
        "    \"fit_kwargs_by_estimator\": {          # if model_path is not set, the default model is facebook/muppet-roberta-base: https://huggingface.co/facebook/muppet-roberta-base\n",
        "        \"transformer\": {\n",
        "            \"output_dir\": \"data/output/\",  # setting the output directory\n",
        "            \"model_path\": \"bert-base-uncased\", # the batch size for validation (inference)\n",
        "        }\n",
        "    },\n",
        "    \"gpu_per_trial\": 1,                 # set to 0 if no GPU is available\n",
        "    \"log_file_name\": \"seqclass.log\",    # set the file to save the log for HPO\n",
        "    \"log_type\": \"all\",                  # the log type for trials: \"all\" if logging all the trials, \"better\" if only keeping the better trials\n",
        "    \"use_ray\": False,                    # set whether to use Ray\n",
        "    \"n_concurrent_trials\": 1,\n",
        "    \"fp16\": False\n",
        "}\n",
        "\n",
        "from flaml import tune\n",
        "custom_hp = {\n",
        "    \"transformer\": {\n",
        "            \"per_device_train_batch_size\": {\n",
        "                \"domain\": tune.choice([1, 2, 4]),\n",
        "                \"init_value\": 4,\n",
        "                \"low_cost_init_value\": 4,\n",
        "            },\n",
        "        }\n",
        "}\n",
        "\n",
        "'''The main flaml automl API'''\n",
        "automl.fit(X_train=X_train, y_train=y_train, X_val=X_val, y_val=y_val, custom_hp=custom_hp, **automl_settings)"
      ]
    },
    {
      "cell_type": "code",
      "execution_count": null,
      "metadata": {
        "colab": {
          "base_uri": "https://localhost:8080/",
          "height": 350
        },
        "id": "kh7ZJsIKTjhJ",
        "outputId": "ad3872bc-f3cf-4f43-823d-6dcef6dc9983"
      },
      "outputs": [
        {
          "output_type": "stream",
          "name": "stdout",
          "text": [
            "{'Current Learner': 'transformer', 'Current Sample': 10000, 'Current Hyper-parameters': {'learning_rate': 9.999999999999999e-06, 'num_train_epochs': 3, 'per_device_train_batch_size': 4, 'seed': 20, 'global_max_steps': 5000}, 'Best Learner': 'transformer', 'Best Hyper-parameters': {'learning_rate': 9.999999999999999e-06, 'num_train_epochs': 3, 'per_device_train_batch_size': 4, 'seed': 20, 'global_max_steps': 5000}}\n",
            "1\n"
          ]
        },
        {
          "output_type": "display_data",
          "data": {
            "text/plain": [
              "<Figure size 432x288 with 1 Axes>"
            ],
            "image/png": "[encoded data removed]"
          },
          "metadata": {
            "needs_background": "light"
          }
        }
      ],
      "source": [
        "from flaml.data import get_output_from_log\n",
        "time_history, best_valid_loss_history, valid_loss_history, config_history, metric_history = \\\n",
        "    get_output_from_log(filename=automl_settings['log_file_name'], time_budget=3000)\n",
        "for config in config_history:\n",
        "    print(config)\n",
        "\n",
        "import matplotlib.pyplot as plt\n",
        "import numpy as np\n",
        "plt.title('Learning Curve')\n",
        "plt.xlabel('Wall Clock Time (s)')\n",
        "plt.ylabel('Validation Accuracy')\n",
        "print(len(valid_loss_history))\n",
        "plt.scatter(time_history, 1 - np.array(valid_loss_history))\n",
        "plt.step(time_history, 1 - np.array(best_valid_loss_history), where='post')\n",
        "plt.show()"
      ]
    },
    {
      "cell_type": "markdown",
      "metadata": {
        "id": "664qCdihTjhJ"
      },
      "source": [
        "### 4.2 Text Summarization Example"
      ]
    },
    {
      "cell_type": "markdown",
      "metadata": {
        "id": "kmB4kaF_TjhJ"
      },
      "source": [
        "The text summarization task summarizes a long text into a short sentence. For example:\n",
        "\n",
        "- Document: Army explosives experts were called out to deal with a suspect package at the offices on the Newtownards Road on Friday night. Roads were sealed off and traffic diverted as a controlled explosion was carried out. The premises, used by East Belfast MP Naomi Long, have been targeted a number of times. Most recently, petrol bomb attacks were carried out on the offices on consecutive nights in April and May. The attacks began following a Belfast City Council vote in December 2012 restricting the flying of the union flag at the City Hall. Condemning the latest hoax, Alliance MLA Chris Lyttle said: \"It is a serious incident for the local area, it causes serious disruption, it puts people's lives at risk, it can prevent emergency services reaching the area. \"Ultimately we need people with information to share that with the police in order for them to do their job and bring these people to justice.\n",
        "\n",
        "- Summary: A suspicious package left outside an Alliance Party office in east Belfast has been declared a hoax.\n",
        "\n",
        "In this example, we use FLAML to perform *abstractive summarization* using the t5-small language model, i.e., the summary is generated word-by-word. "
      ]
    },
    {
      "cell_type": "code",
      "execution_count": null,
      "metadata": {
        "colab": {
          "base_uri": "https://localhost:8080/"
        },
        "id": "amlQnvcxTjhK",
        "outputId": "2afc7600-c835-4cae-f68f-92171fa77645"
      },
      "outputs": [
        {
          "output_type": "stream",
          "name": "stderr",
          "text": [
            "WARNING:datasets.builder:Found cached dataset xsum (/root/.cache/huggingface/datasets/xsum/default/1.2.0/082863bf4754ee058a5b6f6525d0cb2b18eadb62c7b370b095d1364050a52b71)\n",
            "WARNING:datasets.builder:Found cached dataset xsum (/root/.cache/huggingface/datasets/xsum/default/1.2.0/082863bf4754ee058a5b6f6525d0cb2b18eadb62c7b370b095d1364050a52b71)\n",
            "WARNING:datasets.builder:Found cached dataset xsum (/root/.cache/huggingface/datasets/xsum/default/1.2.0/082863bf4754ee058a5b6f6525d0cb2b18eadb62c7b370b095d1364050a52b71)\n"
          ]
        },
        {
          "output_type": "stream",
          "name": "stdout",
          "text": [
            "1000\n",
            "400\n"
          ]
        }
      ],
      "source": [
        "from datasets import load_dataset\n",
        "\n",
        "train_dataset = load_dataset(\"xsum\", split=\"train\").to_pandas()[:1000]\n",
        "valid_dataset = load_dataset(\"xsum\", split=\"validation\").to_pandas()[:400]\n",
        "test_dataset = load_dataset(\"xsum\", split=\"test\").to_pandas()\n",
        "\n",
        "custom_sent_keys = [\"document\"]       # specify the column names of the input sentences\n",
        "label_key = \"summary\"                 # specify the column name of the label                              \n",
        "\n",
        "X_train, y_train = train_dataset[custom_sent_keys], train_dataset[label_key]\n",
        "X_val, y_val = valid_dataset[custom_sent_keys], valid_dataset[label_key]\n",
        "X_test = test_dataset[custom_sent_keys]\n",
        "\n",
        "print(len(train_dataset))\n",
        "print(len(valid_dataset))"
      ]
    },
    {
      "cell_type": "code",
      "execution_count": null,
      "metadata": {
        "colab": {
          "base_uri": "https://localhost:8080/"
        },
        "id": "aYq8XAtxTjhK",
        "outputId": "c05b2f88-bf3f-4130-d58a-a50e2d4db4ce"
      },
      "outputs": [
        {
          "output_type": "stream",
          "name": "stdout",
          "text": [
            "[flaml.automl.automl: 02-04 20:59:07] {2715} INFO - task = summarization\n",
            "[flaml.automl.automl: 02-04 20:59:07] {2717} INFO - Data split method: uniform\n",
            "[flaml.automl.automl: 02-04 20:59:07] {2720} INFO - Evaluation method: holdout\n",
            "[flaml.automl.automl: 02-04 20:59:07] {2847} INFO - Minimizing error metric: rouge1\n",
            "[flaml.automl.automl: 02-04 20:59:07] {2993} INFO - List of ML learners in AutoML Run: ['transformer']\n",
            "[flaml.automl.automl: 02-04 20:59:07] {3322} INFO - iteration 0, current learner transformer\n"
          ]
        },
        {
          "output_type": "stream",
          "name": "stderr",
          "text": [
            "/usr/local/lib/python3.8/dist-packages/pandas/core/frame.py:3641: SettingWithCopyWarning: \n",
            "A value is trying to be set on a copy of a slice from a DataFrame.\n",
            "Try using .loc[row_indexer,col_indexer] = value instead\n",
            "\n",
            "See the caveats in the documentation: https://pandas.pydata.org/pandas-docs/stable/user_guide/indexing.html#returning-a-view-versus-a-copy\n",
            "  self[k1] = value[k2]\n",
            "/usr/local/lib/python3.8/dist-packages/transformers/optimization.py:306: FutureWarning: This implementation of AdamW is deprecated and will be removed in a future version. Use the PyTorch implementation torch.optim.AdamW instead, or set `no_deprecation_warning=True` to disable this warning\n",
            "  warnings.warn(\n",
            "[nltk_data] Downloading package punkt to /root/nltk_data...\n",
            "[nltk_data]   Package punkt is already up-to-date!\n",
            "/usr/local/lib/python3.8/dist-packages/flaml/automl/ml.py:166: FutureWarning: load_metric is deprecated and will be removed in the next major version of datasets. Use 'evaluate.load' instead, from the new library 🤗 Evaluate: https://huggingface.co/docs/evaluate\n",
            "  metric = datasets.load_metric(datasets_metric_name)\n"
          ]
        },
        {
          "output_type": "stream",
          "name": "stdout",
          "text": [
            "{'eval_loss': 4.069125175476074, 'eval_automl_metric': 0.8538466562851643, 'eval_runtime': 77.8206, 'eval_samples_per_second': 5.14, 'eval_steps_per_second': 5.14, 'epoch': 0.12}\n",
            "{'train_runtime': 82.4666, 'train_samples_per_second': 1.213, 'train_steps_per_second': 0.049, 'train_loss': 4.296197891235352, 'epoch': 0.12}\n"
          ]
        },
        {
          "output_type": "stream",
          "name": "stderr",
          "text": [
            "***** Running Prediction *****\n",
            "  Num examples = 400\n",
            "  Batch size = 1\n",
            "Didn't find file data/output/train_2023-02-04_20-59-14/train_c3c8751e_1_s=9223372036854775807,e=1e-05,s=-1,s=0.1,e=32,d=20_2023-02-04_20-59-14/checkpoint-4/spiece.model. We won't load it.\n",
            "Didn't find file data/output/train_2023-02-04_20-59-14/train_c3c8751e_1_s=9223372036854775807,e=1e-05,s=-1,s=0.1,e=32,d=20_2023-02-04_20-59-14/checkpoint-4/added_tokens.json. We won't load it.\n",
            "loading file None\n",
            "loading file data/output/train_2023-02-04_20-59-14/train_c3c8751e_1_s=9223372036854775807,e=1e-05,s=-1,s=0.1,e=32,d=20_2023-02-04_20-59-14/checkpoint-4/tokenizer.json\n",
            "loading file None\n",
            "loading file data/output/train_2023-02-04_20-59-14/train_c3c8751e_1_s=9223372036854775807,e=1e-05,s=-1,s=0.1,e=32,d=20_2023-02-04_20-59-14/checkpoint-4/special_tokens_map.json\n",
            "loading file data/output/train_2023-02-04_20-59-14/train_c3c8751e_1_s=9223372036854775807,e=1e-05,s=-1,s=0.1,e=32,d=20_2023-02-04_20-59-14/checkpoint-4/tokenizer_config.json\n",
            "[nltk_data] Downloading package punkt to /root/nltk_data...\n",
            "[nltk_data]   Package punkt is already up-to-date!\n"
          ]
        },
        {
          "output_type": "stream",
          "name": "stdout",
          "text": [
            "[flaml.automl.automl: 02-04 21:02:49] {3460} INFO - Estimated sufficient time budget=2218158s. Estimated necessary time budget=2218s.\n",
            "[flaml.automl.automl: 02-04 21:02:49] {3507} INFO -  at 221.8s,\testimator transformer's best error=0.8538,\tbest estimator transformer's best error=0.8538\n",
            "[flaml.automl.automl: 02-04 21:02:49] {3322} INFO - iteration 1, current learner transformer\n"
          ]
        },
        {
          "output_type": "stream",
          "name": "stderr",
          "text": [
            "/usr/local/lib/python3.8/dist-packages/transformers/optimization.py:306: FutureWarning: This implementation of AdamW is deprecated and will be removed in a future version. Use the PyTorch implementation torch.optim.AdamW instead, or set `no_deprecation_warning=True` to disable this warning\n",
            "  warnings.warn(\n",
            "[nltk_data] Downloading package punkt to /root/nltk_data...\n",
            "[nltk_data]   Package punkt is already up-to-date!\n"
          ]
        },
        {
          "output_type": "stream",
          "name": "stdout",
          "text": [
            "{'eval_loss': 4.079618453979492, 'eval_automl_metric': 0.8530483735569663, 'eval_runtime': 85.5044, 'eval_samples_per_second': 4.678, 'eval_steps_per_second': 4.678, 'epoch': 0.12}\n",
            "{'train_runtime': 89.8809, 'train_samples_per_second': 1.113, 'train_steps_per_second': 0.022, 'train_loss': 4.259670257568359, 'epoch': 0.12}\n"
          ]
        },
        {
          "output_type": "stream",
          "name": "stderr",
          "text": [
            "***** Running Prediction *****\n",
            "  Num examples = 400\n",
            "  Batch size = 1\n",
            "Didn't find file data/output/train_2023-02-04_21-02-49/train_48000928_2_s=9223372036854775807,e=9.7119e-06,s=-1,s=0.1,e=64,d=14_2023-02-04_21-02-49/checkpoint-2/spiece.model. We won't load it.\n",
            "Didn't find file data/output/train_2023-02-04_21-02-49/train_48000928_2_s=9223372036854775807,e=9.7119e-06,s=-1,s=0.1,e=64,d=14_2023-02-04_21-02-49/checkpoint-2/added_tokens.json. We won't load it.\n",
            "loading file None\n",
            "loading file data/output/train_2023-02-04_21-02-49/train_48000928_2_s=9223372036854775807,e=9.7119e-06,s=-1,s=0.1,e=64,d=14_2023-02-04_21-02-49/checkpoint-2/tokenizer.json\n",
            "loading file None\n",
            "loading file data/output/train_2023-02-04_21-02-49/train_48000928_2_s=9223372036854775807,e=9.7119e-06,s=-1,s=0.1,e=64,d=14_2023-02-04_21-02-49/checkpoint-2/special_tokens_map.json\n",
            "loading file data/output/train_2023-02-04_21-02-49/train_48000928_2_s=9223372036854775807,e=9.7119e-06,s=-1,s=0.1,e=64,d=14_2023-02-04_21-02-49/checkpoint-2/tokenizer_config.json\n",
            "[nltk_data] Downloading package punkt to /root/nltk_data...\n",
            "[nltk_data]   Package punkt is already up-to-date!\n",
            "WARNING:flaml.automl:checkpoint data/output/train_2023-02-04_20-59-14/train_c3c8751e_1_s=9223372036854775807,e=1e-05,s=-1,s=0.1,e=32,d=20_2023-02-04_20-59-14/checkpoint-4 not found\n"
          ]
        },
        {
          "output_type": "stream",
          "name": "stdout",
          "text": [
            "[flaml.automl.automl: 02-04 21:06:28] {3507} INFO -  at 441.3s,\testimator transformer's best error=0.8530,\tbest estimator transformer's best error=0.8530\n",
            "[flaml.automl.automl: 02-04 21:06:28] {3322} INFO - iteration 2, current learner transformer\n"
          ]
        },
        {
          "output_type": "stream",
          "name": "stderr",
          "text": [
            "/usr/local/lib/python3.8/dist-packages/transformers/optimization.py:306: FutureWarning: This implementation of AdamW is deprecated and will be removed in a future version. Use the PyTorch implementation torch.optim.AdamW instead, or set `no_deprecation_warning=True` to disable this warning\n",
            "  warnings.warn(\n",
            "[nltk_data] Downloading package punkt to /root/nltk_data...\n",
            "[nltk_data]   Package punkt is already up-to-date!\n"
          ]
        },
        {
          "output_type": "stream",
          "name": "stdout",
          "text": [
            "{'eval_loss': 4.069125175476074, 'eval_automl_metric': 0.8538466562851643, 'eval_runtime': 78.282, 'eval_samples_per_second': 5.11, 'eval_steps_per_second': 5.11, 'epoch': 0.12}\n",
            "{'train_runtime': 82.7931, 'train_samples_per_second': 1.208, 'train_steps_per_second': 0.048, 'train_loss': 4.296197891235352, 'epoch': 0.12}\n"
          ]
        },
        {
          "output_type": "stream",
          "name": "stderr",
          "text": [
            "***** Running Prediction *****\n",
            "  Num examples = 400\n",
            "  Batch size = 1\n",
            "Didn't find file data/output/train_2023-02-04_21-06-28/train_cad9251e_3_s=9223372036854775807,e=1e-05,s=-1,s=0.1,e=32,d=20_2023-02-04_21-06-28/checkpoint-4/spiece.model. We won't load it.\n",
            "Didn't find file data/output/train_2023-02-04_21-06-28/train_cad9251e_3_s=9223372036854775807,e=1e-05,s=-1,s=0.1,e=32,d=20_2023-02-04_21-06-28/checkpoint-4/added_tokens.json. We won't load it.\n",
            "loading file None\n",
            "loading file data/output/train_2023-02-04_21-06-28/train_cad9251e_3_s=9223372036854775807,e=1e-05,s=-1,s=0.1,e=32,d=20_2023-02-04_21-06-28/checkpoint-4/tokenizer.json\n",
            "loading file None\n",
            "loading file data/output/train_2023-02-04_21-06-28/train_cad9251e_3_s=9223372036854775807,e=1e-05,s=-1,s=0.1,e=32,d=20_2023-02-04_21-06-28/checkpoint-4/special_tokens_map.json\n",
            "loading file data/output/train_2023-02-04_21-06-28/train_cad9251e_3_s=9223372036854775807,e=1e-05,s=-1,s=0.1,e=32,d=20_2023-02-04_21-06-28/checkpoint-4/tokenizer_config.json\n",
            "[nltk_data] Downloading package punkt to /root/nltk_data...\n",
            "[nltk_data]   Package punkt is already up-to-date!\n"
          ]
        },
        {
          "output_type": "stream",
          "name": "stdout",
          "text": [
            "[flaml.automl.automl: 02-04 21:09:58] {3507} INFO -  at 650.6s,\testimator transformer's best error=0.8530,\tbest estimator transformer's best error=0.8530\n",
            "[flaml.automl.automl: 02-04 21:09:58] {3322} INFO - iteration 3, current learner transformer\n"
          ]
        },
        {
          "output_type": "stream",
          "name": "stderr",
          "text": [
            "/usr/local/lib/python3.8/dist-packages/transformers/optimization.py:306: FutureWarning: This implementation of AdamW is deprecated and will be removed in a future version. Use the PyTorch implementation torch.optim.AdamW instead, or set `no_deprecation_warning=True` to disable this warning\n",
            "  warnings.warn(\n",
            "[nltk_data] Downloading package punkt to /root/nltk_data...\n",
            "[nltk_data]   Package punkt is already up-to-date!\n"
          ]
        },
        {
          "output_type": "stream",
          "name": "stdout",
          "text": [
            "{'eval_loss': 4.070651054382324, 'eval_automl_metric': 0.8528544017608968, 'eval_runtime': 79.8791, 'eval_samples_per_second': 5.008, 'eval_steps_per_second': 5.008, 'epoch': 0.12}\n",
            "{'train_runtime': 84.3177, 'train_samples_per_second': 1.186, 'train_steps_per_second': 0.024, 'train_loss': 4.219771385192871, 'epoch': 0.12}\n"
          ]
        },
        {
          "output_type": "stream",
          "name": "stderr",
          "text": [
            "***** Running Prediction *****\n",
            "  Num examples = 400\n",
            "  Batch size = 1\n",
            "Didn't find file data/output/train_2023-02-04_21-09-58/train_47a18b2c_4_s=9223372036854775807,e=1.3959e-05,s=-1,s=0.1,e=64,d=13_2023-02-04_21-09-58/checkpoint-2/spiece.model. We won't load it.\n",
            "Didn't find file data/output/train_2023-02-04_21-09-58/train_47a18b2c_4_s=9223372036854775807,e=1.3959e-05,s=-1,s=0.1,e=64,d=13_2023-02-04_21-09-58/checkpoint-2/added_tokens.json. We won't load it.\n",
            "loading file None\n",
            "loading file data/output/train_2023-02-04_21-09-58/train_47a18b2c_4_s=9223372036854775807,e=1.3959e-05,s=-1,s=0.1,e=64,d=13_2023-02-04_21-09-58/checkpoint-2/tokenizer.json\n",
            "loading file None\n",
            "loading file data/output/train_2023-02-04_21-09-58/train_47a18b2c_4_s=9223372036854775807,e=1.3959e-05,s=-1,s=0.1,e=64,d=13_2023-02-04_21-09-58/checkpoint-2/special_tokens_map.json\n",
            "loading file data/output/train_2023-02-04_21-09-58/train_47a18b2c_4_s=9223372036854775807,e=1.3959e-05,s=-1,s=0.1,e=64,d=13_2023-02-04_21-09-58/checkpoint-2/tokenizer_config.json\n",
            "[nltk_data] Downloading package punkt to /root/nltk_data...\n",
            "[nltk_data]   Package punkt is already up-to-date!\n",
            "WARNING:flaml.automl:checkpoint data/output/train_2023-02-04_21-02-49/train_48000928_2_s=9223372036854775807,e=9.7119e-06,s=-1,s=0.1,e=64,d=14_2023-02-04_21-02-49/checkpoint-2 not found\n"
          ]
        },
        {
          "output_type": "stream",
          "name": "stdout",
          "text": [
            "[flaml.automl.automl: 02-04 21:13:28] {3507} INFO -  at 861.3s,\testimator transformer's best error=0.8529,\tbest estimator transformer's best error=0.8529\n",
            "[flaml.automl.automl: 02-04 21:13:28] {3322} INFO - iteration 4, current learner transformer\n"
          ]
        },
        {
          "output_type": "stream",
          "name": "stderr",
          "text": [
            "/usr/local/lib/python3.8/dist-packages/transformers/optimization.py:306: FutureWarning: This implementation of AdamW is deprecated and will be removed in a future version. Use the PyTorch implementation torch.optim.AdamW instead, or set `no_deprecation_warning=True` to disable this warning\n",
            "  warnings.warn(\n",
            "[nltk_data] Downloading package punkt to /root/nltk_data...\n",
            "[nltk_data]   Package punkt is already up-to-date!\n"
          ]
        },
        {
          "output_type": "stream",
          "name": "stdout",
          "text": [
            "{'eval_loss': 3.992288827896118, 'eval_automl_metric': 0.8522236109094221, 'eval_runtime': 77.6637, 'eval_samples_per_second': 5.15, 'eval_steps_per_second': 5.15, 'epoch': 1.0}\n",
            "{'train_runtime': 95.9723, 'train_samples_per_second': 10.42, 'train_steps_per_second': 0.167, 'train_loss': 4.1770782470703125, 'epoch': 1.0}\n"
          ]
        },
        {
          "output_type": "stream",
          "name": "stderr",
          "text": [
            "***** Running Prediction *****\n",
            "  Num examples = 400\n",
            "  Batch size = 1\n",
            "Didn't find file data/output/train_2023-02-04_21-13-28/train_c5316422_5_s=9223372036854775807,e=9.7119e-06,s=-1,s=1,e=64,d=14_2023-02-04_21-13-28/checkpoint-16/spiece.model. We won't load it.\n",
            "Didn't find file data/output/train_2023-02-04_21-13-28/train_c5316422_5_s=9223372036854775807,e=9.7119e-06,s=-1,s=1,e=64,d=14_2023-02-04_21-13-28/checkpoint-16/added_tokens.json. We won't load it.\n",
            "loading file None\n",
            "loading file data/output/train_2023-02-04_21-13-28/train_c5316422_5_s=9223372036854775807,e=9.7119e-06,s=-1,s=1,e=64,d=14_2023-02-04_21-13-28/checkpoint-16/tokenizer.json\n",
            "loading file None\n",
            "loading file data/output/train_2023-02-04_21-13-28/train_c5316422_5_s=9223372036854775807,e=9.7119e-06,s=-1,s=1,e=64,d=14_2023-02-04_21-13-28/checkpoint-16/special_tokens_map.json\n",
            "loading file data/output/train_2023-02-04_21-13-28/train_c5316422_5_s=9223372036854775807,e=9.7119e-06,s=-1,s=1,e=64,d=14_2023-02-04_21-13-28/checkpoint-16/tokenizer_config.json\n",
            "[nltk_data] Downloading package punkt to /root/nltk_data...\n",
            "[nltk_data]   Package punkt is already up-to-date!\n",
            "WARNING:flaml.automl:checkpoint data/output/train_2023-02-04_21-09-58/train_47a18b2c_4_s=9223372036854775807,e=1.3959e-05,s=-1,s=0.1,e=64,d=13_2023-02-04_21-09-58/checkpoint-2 not found\n"
          ]
        },
        {
          "output_type": "stream",
          "name": "stdout",
          "text": [
            "[flaml.automl.automl: 02-04 21:17:13] {3507} INFO -  at 1086.0s,\testimator transformer's best error=0.8522,\tbest estimator transformer's best error=0.8522\n",
            "[flaml.automl.automl: 02-04 21:17:13] {3322} INFO - iteration 5, current learner transformer\n"
          ]
        },
        {
          "output_type": "stream",
          "name": "stderr",
          "text": [
            "/usr/local/lib/python3.8/dist-packages/transformers/optimization.py:306: FutureWarning: This implementation of AdamW is deprecated and will be removed in a future version. Use the PyTorch implementation torch.optim.AdamW instead, or set `no_deprecation_warning=True` to disable this warning\n",
            "  warnings.warn(\n",
            "[nltk_data] Downloading package punkt to /root/nltk_data...\n",
            "[nltk_data]   Package punkt is already up-to-date!\n"
          ]
        },
        {
          "output_type": "stream",
          "name": "stdout",
          "text": [
            "{'eval_loss': 3.914149761199951, 'eval_automl_metric': 0.8535998619043884, 'eval_runtime': 78.5286, 'eval_samples_per_second': 5.094, 'eval_steps_per_second': 5.094, 'epoch': 1.0}\n",
            "{'train_runtime': 96.8296, 'train_samples_per_second': 10.327, 'train_steps_per_second': 0.165, 'train_loss': 4.1529316902160645, 'epoch': 1.0}\n"
          ]
        },
        {
          "output_type": "stream",
          "name": "stderr",
          "text": [
            "***** Running Prediction *****\n",
            "  Num examples = 400\n",
            "  Batch size = 1\n",
            "Didn't find file data/output/train_2023-02-04_21-17-13/train_4b29c8bc_6_s=9223372036854775807,e=1.6876e-05,s=-1,s=1,e=64,d=20_2023-02-04_21-17-13/checkpoint-16/spiece.model. We won't load it.\n",
            "Didn't find file data/output/train_2023-02-04_21-17-13/train_4b29c8bc_6_s=9223372036854775807,e=1.6876e-05,s=-1,s=1,e=64,d=20_2023-02-04_21-17-13/checkpoint-16/added_tokens.json. We won't load it.\n",
            "loading file None\n",
            "loading file data/output/train_2023-02-04_21-17-13/train_4b29c8bc_6_s=9223372036854775807,e=1.6876e-05,s=-1,s=1,e=64,d=20_2023-02-04_21-17-13/checkpoint-16/tokenizer.json\n",
            "loading file None\n",
            "loading file data/output/train_2023-02-04_21-17-13/train_4b29c8bc_6_s=9223372036854775807,e=1.6876e-05,s=-1,s=1,e=64,d=20_2023-02-04_21-17-13/checkpoint-16/special_tokens_map.json\n",
            "loading file data/output/train_2023-02-04_21-17-13/train_4b29c8bc_6_s=9223372036854775807,e=1.6876e-05,s=-1,s=1,e=64,d=20_2023-02-04_21-17-13/checkpoint-16/tokenizer_config.json\n",
            "[nltk_data] Downloading package punkt to /root/nltk_data...\n",
            "[nltk_data]   Package punkt is already up-to-date!\n"
          ]
        },
        {
          "output_type": "stream",
          "name": "stdout",
          "text": [
            "[flaml.automl.automl: 02-04 21:20:57] {3507} INFO -  at 1309.8s,\testimator transformer's best error=0.8522,\tbest estimator transformer's best error=0.8522\n",
            "[flaml.automl.automl: 02-04 21:20:57] {3322} INFO - iteration 6, current learner transformer\n"
          ]
        },
        {
          "output_type": "stream",
          "name": "stderr",
          "text": [
            "/usr/local/lib/python3.8/dist-packages/transformers/optimization.py:306: FutureWarning: This implementation of AdamW is deprecated and will be removed in a future version. Use the PyTorch implementation torch.optim.AdamW instead, or set `no_deprecation_warning=True` to disable this warning\n",
            "  warnings.warn(\n",
            "[nltk_data] Downloading package punkt to /root/nltk_data...\n",
            "[nltk_data]   Package punkt is already up-to-date!\n"
          ]
        },
        {
          "output_type": "stream",
          "name": "stdout",
          "text": [
            "{'eval_loss': 4.0360307693481445, 'eval_automl_metric': 0.8539379033064027, 'eval_runtime': 79.1591, 'eval_samples_per_second': 5.053, 'eval_steps_per_second': 5.053, 'epoch': 1.0}\n",
            "{'train_runtime': 97.3884, 'train_samples_per_second': 10.268, 'train_steps_per_second': 0.164, 'train_loss': 4.209002494812012, 'epoch': 1.0}\n"
          ]
        },
        {
          "output_type": "stream",
          "name": "stderr",
          "text": [
            "***** Running Prediction *****\n",
            "  Num examples = 400\n",
            "  Batch size = 1\n",
            "Didn't find file data/output/train_2023-02-04_21-20-57/train_d0897e58_7_s=9223372036854775807,e=5.5889e-06,s=-1,s=1,e=64,d=8_2023-02-04_21-20-57/checkpoint-16/spiece.model. We won't load it.\n",
            "Didn't find file data/output/train_2023-02-04_21-20-57/train_d0897e58_7_s=9223372036854775807,e=5.5889e-06,s=-1,s=1,e=64,d=8_2023-02-04_21-20-57/checkpoint-16/added_tokens.json. We won't load it.\n",
            "loading file None\n",
            "loading file data/output/train_2023-02-04_21-20-57/train_d0897e58_7_s=9223372036854775807,e=5.5889e-06,s=-1,s=1,e=64,d=8_2023-02-04_21-20-57/checkpoint-16/tokenizer.json\n",
            "loading file None\n",
            "loading file data/output/train_2023-02-04_21-20-57/train_d0897e58_7_s=9223372036854775807,e=5.5889e-06,s=-1,s=1,e=64,d=8_2023-02-04_21-20-57/checkpoint-16/special_tokens_map.json\n",
            "loading file data/output/train_2023-02-04_21-20-57/train_d0897e58_7_s=9223372036854775807,e=5.5889e-06,s=-1,s=1,e=64,d=8_2023-02-04_21-20-57/checkpoint-16/tokenizer_config.json\n",
            "[nltk_data] Downloading package punkt to /root/nltk_data...\n",
            "[nltk_data]   Package punkt is already up-to-date!\n"
          ]
        },
        {
          "output_type": "stream",
          "name": "stdout",
          "text": [
            "[flaml.automl.automl: 02-04 21:24:41] {3507} INFO -  at 1534.5s,\testimator transformer's best error=0.8522,\tbest estimator transformer's best error=0.8522\n",
            "[flaml.automl.automl: 02-04 21:24:41] {3322} INFO - iteration 7, current learner transformer\n"
          ]
        },
        {
          "output_type": "stream",
          "name": "stderr",
          "text": [
            "/usr/local/lib/python3.8/dist-packages/transformers/optimization.py:306: FutureWarning: This implementation of AdamW is deprecated and will be removed in a future version. Use the PyTorch implementation torch.optim.AdamW instead, or set `no_deprecation_warning=True` to disable this warning\n",
            "  warnings.warn(\n",
            "[nltk_data] Downloading package punkt to /root/nltk_data...\n",
            "[nltk_data]   Package punkt is already up-to-date!\n"
          ]
        },
        {
          "output_type": "stream",
          "name": "stdout",
          "text": [
            "{'eval_loss': 3.876713275909424, 'eval_automl_metric': 0.8523548026125396, 'eval_runtime': 78.9072, 'eval_samples_per_second': 5.069, 'eval_steps_per_second': 5.069, 'epoch': 1.0}\n",
            "{'train_runtime': 97.2102, 'train_samples_per_second': 10.287, 'train_steps_per_second': 0.165, 'train_loss': 4.11635684967041, 'epoch': 1.0}\n"
          ]
        },
        {
          "output_type": "stream",
          "name": "stderr",
          "text": [
            "***** Running Prediction *****\n",
            "  Num examples = 400\n",
            "  Batch size = 1\n",
            "Didn't find file data/output/train_2023-02-04_21-24-41/train_5670b4e6_8_s=9223372036854775807,e=2.0896e-05,s=-1,s=1,e=64,d=12_2023-02-04_21-24-41/checkpoint-16/spiece.model. We won't load it.\n",
            "Didn't find file data/output/train_2023-02-04_21-24-41/train_5670b4e6_8_s=9223372036854775807,e=2.0896e-05,s=-1,s=1,e=64,d=12_2023-02-04_21-24-41/checkpoint-16/added_tokens.json. We won't load it.\n",
            "loading file None\n",
            "loading file data/output/train_2023-02-04_21-24-41/train_5670b4e6_8_s=9223372036854775807,e=2.0896e-05,s=-1,s=1,e=64,d=12_2023-02-04_21-24-41/checkpoint-16/tokenizer.json\n",
            "loading file None\n",
            "loading file data/output/train_2023-02-04_21-24-41/train_5670b4e6_8_s=9223372036854775807,e=2.0896e-05,s=-1,s=1,e=64,d=12_2023-02-04_21-24-41/checkpoint-16/special_tokens_map.json\n",
            "loading file data/output/train_2023-02-04_21-24-41/train_5670b4e6_8_s=9223372036854775807,e=2.0896e-05,s=-1,s=1,e=64,d=12_2023-02-04_21-24-41/checkpoint-16/tokenizer_config.json\n",
            "[nltk_data] Downloading package punkt to /root/nltk_data...\n",
            "[nltk_data]   Package punkt is already up-to-date!\n"
          ]
        },
        {
          "output_type": "stream",
          "name": "stdout",
          "text": [
            "[flaml.automl.automl: 02-04 21:28:33] {3507} INFO -  at 1766.0s,\testimator transformer's best error=0.8522,\tbest estimator transformer's best error=0.8522\n",
            "[flaml.automl.automl: 02-04 21:28:33] {3623} INFO - selected model: None\n",
            "[flaml.automl.automl: 02-04 21:28:33] {3023} INFO - fit succeeded\n",
            "[flaml.automl.automl: 02-04 21:28:33] {3024} INFO - Time taken to find the best model: 1086.0421376228333\n"
          ]
        }
      ],
      "source": [
        "''' import AutoML class from flaml package '''\n",
        "from flaml import AutoML\n",
        "automl = AutoML()\n",
        "\n",
        "import ray\n",
        "\n",
        "\n",
        "automl_settings = {\n",
        "    \"time_budget\": 1800,         # setting the time budget\n",
        "    \"task\": \"summarization\",    # setting the task as summarization\n",
        "    \"fit_kwargs_by_estimator\": {  # if model_path is not set, the default model is t5-small: https://huggingface.co/t5-small\n",
        "        \"transformer\": {\n",
        "            \"output_dir\": \"data/output/\",  # setting the output directory\n",
        "            \"model_path\": \"t5-small\",\n",
        "            \"pad_to_max_length\": True,\n",
        "        }\n",
        "    },\n",
        "    \"gpu_per_trial\": 1,  # set to 0 if no GPU is available\n",
        "    \"log_file_name\": \"seqclass.log\",  # set the file to save the log for HPO\n",
        "    \"log_type\": \"all\",   # the log type for trials: \"all\" if logging all the trials, \"better\" if only keeping the better trials\n",
        "    \"use_ray\": False,  # set whether to use Ray\n",
        "    \"metric\": \"rouge1\",\n",
        "    \"n_concurrent_trials\": 1,  \n",
        "    \"fp16\": False\n",
        "}\n",
        "\n",
        "from flaml import tune\n",
        "custom_hp = {\n",
        "    \"transformer\": {\n",
        "            \"num_train_epochs\": {\n",
        "                \"domain\": tune.choice([0.1, 1, 2, 3, 4, 5]),\n",
        "                \"init_value\": 0.1,  \n",
        "                \"low_cost_init_value\": 0.1,\n",
        "            },\n",
        "        }\n",
        "}\n",
        "\n",
        "\n",
        "'''The main flaml automl API'''\n",
        "automl.fit(X_train=X_train, y_train=y_train, X_val=X_val, y_val=y_val, custom_hp=custom_hp, **automl_settings)"
      ]
    },
    {
      "cell_type": "markdown",
      "source": [],
      "metadata": {
        "id": "xRWfyDdSJZRT"
      }
    },
    {
      "cell_type": "code",
      "execution_count": null,
      "metadata": {
        "id": "xPy67MBFTjhK",
        "outputId": "464f6e9d-9b1d-4ca1-d0fa-4de2faa280c8",
        "scrolled": true,
        "colab": {
          "base_uri": "https://localhost:8080/",
          "height": 471
        }
      },
      "outputs": [
        {
          "output_type": "stream",
          "name": "stdout",
          "text": [
            "{'Current Learner': 'transformer', 'Current Sample': 1000, 'Current Hyper-parameters': {'learning_rate': 9.999999999999999e-06, 'num_train_epochs': 0.1, 'per_device_train_batch_size': 32, 'seed': 20, 'global_max_steps': 4}, 'Best Learner': 'transformer', 'Best Hyper-parameters': {'learning_rate': 9.999999999999999e-06, 'num_train_epochs': 0.1, 'per_device_train_batch_size': 32, 'seed': 20, 'global_max_steps': 4}}\n",
            "{'Current Learner': 'transformer', 'Current Sample': 1000, 'Current Hyper-parameters': {'learning_rate': 9.711865003865157e-06, 'num_train_epochs': 0.1, 'per_device_train_batch_size': 64, 'seed': 14, 'global_max_steps': 2}, 'Best Learner': 'transformer', 'Best Hyper-parameters': {'learning_rate': 9.711865003865157e-06, 'num_train_epochs': 0.1, 'per_device_train_batch_size': 64, 'seed': 14, 'global_max_steps': 2}}\n",
            "{'Current Learner': 'transformer', 'Current Sample': 1000, 'Current Hyper-parameters': {'learning_rate': 9.999999999999997e-06, 'num_train_epochs': 0.1, 'per_device_train_batch_size': 32, 'seed': 20, 'global_max_steps': 4}, 'Best Learner': 'transformer', 'Best Hyper-parameters': {'learning_rate': 9.711865003865157e-06, 'num_train_epochs': 0.1, 'per_device_train_batch_size': 64, 'seed': 14, 'global_max_steps': 2}}\n",
            "{'Current Learner': 'transformer', 'Current Sample': 1000, 'Current Hyper-parameters': {'learning_rate': 1.3959402525606234e-05, 'num_train_epochs': 0.1, 'per_device_train_batch_size': 64, 'seed': 13, 'global_max_steps': 2}, 'Best Learner': 'transformer', 'Best Hyper-parameters': {'learning_rate': 1.3959402525606234e-05, 'num_train_epochs': 0.1, 'per_device_train_batch_size': 64, 'seed': 13, 'global_max_steps': 2}}\n",
            "{'Current Learner': 'transformer', 'Current Sample': 1000, 'Current Hyper-parameters': {'learning_rate': 9.711865003865157e-06, 'num_train_epochs': 1, 'per_device_train_batch_size': 64, 'seed': 14, 'global_max_steps': 16}, 'Best Learner': 'transformer', 'Best Hyper-parameters': {'learning_rate': 9.711865003865157e-06, 'num_train_epochs': 1, 'per_device_train_batch_size': 64, 'seed': 14, 'global_max_steps': 16}}\n",
            "{'Current Learner': 'transformer', 'Current Sample': 1000, 'Current Hyper-parameters': {'learning_rate': 1.6876495255790516e-05, 'num_train_epochs': 1, 'per_device_train_batch_size': 64, 'seed': 20, 'global_max_steps': 16}, 'Best Learner': 'transformer', 'Best Hyper-parameters': {'learning_rate': 9.711865003865157e-06, 'num_train_epochs': 1, 'per_device_train_batch_size': 64, 'seed': 14, 'global_max_steps': 16}}\n",
            "{'Current Learner': 'transformer', 'Current Sample': 1000, 'Current Hyper-parameters': {'learning_rate': 5.588857190057775e-06, 'num_train_epochs': 1, 'per_device_train_batch_size': 64, 'seed': 8, 'global_max_steps': 16}, 'Best Learner': 'transformer', 'Best Hyper-parameters': {'learning_rate': 9.711865003865157e-06, 'num_train_epochs': 1, 'per_device_train_batch_size': 64, 'seed': 14, 'global_max_steps': 16}}\n",
            "{'Current Learner': 'transformer', 'Current Sample': 1000, 'Current Hyper-parameters': {'learning_rate': 2.0896439261730886e-05, 'num_train_epochs': 1, 'per_device_train_batch_size': 64, 'seed': 12, 'global_max_steps': 16}, 'Best Learner': 'transformer', 'Best Hyper-parameters': {'learning_rate': 9.711865003865157e-06, 'num_train_epochs': 1, 'per_device_train_batch_size': 64, 'seed': 14, 'global_max_steps': 16}}\n",
            "8\n"
          ]
        },
        {
          "output_type": "display_data",
          "data": {
            "text/plain": [
              "<Figure size 432x288 with 1 Axes>"
            ],
            "image/png": "[encoded data removed]"
          },
          "metadata": {
            "needs_background": "light"
          }
        }
      ],
      "source": [
        "\n",
        "from flaml.data import get_output_from_log\n",
        "time_history, best_valid_loss_history, valid_loss_history, config_history, metric_history = \\\n",
        "    get_output_from_log(filename=automl_settings['log_file_name'], time_budget=3000)\n",
        "for config in config_history:\n",
        "    print(config)\n",
        "\n",
        "import matplotlib.pyplot as plt\n",
        "import numpy as np\n",
        "plt.title('Learning Curve')\n",
        "plt.xlabel('Wall Clock Time (s)')\n",
        "plt.ylabel('Rouge 1')\n",
        "print(len(valid_loss_history))\n",
        "plt.scatter(time_history, 1 - np.array(valid_loss_history))\n",
        "plt.step(time_history, 1 - np.array(best_valid_loss_history), where='post')\n",
        "plt.show()"
      ]
    }
  ],
  "metadata": {
    "accelerator": "GPU",
    "colab": {
      "provenance": []
    },
    "gpuClass": "standard",
    "interpreter": {
      "hash": "e9d36fc5b7c3dd4177ff1b60184dd696c0acc18150a44682abca4d769811bd46"
    },
    "kernelspec": {
      "display_name": "Python 3 (ipykernel)",
      "language": "python",
      "name": "python3"
    },
    "language_info": {
      "codemirror_mode": {
        "name": "ipython",
        "version": 3
      },
      "file_extension": ".py",
      "mimetype": "text/x-python",
      "name": "python",
      "nbconvert_exporter": "python",
      "pygments_lexer": "ipython3",
      "version": "3.8.0"
    }
  },
  "nbformat": 4,
  "nbformat_minor": 0
}