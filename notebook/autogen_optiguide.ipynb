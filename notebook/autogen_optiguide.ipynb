{
 "cells": [
  {
   "cell_type": "markdown",
   "id": "a461c72d",
   "metadata": {},
   "source": [
    "# OptiGuide Example\n",
    "\n",
    "\n"
   ]
  },
  {
   "cell_type": "markdown",
   "id": "59a05fc7",
   "metadata": {},
   "source": [
    "Here we give a simple example, as designed and illustrated in the [OptiGuide paper](https://arxiv.org/abs/2307.03875).\n",
    "While the original paper is designed specifically for supply chain optimization, the general framework can be easily adapted to other applications with coding capacity.\n",
    "\n",
    "\n"
   ]
  },
  {
   "cell_type": "markdown",
   "id": "5e92d200",
   "metadata": {},
   "source": [
    "## OptiGuide for Supply Chain Optimization: System Design Overview\n",
    "\n",
    "The original system design for OptiGuide, tailored for supply chain optimization, is presented below.\n",
    "\n",
    "The collaboration among three agents -- Coder, Safeguard, and Interpreter -- lies at the core of this system. They leverage a set of external tools and a large language model (LLM) to address users' questions related to supply chain applications. For a comprehensive understanding of the design and data flow, detailed information can be found in the original [paper](https://arxiv.org/abs/2307.03875).\n",
    "\n",
    "\n",
    "![optiguide system](https://www.beibinli.com/docs/optiguide/optiguide_system.png)\n"
   ]
  },
  {
   "cell_type": "markdown",
   "id": "18c316b5",
   "metadata": {},
   "source": [
    "##  OptiGuide Integration with Autogen\n",
    "\n",
    "The OptiGuide framework can be implemented using various large language model (LLM) packages or libraries. Autogen provides a multi-agent design that facilitates agent interactions and memory management, resulting in a more elegant implementation of OptiGuide.\n",
    "\n",
    "Here, we have broken down and implemented the OptiGuide framework within Autogen, with details as follows.\n",
    "\n",
    "The central role of the OptiGuide agent is to serve as a master agent, overseeing the creation and management of several distinct agents. Additionally, it takes responsibility for handling memory related to user interactions, enabling it to retain valuable information pertaining to users' questions and their corresponding answers. This memory is then shared with other agents within the system, allowing them to effectively consider a user's previous inquiries.\n",
    "\n",
    "The OptiGuide agent supervises three user proxy agents and two assistant agents, each with a specific function:\n",
    "- Coder: A user proxy agent dedicated to the task of writing code.\n",
    "- Safeguard: Another user proxy agent designed to identify and detect adversarial code effectively.\n",
    "- Interpreter: A user proxy agent specialized in interpreting execution results and presenting them in a human-readable format.\n",
    "- Pencil: An assistant agent providing support to both the Coder and Interpreter. It possesses the capability to \"write\" code and provide interpretations.\n",
    "- Shield: An assistant agent offering support to the Safeguard.\n",
    "\n",
    "In this implementation, the \"Coder\" and \"Interpreter\" refer to the same entity utilizing the Pencil to generate content, which could either be code or English sentences. This design choice enables the Pencil to access and share the same memory while engaging in communication with both the \"Coder\" and the \"Interpreter.\"\n",
    "\n",
    "Additionally, it is worth noting that the Safeguard does not possess the same memory as the Coder or Interpreter. This deliberate decision ensures that the Safeguard can impartially act as an adversarial checker. By preventing the exposure of LLM responses of code and interpretations to the Safeguard, potential biases are mitigated, and more reliable results can be achieved.\n",
    "\n",
    "\n",
    "![optiguide system](https://www.beibinli.com/docs/optiguide/autogen_optiguide_sys.png)"
   ]
  },
  {
   "cell_type": "markdown",
   "id": "8b7f90c8",
   "metadata": {},
   "source": [
    "Advantages of this multi-agent design with autogen:\n",
    "- Collaborative Problem Solving: The collaboration among the user proxy agents (Coder and Interpreter) and the assistant agents (Pencil and Shield) fosters a cooperative problem-solving environment. The agents can share information and knowledge, allowing them to complement each other's abilities and collectively arrive at better solutions. On the other hand, the Safeguard acts as a virtual adversarial checker, which can perform another safety check pass on the generated code.\n",
    "\n",
    "- Modularity: The division of tasks into separate agents promotes modularity in the system. Each agent can be developed, tested, and maintained independently, simplifying the overall development process and facilitating code management.\n",
    "\n",
    "- Memory Management: The OptiGuide agent's role in maintaining memory related to user interactions is crucial. The memory retention allows the agents to have context about a user's prior questions, making the decision-making process more informed and context-aware.\n",
    "\n"
   ]
  },
  {
   "cell_type": "code",
   "execution_count": null,
   "id": "3606facd",
   "metadata": {},
   "outputs": [],
   "source": []
  },
  {
   "cell_type": "code",
   "execution_count": 1,
   "id": "1810e663",
   "metadata": {},
   "outputs": [],
   "source": [
    "# %%capture # no printing logs here.\n",
    "# # Install Gurobi for optimization\n",
    "# %pip install gurobipy\n",
    "# %pip install eventlet\n",
    "\n",
    "# # Install FLAML for agents\n",
    "# %pip install \"flaml[optiguide]\""
   ]
  },
  {
   "cell_type": "code",
   "execution_count": 2,
   "id": "9a3b79c4",
   "metadata": {},
   "outputs": [
    {
     "ename": "ModuleNotFoundError",
     "evalue": "No module named 'flaml.autogen.agent'",
     "output_type": "error",
     "traceback": [
      "\u001b[0;31m---------------------------------------------------------------------------\u001b[0m",
      "\u001b[0;31mModuleNotFoundError\u001b[0m                       Traceback (most recent call last)",
      "Cell \u001b[0;32mIn[2], line 15\u001b[0m\n\u001b[1;32m     13\u001b[0m \u001b[38;5;66;03m# import flaml and autogen\u001b[39;00m\n\u001b[1;32m     14\u001b[0m \u001b[38;5;28;01mfrom\u001b[39;00m \u001b[38;5;21;01mflaml\u001b[39;00m \u001b[38;5;28;01mimport\u001b[39;00m oai\n\u001b[0;32m---> 15\u001b[0m \u001b[38;5;28;01mfrom\u001b[39;00m \u001b[38;5;21;01mflaml\u001b[39;00m\u001b[38;5;21;01m.\u001b[39;00m\u001b[38;5;21;01mautogen\u001b[39;00m\u001b[38;5;21;01m.\u001b[39;00m\u001b[38;5;21;01magent\u001b[39;00m \u001b[38;5;28;01mimport\u001b[39;00m Agent, ResponsiveAgent\n\u001b[1;32m     16\u001b[0m \u001b[38;5;28;01mfrom\u001b[39;00m \u001b[38;5;21;01mflaml\u001b[39;00m\u001b[38;5;21;01m.\u001b[39;00m\u001b[38;5;21;01mautogen\u001b[39;00m\u001b[38;5;21;01m.\u001b[39;00m\u001b[38;5;21;01magent\u001b[39;00m\u001b[38;5;21;01m.\u001b[39;00m\u001b[38;5;21;01mcontrib\u001b[39;00m\u001b[38;5;21;01m.\u001b[39;00m\u001b[38;5;21;01mopti_guide\u001b[39;00m \u001b[38;5;28;01mimport\u001b[39;00m OptiGuideAgent\n",
      "\u001b[0;31mModuleNotFoundError\u001b[0m: No module named 'flaml.autogen.agent'"
     ]
    }
   ],
   "source": [
    "# test Gurobi installation\n",
    "import gurobipy as gp\n",
    "from gurobipy import GRB\n",
    "from eventlet.timeout import Timeout\n",
    "\n",
    "# import auxillary packages\n",
    "import re\n",
    "import requests  # for loading the example source code\n",
    "import openai\n",
    "import os\n",
    "\n",
    "\n",
    "# import flaml and autogen\n",
    "from flaml import oai\n",
    "from flaml.autogen.agentchat import Agent, ResponsiveAgent\n",
    "from flaml.autogen.agentchat.contrib.opti_guide import OptiGuideAgent"
   ]
  },
  {
   "cell_type": "code",
   "execution_count": null,
   "id": "aedf19e7",
   "metadata": {},
   "outputs": [],
   "source": [
    "config_list = oai.config_list_gpt4_gpt35()\n",
    "oai.ChatCompletion.start_logging()\n",
    "\n"
   ]
  },
  {
   "cell_type": "code",
   "execution_count": null,
   "id": "3ee5eea9",
   "metadata": {},
   "outputs": [],
   "source": [
    "openai.api_type = \"azure\"\n",
    "openai.api_version = \"2023-03-15-preview\"\n",
    "openai.api_base = \"https://your.api.address.here.com\"\n",
    "openai.api_key = \"<Your API Key goes here>\"\n",
    "\n",
    "\n",
    "openai.api_type = \"azure\"\n",
    "openai.api_base = \"https://msrcore.openai.azure.com\"\n",
    "openai.api_version = \"2023-03-15-preview\"\n",
    "openai.api_key = os.getenv(\"CORE_AZURE_KEY\")"
   ]
  },
  {
   "cell_type": "code",
   "execution_count": null,
   "id": "ca962ac5",
   "metadata": {},
   "outputs": [],
   "source": [
    "# Get the source code of our coffee example\n",
    "code_url = \"https://www.beibinli.com/docs/optiguide/coffee.py\"\n",
    "\n",
    "code =  requests.get(code_url).text\n",
    "\n",
    "# show the first head and tail of the source code\n",
    "print(\"\\n\".join(code.split(\"\\n\")[:10]))\n",
    "print(\".\\n\" * 3)\n",
    "print(\"\\n\".join(code.split(\"\\n\")[-10:]))"
   ]
  },
  {
   "cell_type": "code",
   "execution_count": null,
   "id": "e2d8dce8",
   "metadata": {
    "code_folding": []
   },
   "outputs": [],
   "source": []
  },
  {
   "cell_type": "code",
   "execution_count": null,
   "id": "e31c4b36",
   "metadata": {
    "code_folding": []
   },
   "outputs": [],
   "source": [
    "# In-context learning examples.\n",
    "example_qa = \"\"\"\n",
    "----------\n",
    "Question: Why is it not recommended to use just one supplier for roastery 2?\n",
    "Answer Code:\n",
    "```python\n",
    "z = m.addVars(suppliers, vtype=GRB.BINARY, name=\"z\")\n",
    "m.addConstr(sum(z[s] for s in suppliers) <= 1, \"_\")\n",
    "for s in suppliers:\n",
    "    m.addConstr(x[s,'roastery2'] <= capacity_in_supplier[s] * z[s], \"_\")\n",
    "```\n",
    "\n",
    "----------\n",
    "Question: What if there's a 13% jump in the demand for light coffee at cafe1?\n",
    "Answer Code:\n",
    "```python\n",
    "light_coffee_needed_for_cafe[\"cafe1\"] = light_coffee_needed_for_cafe[\"cafe1\"] * (1 + 13/100)\n",
    "```\n",
    "\n",
    "\"\"\""
   ]
  },
  {
   "cell_type": "code",
   "execution_count": null,
   "id": "8d1dfd35",
   "metadata": {
    "code_folding": []
   },
   "outputs": [],
   "source": []
  },
  {
   "cell_type": "code",
   "execution_count": null,
   "id": "541f1459",
   "metadata": {},
   "outputs": [],
   "source": []
  },
  {
   "cell_type": "code",
   "execution_count": null,
   "id": "af53727c",
   "metadata": {},
   "outputs": [],
   "source": [
    "%%capture\n",
    "agent = OptiGuideAgent(name=\"OptiGuide Coffee Example\", \n",
    "                  source_code=code,\n",
    "                  example_qa=\"\")\n",
    "\n",
    "user = ResponsiveAgent(\"user\", max_consecutive_auto_reply=0,\n",
    "                         human_input_mode=\"NEVER\", code_execution_config=False)\n"
   ]
  },
  {
   "cell_type": "code",
   "execution_count": null,
   "id": "7c3ca9f4",
   "metadata": {},
   "outputs": [],
   "source": []
  },
  {
   "cell_type": "code",
   "execution_count": null,
   "id": "24a76f67",
   "metadata": {
    "scrolled": false
   },
   "outputs": [],
   "source": [
    "user.send(\"What if we prohibit shipping from supplier 1 to roastery 2?\", agent)\n"
   ]
  },
  {
   "cell_type": "code",
   "execution_count": null,
   "id": "cbdd1f28",
   "metadata": {
    "scrolled": false
   },
   "outputs": [],
   "source": [
    "user.send(\"What is the impact of supplier1 being able to supply only half the quantity at present?\", agent)\n"
   ]
  }
 ],
 "metadata": {
  "kernelspec": {
   "display_name": "Python 3 (ipykernel)",
   "language": "python",
   "name": "python3"
  },
  "language_info": {
   "codemirror_mode": {
    "name": "ipython",
    "version": 3
   },
   "file_extension": ".py",
   "mimetype": "text/x-python",
   "name": "python",
   "nbconvert_exporter": "python",
   "pygments_lexer": "ipython3",
   "version": "3.9.16"
  },
  "toc": {
   "base_numbering": 1,
   "nav_menu": {},
   "number_sections": true,
   "sideBar": true,
   "skip_h1_title": false,
   "title_cell": "Table of Contents",
   "title_sidebar": "Contents",
   "toc_cell": false,
   "toc_position": {},
   "toc_section_display": true,
   "toc_window_display": false
  }
 },
 "nbformat": 4,
 "nbformat_minor": 5
}
