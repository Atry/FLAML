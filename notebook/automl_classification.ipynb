{
 "cells": [
  {
   "attachments": {},
   "cell_type": "markdown",
   "metadata": {
    "slideshow": {
     "slide_type": "slide"
    }
   },
   "source": [
    "Copyright (c) Microsoft Corporation. All rights reserved. \n",
    "\n",
    "Licensed under the MIT License.\n",
    "\n",
    "# AutoML with FLAML Library\n",
    "\n",
    "\n",
    "## 1. Introduction\n",
    "\n",
    "FLAML is a Python library (https://github.com/microsoft/FLAML) designed to automatically produce accurate machine learning models \n",
    "with low computational cost. It is fast and economical. The simple and lightweight design makes it easy to use and extend, such as adding new learners. FLAML can \n",
    "- serve as an economical AutoML engine,\n",
    "- be used as a fast hyperparameter tuning tool, or \n",
    "- be embedded in self-tuning software that requires low latency & resource in repetitive\n",
    "   tuning tasks.\n",
    "\n",
    "In this notebook, we use a binary classification task to showcase the task-oriented AutoML in FLAML library.\n",
    "\n",
    "FLAML requires `Python>=3.7`. To run this notebook example, please install flaml with the `notebook` option:\n",
    "```bash\n",
    "pip install flaml[notebook]\n",
    "```"
   ]
  },
  {
   "cell_type": "code",
   "execution_count": null,
   "metadata": {},
   "outputs": [],
   "source": [
    "%pip install flaml[notebook]==1.1.1"
   ]
  },
  {
   "cell_type": "markdown",
   "metadata": {
    "slideshow": {
     "slide_type": "slide"
    }
   },
   "source": [
    "## 2. Classification Example\n",
    "### Load data and preprocess\n",
    "\n",
    "Download [Airlines dataset](https://www.openml.org/d/1169) from OpenML. The task is to predict whether a given flight will be delayed, given the information of the scheduled departure."
   ]
  },
  {
   "cell_type": "code",
   "execution_count": 2,
   "metadata": {
    "slideshow": {
     "slide_type": "subslide"
    },
    "tags": []
   },
   "outputs": [
    {
     "name": "stdout",
     "output_type": "stream",
     "text": [
      "download dataset from openml\n",
      "Dataset name: airlines\n",
      "X_train.shape: (404537, 7), y_train.shape: (404537,);\n",
      "X_test.shape: (134846, 7), y_test.shape: (134846,)\n"
     ]
    }
   ],
   "source": [
    "from flaml.data import load_openml_dataset\n",
    "\n",
    "X_train, X_test, y_train, y_test = load_openml_dataset(dataset_id=1169, data_dir='./')"
   ]
  },
  {
   "cell_type": "code",
   "execution_count": null,
   "metadata": {},
   "outputs": [],
   "source": [
    "X_train.head()"
   ]
  },
  {
   "cell_type": "markdown",
   "metadata": {
    "slideshow": {
     "slide_type": "slide"
    }
   },
   "source": [
    "### Run FLAML\n",
    "In the FLAML automl run configuration, users can specify the task type, time budget, error metric, learner list, whether to subsample, resampling strategy type, and so on. All these arguments have default values which will be used if users do not provide them. For example, the default classifiers are `['lgbm', 'xgboost', 'xgb_limitdepth', 'catboost', 'rf', 'extra_tree', 'lrl1']`. "
   ]
  },
  {
   "cell_type": "code",
   "execution_count": 3,
   "metadata": {
    "slideshow": {
     "slide_type": "slide"
    }
   },
   "outputs": [],
   "source": [
    "''' import AutoML class from flaml package '''\n",
    "from flaml import AutoML\n",
    "\n",
    "automl = AutoML()"
   ]
  },
  {
   "cell_type": "code",
   "execution_count": 4,
   "metadata": {
    "slideshow": {
     "slide_type": "slide"
    }
   },
   "outputs": [],
   "source": [
    "settings = {\n",
    "    \"time_budget\": 600,  # total running time in seconds\n",
    "    \"metric\": 'accuracy', \n",
    "                        # check the documentation for options of metrics (https://microsoft.github.io/FLAML/docs/Use-Cases/Task-Oriented-AutoML#optimization-metric)\n",
    "    \"task\": 'classification',  # task type\n",
    "    \"log_file_name\": 'airlines_experiment.log',  # flaml log file\n",
    "    \"seed\": 7654321,    # random seed\n",
    "}\n"
   ]
  },
  {
   "cell_type": "code",
   "execution_count": 5,
   "metadata": {
    "slideshow": {
     "slide_type": "slide"
    },
    "tags": [
     "outputPrepend"
    ]
   },
   "outputs": [
    {
     "name": "stderr",
     "output_type": "stream",
     "text": [
      "[flaml.automl.automl: 01-09 03:09:59] {2625} INFO - task = classification\n",
      "[flaml.automl.automl: 01-09 03:09:59] {2627} INFO - Data split method: stratified\n",
      "[flaml.automl.automl: 01-09 03:09:59] {2630} INFO - Evaluation method: holdout\n",
      "[flaml.automl.automl: 01-09 03:09:59] {2757} INFO - Minimizing error metric: 1-accuracy\n",
      "[flaml.automl.automl: 01-09 03:09:59] {2902} INFO - List of ML learners in AutoML Run: ['lgbm', 'rf', 'catboost', 'xgboost', 'extra_tree', 'xgb_limitdepth', 'lrl1']\n",
      "[flaml.automl.automl: 01-09 03:09:59] {3203} INFO - iteration 0, current learner lgbm\n",
      "[flaml.automl.automl: 01-09 03:09:59] {3340} INFO - Estimated sufficient time budget=10919s. Estimated necessary time budget=268s.\n",
      "[flaml.automl.automl: 01-09 03:09:59] {3387} INFO -  at 0.5s,\testimator lgbm's best error=0.3777,\tbest estimator lgbm's best error=0.3777\n",
      "[flaml.automl.automl: 01-09 03:09:59] {3203} INFO - iteration 1, current learner lgbm\n",
      "[flaml.automl.automl: 01-09 03:09:59] {3387} INFO -  at 0.5s,\testimator lgbm's best error=0.3777,\tbest estimator lgbm's best error=0.3777\n",
      "[flaml.automl.automl: 01-09 03:09:59] {3203} INFO - iteration 2, current learner lgbm\n",
      "[flaml.automl.automl: 01-09 03:10:00] {3387} INFO -  at 0.6s,\testimator lgbm's best error=0.3614,\tbest estimator lgbm's best error=0.3614\n",
      "[flaml.automl.automl: 01-09 03:10:00] {3203} INFO - iteration 3, current learner xgboost\n",
      "/usr/local/lib/python3.9/site-packages/xgboost/sklearn.py:1395: UserWarning: `use_label_encoder` is deprecated in 1.7.0.\n",
      "  warnings.warn(\"`use_label_encoder` is deprecated in 1.7.0.\")\n",
      "[flaml.automl.automl: 01-09 03:10:00] {3387} INFO -  at 1.3s,\testimator xgboost's best error=0.3787,\tbest estimator lgbm's best error=0.3614\n",
      "[flaml.automl.automl: 01-09 03:10:00] {3203} INFO - iteration 4, current learner extra_tree\n",
      "[flaml.automl.automl: 01-09 03:10:00] {3387} INFO -  at 1.3s,\testimator extra_tree's best error=0.3787,\tbest estimator lgbm's best error=0.3614\n",
      "[flaml.automl.automl: 01-09 03:10:00] {3203} INFO - iteration 5, current learner lgbm\n",
      "[flaml.automl.automl: 01-09 03:10:00] {3387} INFO -  at 1.4s,\testimator lgbm's best error=0.3614,\tbest estimator lgbm's best error=0.3614\n",
      "[flaml.automl.automl: 01-09 03:10:00] {3203} INFO - iteration 6, current learner xgboost\n",
      "/usr/local/lib/python3.9/site-packages/xgboost/sklearn.py:1395: UserWarning: `use_label_encoder` is deprecated in 1.7.0.\n",
      "  warnings.warn(\"`use_label_encoder` is deprecated in 1.7.0.\")\n",
      "[flaml.automl.automl: 01-09 03:10:02] {3387} INFO -  at 3.4s,\testimator xgboost's best error=0.3746,\tbest estimator lgbm's best error=0.3614\n",
      "[flaml.automl.automl: 01-09 03:10:02] {3203} INFO - iteration 7, current learner lgbm\n",
      "[flaml.automl.automl: 01-09 03:10:02] {3387} INFO -  at 3.5s,\testimator lgbm's best error=0.3614,\tbest estimator lgbm's best error=0.3614\n",
      "[flaml.automl.automl: 01-09 03:10:02] {3203} INFO - iteration 8, current learner lgbm\n",
      "[flaml.automl.automl: 01-09 03:10:03] {3387} INFO -  at 3.6s,\testimator lgbm's best error=0.3614,\tbest estimator lgbm's best error=0.3614\n",
      "[flaml.automl.automl: 01-09 03:10:03] {3203} INFO - iteration 9, current learner extra_tree\n",
      "[flaml.automl.automl: 01-09 03:10:03] {3387} INFO -  at 3.7s,\testimator extra_tree's best error=0.3787,\tbest estimator lgbm's best error=0.3614\n",
      "[flaml.automl.automl: 01-09 03:10:03] {3203} INFO - iteration 10, current learner extra_tree\n",
      "[flaml.automl.automl: 01-09 03:10:03] {3387} INFO -  at 3.7s,\testimator extra_tree's best error=0.3787,\tbest estimator lgbm's best error=0.3614\n",
      "[flaml.automl.automl: 01-09 03:10:03] {3203} INFO - iteration 11, current learner rf\n",
      "[flaml.automl.automl: 01-09 03:10:03] {3387} INFO -  at 3.8s,\testimator rf's best error=0.3816,\tbest estimator lgbm's best error=0.3614\n",
      "[flaml.automl.automl: 01-09 03:10:03] {3203} INFO - iteration 12, current learner rf\n",
      "[flaml.automl.automl: 01-09 03:10:03] {3387} INFO -  at 3.8s,\testimator rf's best error=0.3791,\tbest estimator lgbm's best error=0.3614\n",
      "[flaml.automl.automl: 01-09 03:10:03] {3203} INFO - iteration 13, current learner lgbm\n",
      "[flaml.automl.automl: 01-09 03:10:03] {3387} INFO -  at 3.9s,\testimator lgbm's best error=0.3614,\tbest estimator lgbm's best error=0.3614\n",
      "[flaml.automl.automl: 01-09 03:10:03] {3203} INFO - iteration 14, current learner lgbm\n",
      "[flaml.automl.automl: 01-09 03:10:03] {3387} INFO -  at 4.0s,\testimator lgbm's best error=0.3614,\tbest estimator lgbm's best error=0.3614\n",
      "[flaml.automl.automl: 01-09 03:10:03] {3203} INFO - iteration 15, current learner lgbm\n",
      "[flaml.automl.automl: 01-09 03:10:03] {3387} INFO -  at 4.2s,\testimator lgbm's best error=0.3550,\tbest estimator lgbm's best error=0.3550\n",
      "[flaml.automl.automl: 01-09 03:10:03] {3203} INFO - iteration 16, current learner catboost\n",
      "[flaml.automl.automl: 01-09 03:10:04] {3387} INFO -  at 4.9s,\testimator catboost's best error=0.3587,\tbest estimator lgbm's best error=0.3550\n",
      "[flaml.automl.automl: 01-09 03:10:04] {3203} INFO - iteration 17, current learner lgbm\n",
      "[flaml.automl.automl: 01-09 03:10:04] {3387} INFO -  at 5.0s,\testimator lgbm's best error=0.3550,\tbest estimator lgbm's best error=0.3550\n",
      "[flaml.automl.automl: 01-09 03:10:04] {3203} INFO - iteration 18, current learner catboost\n",
      "[flaml.automl.automl: 01-09 03:10:04] {3387} INFO -  at 5.2s,\testimator catboost's best error=0.3587,\tbest estimator lgbm's best error=0.3550\n",
      "[flaml.automl.automl: 01-09 03:10:04] {3203} INFO - iteration 19, current learner lgbm\n",
      "[flaml.automl.automl: 01-09 03:10:04] {3387} INFO -  at 5.5s,\testimator lgbm's best error=0.3545,\tbest estimator lgbm's best error=0.3545\n",
      "[flaml.automl.automl: 01-09 03:10:04] {3203} INFO - iteration 20, current learner rf\n",
      "[flaml.automl.automl: 01-09 03:10:05] {3387} INFO -  at 5.6s,\testimator rf's best error=0.3791,\tbest estimator lgbm's best error=0.3545\n",
      "[flaml.automl.automl: 01-09 03:10:05] {3203} INFO - iteration 21, current learner lgbm\n",
      "[flaml.automl.automl: 01-09 03:10:05] {3387} INFO -  at 5.8s,\testimator lgbm's best error=0.3545,\tbest estimator lgbm's best error=0.3545\n",
      "[flaml.automl.automl: 01-09 03:10:05] {3203} INFO - iteration 22, current learner rf\n",
      "[flaml.automl.automl: 01-09 03:10:05] {3387} INFO -  at 5.8s,\testimator rf's best error=0.3791,\tbest estimator lgbm's best error=0.3545\n",
      "[flaml.automl.automl: 01-09 03:10:05] {3203} INFO - iteration 23, current learner lgbm\n",
      "[flaml.automl.automl: 01-09 03:10:05] {3387} INFO -  at 6.4s,\testimator lgbm's best error=0.3545,\tbest estimator lgbm's best error=0.3545\n",
      "[flaml.automl.automl: 01-09 03:10:05] {3203} INFO - iteration 24, current learner lgbm\n",
      "[flaml.automl.automl: 01-09 03:10:06] {3387} INFO -  at 6.6s,\testimator lgbm's best error=0.3536,\tbest estimator lgbm's best error=0.3536\n",
      "[flaml.automl.automl: 01-09 03:10:06] {3203} INFO - iteration 25, current learner catboost\n",
      "[flaml.automl.automl: 01-09 03:10:06] {3387} INFO -  at 7.3s,\testimator catboost's best error=0.3587,\tbest estimator lgbm's best error=0.3536\n",
      "[flaml.automl.automl: 01-09 03:10:06] {3203} INFO - iteration 26, current learner catboost\n",
      "[flaml.automl.automl: 01-09 03:10:09] {3387} INFO -  at 10.2s,\testimator catboost's best error=0.3587,\tbest estimator lgbm's best error=0.3536\n",
      "[flaml.automl.automl: 01-09 03:10:09] {3203} INFO - iteration 27, current learner lgbm\n",
      "[flaml.automl.automl: 01-09 03:10:09] {3387} INFO -  at 10.5s,\testimator lgbm's best error=0.3536,\tbest estimator lgbm's best error=0.3536\n",
      "[flaml.automl.automl: 01-09 03:10:09] {3203} INFO - iteration 28, current learner rf\n",
      "[flaml.automl.automl: 01-09 03:10:10] {3387} INFO -  at 10.5s,\testimator rf's best error=0.3789,\tbest estimator lgbm's best error=0.3536\n",
      "[flaml.automl.automl: 01-09 03:10:10] {3203} INFO - iteration 29, current learner catboost\n",
      "[flaml.automl.automl: 01-09 03:10:12] {3387} INFO -  at 12.7s,\testimator catboost's best error=0.3460,\tbest estimator catboost's best error=0.3460\n",
      "[flaml.automl.automl: 01-09 03:10:12] {3203} INFO - iteration 30, current learner xgb_limitdepth\n",
      "/usr/local/lib/python3.9/site-packages/xgboost/sklearn.py:1395: UserWarning: `use_label_encoder` is deprecated in 1.7.0.\n",
      "  warnings.warn(\"`use_label_encoder` is deprecated in 1.7.0.\")\n",
      "[flaml.automl.automl: 01-09 03:10:13] {3387} INFO -  at 14.4s,\testimator xgb_limitdepth's best error=0.3630,\tbest estimator catboost's best error=0.3460\n",
      "[flaml.automl.automl: 01-09 03:10:13] {3203} INFO - iteration 31, current learner xgb_limitdepth\n",
      "/usr/local/lib/python3.9/site-packages/xgboost/sklearn.py:1395: UserWarning: `use_label_encoder` is deprecated in 1.7.0.\n",
      "  warnings.warn(\"`use_label_encoder` is deprecated in 1.7.0.\")\n",
      "[flaml.automl.automl: 01-09 03:10:13] {3387} INFO -  at 14.4s,\testimator xgb_limitdepth's best error=0.3630,\tbest estimator catboost's best error=0.3460\n",
      "[flaml.automl.automl: 01-09 03:10:13] {3203} INFO - iteration 32, current learner catboost\n",
      "[flaml.automl.automl: 01-09 03:10:14] {3387} INFO -  at 15.3s,\testimator catboost's best error=0.3460,\tbest estimator catboost's best error=0.3460\n",
      "[flaml.automl.automl: 01-09 03:10:14] {3203} INFO - iteration 33, current learner lgbm\n",
      "[flaml.automl.automl: 01-09 03:10:15] {3387} INFO -  at 15.9s,\testimator lgbm's best error=0.3536,\tbest estimator catboost's best error=0.3460\n",
      "[flaml.automl.automl: 01-09 03:10:15] {3203} INFO - iteration 34, current learner catboost\n",
      "[flaml.automl.automl: 01-09 03:10:27] {3387} INFO -  at 27.9s,\testimator catboost's best error=0.3460,\tbest estimator catboost's best error=0.3460\n",
      "[flaml.automl.automl: 01-09 03:10:27] {3203} INFO - iteration 35, current learner xgb_limitdepth\n",
      "/usr/local/lib/python3.9/site-packages/xgboost/sklearn.py:1395: UserWarning: `use_label_encoder` is deprecated in 1.7.0.\n",
      "  warnings.warn(\"`use_label_encoder` is deprecated in 1.7.0.\")\n",
      "[flaml.automl.automl: 01-09 03:10:27] {3387} INFO -  at 28.1s,\testimator xgb_limitdepth's best error=0.3630,\tbest estimator catboost's best error=0.3460\n",
      "[flaml.automl.automl: 01-09 03:10:27] {3203} INFO - iteration 36, current learner catboost\n",
      "[flaml.automl.automl: 01-09 03:10:31] {3387} INFO -  at 32.4s,\testimator catboost's best error=0.3380,\tbest estimator catboost's best error=0.3380\n",
      "[flaml.automl.automl: 01-09 03:10:31] {3203} INFO - iteration 37, current learner xgb_limitdepth\n",
      "/usr/local/lib/python3.9/site-packages/xgboost/sklearn.py:1395: UserWarning: `use_label_encoder` is deprecated in 1.7.0.\n",
      "  warnings.warn(\"`use_label_encoder` is deprecated in 1.7.0.\")\n",
      "[flaml.automl.automl: 01-09 03:10:32] {3387} INFO -  at 32.6s,\testimator xgb_limitdepth's best error=0.3630,\tbest estimator catboost's best error=0.3380\n",
      "[flaml.automl.automl: 01-09 03:10:32] {3203} INFO - iteration 38, current learner xgb_limitdepth\n",
      "/usr/local/lib/python3.9/site-packages/xgboost/sklearn.py:1395: UserWarning: `use_label_encoder` is deprecated in 1.7.0.\n",
      "  warnings.warn(\"`use_label_encoder` is deprecated in 1.7.0.\")\n",
      "[flaml.automl.automl: 01-09 03:10:32] {3387} INFO -  at 32.6s,\testimator xgb_limitdepth's best error=0.3630,\tbest estimator catboost's best error=0.3380\n",
      "[flaml.automl.automl: 01-09 03:10:32] {3203} INFO - iteration 39, current learner xgb_limitdepth\n",
      "/usr/local/lib/python3.9/site-packages/xgboost/sklearn.py:1395: UserWarning: `use_label_encoder` is deprecated in 1.7.0.\n",
      "  warnings.warn(\"`use_label_encoder` is deprecated in 1.7.0.\")\n",
      "[flaml.automl.automl: 01-09 03:10:32] {3387} INFO -  at 32.7s,\testimator xgb_limitdepth's best error=0.3630,\tbest estimator catboost's best error=0.3380\n",
      "[flaml.automl.automl: 01-09 03:10:32] {3203} INFO - iteration 40, current learner xgb_limitdepth\n",
      "/usr/local/lib/python3.9/site-packages/xgboost/sklearn.py:1395: UserWarning: `use_label_encoder` is deprecated in 1.7.0.\n",
      "  warnings.warn(\"`use_label_encoder` is deprecated in 1.7.0.\")\n",
      "[flaml.automl.automl: 01-09 03:10:32] {3387} INFO -  at 32.7s,\testimator xgb_limitdepth's best error=0.3623,\tbest estimator catboost's best error=0.3380\n",
      "[flaml.automl.automl: 01-09 03:10:32] {3203} INFO - iteration 41, current learner lrl1\n",
      "/home/vscode/.local/lib/python3.9/site-packages/sklearn/linear_model/_sag.py:352: ConvergenceWarning: The max_iter was reached which means the coef_ did not converge\n",
      "  warnings.warn(\n",
      "[flaml.automl.automl: 01-09 03:10:32] {3387} INFO -  at 32.9s,\testimator lrl1's best error=0.4338,\tbest estimator catboost's best error=0.3380\n",
      "[flaml.automl.automl: 01-09 03:10:32] {3203} INFO - iteration 42, current learner lrl1\n",
      "/home/vscode/.local/lib/python3.9/site-packages/sklearn/linear_model/_sag.py:352: ConvergenceWarning: The max_iter was reached which means the coef_ did not converge\n",
      "  warnings.warn(\n",
      "[flaml.automl.automl: 01-09 03:10:32] {3387} INFO -  at 33.1s,\testimator lrl1's best error=0.4338,\tbest estimator catboost's best error=0.3380\n",
      "[flaml.automl.automl: 01-09 03:10:32] {3203} INFO - iteration 43, current learner lrl1\n",
      "/home/vscode/.local/lib/python3.9/site-packages/sklearn/linear_model/_sag.py:352: ConvergenceWarning: The max_iter was reached which means the coef_ did not converge\n",
      "  warnings.warn(\n",
      "[flaml.automl.automl: 01-09 03:10:32] {3387} INFO -  at 33.3s,\testimator lrl1's best error=0.4338,\tbest estimator catboost's best error=0.3380\n",
      "[flaml.automl.automl: 01-09 03:10:32] {3203} INFO - iteration 44, current learner lrl1\n",
      "/home/vscode/.local/lib/python3.9/site-packages/sklearn/linear_model/_sag.py:352: ConvergenceWarning: The max_iter was reached which means the coef_ did not converge\n",
      "  warnings.warn(\n",
      "[flaml.automl.automl: 01-09 03:10:33] {3387} INFO -  at 34.0s,\testimator lrl1's best error=0.4334,\tbest estimator catboost's best error=0.3380\n",
      "[flaml.automl.automl: 01-09 03:10:33] {3203} INFO - iteration 45, current learner lgbm\n",
      "[flaml.automl.automl: 01-09 03:10:34] {3387} INFO -  at 35.1s,\testimator lgbm's best error=0.3528,\tbest estimator catboost's best error=0.3380\n",
      "[flaml.automl.automl: 01-09 03:10:34] {3203} INFO - iteration 46, current learner extra_tree\n",
      "[flaml.automl.automl: 01-09 03:10:34] {3387} INFO -  at 35.2s,\testimator extra_tree's best error=0.3787,\tbest estimator catboost's best error=0.3380\n",
      "[flaml.automl.automl: 01-09 03:10:34] {3203} INFO - iteration 47, current learner lrl1\n",
      "/home/vscode/.local/lib/python3.9/site-packages/sklearn/linear_model/_sag.py:352: ConvergenceWarning: The max_iter was reached which means the coef_ did not converge\n",
      "  warnings.warn(\n",
      "[flaml.automl.automl: 01-09 03:10:35] {3387} INFO -  at 35.8s,\testimator lrl1's best error=0.4334,\tbest estimator catboost's best error=0.3380\n",
      "[flaml.automl.automl: 01-09 03:10:35] {3203} INFO - iteration 48, current learner xgboost\n",
      "/usr/local/lib/python3.9/site-packages/xgboost/sklearn.py:1395: UserWarning: `use_label_encoder` is deprecated in 1.7.0.\n",
      "  warnings.warn(\"`use_label_encoder` is deprecated in 1.7.0.\")\n",
      "[flaml.automl.automl: 01-09 03:10:35] {3387} INFO -  at 36.0s,\testimator xgboost's best error=0.3699,\tbest estimator catboost's best error=0.3380\n",
      "[flaml.automl.automl: 01-09 03:10:35] {3203} INFO - iteration 49, current learner xgboost\n",
      "/usr/local/lib/python3.9/site-packages/xgboost/sklearn.py:1395: UserWarning: `use_label_encoder` is deprecated in 1.7.0.\n",
      "  warnings.warn(\"`use_label_encoder` is deprecated in 1.7.0.\")\n",
      "[flaml.automl.automl: 01-09 03:10:35] {3387} INFO -  at 36.1s,\testimator xgboost's best error=0.3596,\tbest estimator catboost's best error=0.3380\n",
      "[flaml.automl.automl: 01-09 03:10:35] {3203} INFO - iteration 50, current learner xgboost\n",
      "/usr/local/lib/python3.9/site-packages/xgboost/sklearn.py:1395: UserWarning: `use_label_encoder` is deprecated in 1.7.0.\n",
      "  warnings.warn(\"`use_label_encoder` is deprecated in 1.7.0.\")\n",
      "[flaml.automl.automl: 01-09 03:10:35] {3387} INFO -  at 36.1s,\testimator xgboost's best error=0.3596,\tbest estimator catboost's best error=0.3380\n",
      "[flaml.automl.automl: 01-09 03:10:35] {3203} INFO - iteration 51, current learner xgboost\n",
      "/usr/local/lib/python3.9/site-packages/xgboost/sklearn.py:1395: UserWarning: `use_label_encoder` is deprecated in 1.7.0.\n",
      "  warnings.warn(\"`use_label_encoder` is deprecated in 1.7.0.\")\n",
      "[flaml.automl.automl: 01-09 03:10:35] {3387} INFO -  at 36.2s,\testimator xgboost's best error=0.3596,\tbest estimator catboost's best error=0.3380\n",
      "[flaml.automl.automl: 01-09 03:10:35] {3203} INFO - iteration 52, current learner xgboost\n",
      "/usr/local/lib/python3.9/site-packages/xgboost/sklearn.py:1395: UserWarning: `use_label_encoder` is deprecated in 1.7.0.\n",
      "  warnings.warn(\"`use_label_encoder` is deprecated in 1.7.0.\")\n",
      "[flaml.automl.automl: 01-09 03:10:35] {3387} INFO -  at 36.4s,\testimator xgboost's best error=0.3586,\tbest estimator catboost's best error=0.3380\n",
      "[flaml.automl.automl: 01-09 03:10:35] {3203} INFO - iteration 53, current learner xgb_limitdepth\n",
      "/usr/local/lib/python3.9/site-packages/xgboost/sklearn.py:1395: UserWarning: `use_label_encoder` is deprecated in 1.7.0.\n",
      "  warnings.warn(\"`use_label_encoder` is deprecated in 1.7.0.\")\n",
      "[flaml.automl.automl: 01-09 03:10:35] {3387} INFO -  at 36.4s,\testimator xgb_limitdepth's best error=0.3612,\tbest estimator catboost's best error=0.3380\n",
      "[flaml.automl.automl: 01-09 03:10:35] {3203} INFO - iteration 54, current learner xgb_limitdepth\n",
      "/usr/local/lib/python3.9/site-packages/xgboost/sklearn.py:1395: UserWarning: `use_label_encoder` is deprecated in 1.7.0.\n",
      "  warnings.warn(\"`use_label_encoder` is deprecated in 1.7.0.\")\n",
      "[flaml.automl.automl: 01-09 03:10:35] {3387} INFO -  at 36.5s,\testimator xgb_limitdepth's best error=0.3612,\tbest estimator catboost's best error=0.3380\n",
      "[flaml.automl.automl: 01-09 03:10:35] {3203} INFO - iteration 55, current learner xgboost\n",
      "/usr/local/lib/python3.9/site-packages/xgboost/sklearn.py:1395: UserWarning: `use_label_encoder` is deprecated in 1.7.0.\n",
      "  warnings.warn(\"`use_label_encoder` is deprecated in 1.7.0.\")\n",
      "[flaml.automl.automl: 01-09 03:10:36] {3387} INFO -  at 36.6s,\testimator xgboost's best error=0.3577,\tbest estimator catboost's best error=0.3380\n",
      "[flaml.automl.automl: 01-09 03:10:36] {3203} INFO - iteration 56, current learner catboost\n",
      "[flaml.automl.automl: 01-09 03:10:38] {3387} INFO -  at 38.9s,\testimator catboost's best error=0.3380,\tbest estimator catboost's best error=0.3380\n",
      "[flaml.automl.automl: 01-09 03:10:38] {3203} INFO - iteration 57, current learner lgbm\n",
      "[flaml.automl.automl: 01-09 03:10:41] {3387} INFO -  at 42.4s,\testimator lgbm's best error=0.3405,\tbest estimator catboost's best error=0.3380\n",
      "[flaml.automl.automl: 01-09 03:10:41] {3203} INFO - iteration 58, current learner xgboost\n",
      "/usr/local/lib/python3.9/site-packages/xgboost/sklearn.py:1395: UserWarning: `use_label_encoder` is deprecated in 1.7.0.\n",
      "  warnings.warn(\"`use_label_encoder` is deprecated in 1.7.0.\")\n",
      "[flaml.automl.automl: 01-09 03:10:42] {3387} INFO -  at 42.6s,\testimator xgboost's best error=0.3561,\tbest estimator catboost's best error=0.3380\n",
      "[flaml.automl.automl: 01-09 03:10:42] {3203} INFO - iteration 59, current learner lgbm\n",
      "[flaml.automl.automl: 01-09 03:10:43] {3387} INFO -  at 43.8s,\testimator lgbm's best error=0.3405,\tbest estimator catboost's best error=0.3380\n",
      "[flaml.automl.automl: 01-09 03:10:43] {3203} INFO - iteration 60, current learner lgbm\n",
      "[flaml.automl.automl: 01-09 03:10:46] {3387} INFO -  at 46.8s,\testimator lgbm's best error=0.3370,\tbest estimator lgbm's best error=0.3370\n",
      "[flaml.automl.automl: 01-09 03:10:46] {3203} INFO - iteration 61, current learner xgboost\n",
      "/usr/local/lib/python3.9/site-packages/xgboost/sklearn.py:1395: UserWarning: `use_label_encoder` is deprecated in 1.7.0.\n",
      "  warnings.warn(\"`use_label_encoder` is deprecated in 1.7.0.\")\n",
      "[flaml.automl.automl: 01-09 03:10:46] {3387} INFO -  at 46.9s,\testimator xgboost's best error=0.3561,\tbest estimator lgbm's best error=0.3370\n",
      "[flaml.automl.automl: 01-09 03:10:46] {3203} INFO - iteration 62, current learner lgbm\n",
      "[flaml.automl.automl: 01-09 03:10:49] {3387} INFO -  at 50.3s,\testimator lgbm's best error=0.3370,\tbest estimator lgbm's best error=0.3370\n",
      "[flaml.automl.automl: 01-09 03:10:49] {3203} INFO - iteration 63, current learner xgboost\n",
      "/usr/local/lib/python3.9/site-packages/xgboost/sklearn.py:1395: UserWarning: `use_label_encoder` is deprecated in 1.7.0.\n",
      "  warnings.warn(\"`use_label_encoder` is deprecated in 1.7.0.\")\n",
      "[flaml.automl.automl: 01-09 03:10:50] {3387} INFO -  at 50.8s,\testimator xgboost's best error=0.3561,\tbest estimator lgbm's best error=0.3370\n",
      "[flaml.automl.automl: 01-09 03:10:50] {3203} INFO - iteration 64, current learner lgbm\n",
      "[flaml.automl.automl: 01-09 03:10:53] {3387} INFO -  at 53.6s,\testimator lgbm's best error=0.3370,\tbest estimator lgbm's best error=0.3370\n",
      "[flaml.automl.automl: 01-09 03:10:53] {3203} INFO - iteration 65, current learner xgboost\n",
      "/usr/local/lib/python3.9/site-packages/xgboost/sklearn.py:1395: UserWarning: `use_label_encoder` is deprecated in 1.7.0.\n",
      "  warnings.warn(\"`use_label_encoder` is deprecated in 1.7.0.\")\n",
      "[flaml.automl.automl: 01-09 03:10:53] {3387} INFO -  at 53.9s,\testimator xgboost's best error=0.3561,\tbest estimator lgbm's best error=0.3370\n",
      "[flaml.automl.automl: 01-09 03:10:53] {3203} INFO - iteration 66, current learner xgb_limitdepth\n",
      "/usr/local/lib/python3.9/site-packages/xgboost/sklearn.py:1395: UserWarning: `use_label_encoder` is deprecated in 1.7.0.\n",
      "  warnings.warn(\"`use_label_encoder` is deprecated in 1.7.0.\")\n",
      "[flaml.automl.automl: 01-09 03:10:53] {3387} INFO -  at 54.0s,\testimator xgb_limitdepth's best error=0.3612,\tbest estimator lgbm's best error=0.3370\n",
      "[flaml.automl.automl: 01-09 03:10:53] {3203} INFO - iteration 67, current learner lgbm\n",
      "[flaml.automl.automl: 01-09 03:10:57] {3387} INFO -  at 57.9s,\testimator lgbm's best error=0.3318,\tbest estimator lgbm's best error=0.3318\n",
      "[flaml.automl.automl: 01-09 03:10:57] {3203} INFO - iteration 68, current learner catboost\n",
      "[flaml.automl.automl: 01-09 03:11:42] {3387} INFO -  at 103.2s,\testimator catboost's best error=0.3380,\tbest estimator lgbm's best error=0.3318\n",
      "[flaml.automl.automl: 01-09 03:11:42] {3203} INFO - iteration 69, current learner xgb_limitdepth\n",
      "/usr/local/lib/python3.9/site-packages/xgboost/sklearn.py:1395: UserWarning: `use_label_encoder` is deprecated in 1.7.0.\n",
      "  warnings.warn(\"`use_label_encoder` is deprecated in 1.7.0.\")\n",
      "[flaml.automl.automl: 01-09 03:11:42] {3387} INFO -  at 103.3s,\testimator xgb_limitdepth's best error=0.3598,\tbest estimator lgbm's best error=0.3318\n",
      "[flaml.automl.automl: 01-09 03:11:42] {3203} INFO - iteration 70, current learner xgboost\n",
      "/usr/local/lib/python3.9/site-packages/xgboost/sklearn.py:1395: UserWarning: `use_label_encoder` is deprecated in 1.7.0.\n",
      "  warnings.warn(\"`use_label_encoder` is deprecated in 1.7.0.\")\n",
      "[flaml.automl.automl: 01-09 03:11:43] {3387} INFO -  at 104.1s,\testimator xgboost's best error=0.3555,\tbest estimator lgbm's best error=0.3318\n",
      "[flaml.automl.automl: 01-09 03:11:43] {3203} INFO - iteration 71, current learner lgbm\n",
      "[flaml.automl.automl: 01-09 03:11:46] {3387} INFO -  at 107.2s,\testimator lgbm's best error=0.3282,\tbest estimator lgbm's best error=0.3282\n",
      "[flaml.automl.automl: 01-09 03:11:46] {3203} INFO - iteration 72, current learner lgbm\n",
      "[flaml.automl.automl: 01-09 03:11:50] {3387} INFO -  at 111.0s,\testimator lgbm's best error=0.3282,\tbest estimator lgbm's best error=0.3282\n",
      "[flaml.automl.automl: 01-09 03:11:50] {3203} INFO - iteration 73, current learner catboost\n",
      "[flaml.automl.automl: 01-09 03:12:36] {3387} INFO -  at 156.6s,\testimator catboost's best error=0.3380,\tbest estimator lgbm's best error=0.3282\n",
      "[flaml.automl.automl: 01-09 03:12:36] {3203} INFO - iteration 74, current learner lgbm\n",
      "[flaml.automl.automl: 01-09 03:12:39] {3387} INFO -  at 160.0s,\testimator lgbm's best error=0.3282,\tbest estimator lgbm's best error=0.3282\n",
      "[flaml.automl.automl: 01-09 03:12:39] {3203} INFO - iteration 75, current learner xgb_limitdepth\n",
      "/usr/local/lib/python3.9/site-packages/xgboost/sklearn.py:1395: UserWarning: `use_label_encoder` is deprecated in 1.7.0.\n",
      "  warnings.warn(\"`use_label_encoder` is deprecated in 1.7.0.\")\n",
      "[flaml.automl.automl: 01-09 03:12:39] {3387} INFO -  at 160.1s,\testimator xgb_limitdepth's best error=0.3598,\tbest estimator lgbm's best error=0.3282\n",
      "[flaml.automl.automl: 01-09 03:12:39] {3203} INFO - iteration 76, current learner catboost\n",
      "[flaml.automl.automl: 01-09 03:12:40] {3387} INFO -  at 161.2s,\testimator catboost's best error=0.3380,\tbest estimator lgbm's best error=0.3282\n",
      "[flaml.automl.automl: 01-09 03:12:40] {3203} INFO - iteration 77, current learner xgb_limitdepth\n",
      "/usr/local/lib/python3.9/site-packages/xgboost/sklearn.py:1395: UserWarning: `use_label_encoder` is deprecated in 1.7.0.\n",
      "  warnings.warn(\"`use_label_encoder` is deprecated in 1.7.0.\")\n",
      "[flaml.automl.automl: 01-09 03:12:40] {3387} INFO -  at 161.3s,\testimator xgb_limitdepth's best error=0.3598,\tbest estimator lgbm's best error=0.3282\n",
      "[flaml.automl.automl: 01-09 03:12:40] {3203} INFO - iteration 78, current learner lgbm\n",
      "[flaml.automl.automl: 01-09 03:12:44] {3387} INFO -  at 165.3s,\testimator lgbm's best error=0.3282,\tbest estimator lgbm's best error=0.3282\n",
      "[flaml.automl.automl: 01-09 03:12:44] {3203} INFO - iteration 79, current learner lgbm\n",
      "[flaml.automl.automl: 01-09 03:12:48] {3387} INFO -  at 169.0s,\testimator lgbm's best error=0.3282,\tbest estimator lgbm's best error=0.3282\n",
      "[flaml.automl.automl: 01-09 03:12:48] {3203} INFO - iteration 80, current learner xgb_limitdepth\n",
      "/usr/local/lib/python3.9/site-packages/xgboost/sklearn.py:1395: UserWarning: `use_label_encoder` is deprecated in 1.7.0.\n",
      "  warnings.warn(\"`use_label_encoder` is deprecated in 1.7.0.\")\n",
      "[flaml.automl.automl: 01-09 03:12:48] {3387} INFO -  at 169.1s,\testimator xgb_limitdepth's best error=0.3598,\tbest estimator lgbm's best error=0.3282\n",
      "[flaml.automl.automl: 01-09 03:12:48] {3203} INFO - iteration 81, current learner lgbm\n",
      "[flaml.automl.automl: 01-09 03:12:51] {3387} INFO -  at 172.2s,\testimator lgbm's best error=0.3282,\tbest estimator lgbm's best error=0.3282\n",
      "[flaml.automl.automl: 01-09 03:12:51] {3203} INFO - iteration 82, current learner lgbm\n",
      "[flaml.automl.automl: 01-09 03:12:54] {3387} INFO -  at 174.6s,\testimator lgbm's best error=0.3282,\tbest estimator lgbm's best error=0.3282\n",
      "[flaml.automl.automl: 01-09 03:12:54] {3203} INFO - iteration 83, current learner xgb_limitdepth\n",
      "/usr/local/lib/python3.9/site-packages/xgboost/sklearn.py:1395: UserWarning: `use_label_encoder` is deprecated in 1.7.0.\n",
      "  warnings.warn(\"`use_label_encoder` is deprecated in 1.7.0.\")\n",
      "[flaml.automl.automl: 01-09 03:12:54] {3387} INFO -  at 174.7s,\testimator xgb_limitdepth's best error=0.3598,\tbest estimator lgbm's best error=0.3282\n",
      "[flaml.automl.automl: 01-09 03:12:54] {3203} INFO - iteration 84, current learner lgbm\n",
      "[flaml.automl.automl: 01-09 03:13:00] {3387} INFO -  at 181.0s,\testimator lgbm's best error=0.3282,\tbest estimator lgbm's best error=0.3282\n",
      "[flaml.automl.automl: 01-09 03:13:00] {3203} INFO - iteration 85, current learner xgb_limitdepth\n",
      "/usr/local/lib/python3.9/site-packages/xgboost/sklearn.py:1395: UserWarning: `use_label_encoder` is deprecated in 1.7.0.\n",
      "  warnings.warn(\"`use_label_encoder` is deprecated in 1.7.0.\")\n",
      "[flaml.automl.automl: 01-09 03:13:00] {3387} INFO -  at 181.1s,\testimator xgb_limitdepth's best error=0.3528,\tbest estimator lgbm's best error=0.3282\n",
      "[flaml.automl.automl: 01-09 03:13:00] {3203} INFO - iteration 86, current learner xgb_limitdepth\n",
      "/usr/local/lib/python3.9/site-packages/xgboost/sklearn.py:1395: UserWarning: `use_label_encoder` is deprecated in 1.7.0.\n",
      "  warnings.warn(\"`use_label_encoder` is deprecated in 1.7.0.\")\n",
      "[flaml.automl.automl: 01-09 03:13:00] {3387} INFO -  at 181.2s,\testimator xgb_limitdepth's best error=0.3528,\tbest estimator lgbm's best error=0.3282\n",
      "[flaml.automl.automl: 01-09 03:13:00] {3203} INFO - iteration 87, current learner xgb_limitdepth\n",
      "/usr/local/lib/python3.9/site-packages/xgboost/sklearn.py:1395: UserWarning: `use_label_encoder` is deprecated in 1.7.0.\n",
      "  warnings.warn(\"`use_label_encoder` is deprecated in 1.7.0.\")\n",
      "[flaml.automl.automl: 01-09 03:13:00] {3387} INFO -  at 181.3s,\testimator xgb_limitdepth's best error=0.3528,\tbest estimator lgbm's best error=0.3282\n",
      "[flaml.automl.automl: 01-09 03:13:00] {3203} INFO - iteration 88, current learner xgb_limitdepth\n",
      "/usr/local/lib/python3.9/site-packages/xgboost/sklearn.py:1395: UserWarning: `use_label_encoder` is deprecated in 1.7.0.\n",
      "  warnings.warn(\"`use_label_encoder` is deprecated in 1.7.0.\")\n",
      "[flaml.automl.automl: 01-09 03:13:00] {3387} INFO -  at 181.4s,\testimator xgb_limitdepth's best error=0.3528,\tbest estimator lgbm's best error=0.3282\n",
      "[flaml.automl.automl: 01-09 03:13:00] {3203} INFO - iteration 89, current learner xgb_limitdepth\n",
      "/usr/local/lib/python3.9/site-packages/xgboost/sklearn.py:1395: UserWarning: `use_label_encoder` is deprecated in 1.7.0.\n",
      "  warnings.warn(\"`use_label_encoder` is deprecated in 1.7.0.\")\n",
      "[flaml.automl.automl: 01-09 03:13:00] {3387} INFO -  at 181.5s,\testimator xgb_limitdepth's best error=0.3528,\tbest estimator lgbm's best error=0.3282\n",
      "[flaml.automl.automl: 01-09 03:13:00] {3203} INFO - iteration 90, current learner xgb_limitdepth\n",
      "/usr/local/lib/python3.9/site-packages/xgboost/sklearn.py:1395: UserWarning: `use_label_encoder` is deprecated in 1.7.0.\n",
      "  warnings.warn(\"`use_label_encoder` is deprecated in 1.7.0.\")\n",
      "[flaml.automl.automl: 01-09 03:13:01] {3387} INFO -  at 181.7s,\testimator xgb_limitdepth's best error=0.3528,\tbest estimator lgbm's best error=0.3282\n",
      "[flaml.automl.automl: 01-09 03:13:01] {3203} INFO - iteration 91, current learner xgboost\n",
      "/usr/local/lib/python3.9/site-packages/xgboost/sklearn.py:1395: UserWarning: `use_label_encoder` is deprecated in 1.7.0.\n",
      "  warnings.warn(\"`use_label_encoder` is deprecated in 1.7.0.\")\n",
      "[flaml.automl.automl: 01-09 03:13:01] {3387} INFO -  at 181.9s,\testimator xgboost's best error=0.3555,\tbest estimator lgbm's best error=0.3282\n",
      "[flaml.automl.automl: 01-09 03:13:01] {3203} INFO - iteration 92, current learner xgb_limitdepth\n",
      "/usr/local/lib/python3.9/site-packages/xgboost/sklearn.py:1395: UserWarning: `use_label_encoder` is deprecated in 1.7.0.\n",
      "  warnings.warn(\"`use_label_encoder` is deprecated in 1.7.0.\")\n",
      "[flaml.automl.automl: 01-09 03:13:01] {3387} INFO -  at 182.4s,\testimator xgb_limitdepth's best error=0.3508,\tbest estimator lgbm's best error=0.3282\n",
      "[flaml.automl.automl: 01-09 03:13:01] {3203} INFO - iteration 93, current learner rf\n",
      "[flaml.automl.automl: 01-09 03:13:01] {3387} INFO -  at 182.5s,\testimator rf's best error=0.3781,\tbest estimator lgbm's best error=0.3282\n",
      "[flaml.automl.automl: 01-09 03:13:01] {3203} INFO - iteration 94, current learner xgb_limitdepth\n",
      "/usr/local/lib/python3.9/site-packages/xgboost/sklearn.py:1395: UserWarning: `use_label_encoder` is deprecated in 1.7.0.\n",
      "  warnings.warn(\"`use_label_encoder` is deprecated in 1.7.0.\")\n",
      "[flaml.automl.automl: 01-09 03:13:02] {3387} INFO -  at 183.1s,\testimator xgb_limitdepth's best error=0.3488,\tbest estimator lgbm's best error=0.3282\n",
      "[flaml.automl.automl: 01-09 03:13:02] {3203} INFO - iteration 95, current learner xgb_limitdepth\n",
      "/usr/local/lib/python3.9/site-packages/xgboost/sklearn.py:1395: UserWarning: `use_label_encoder` is deprecated in 1.7.0.\n",
      "  warnings.warn(\"`use_label_encoder` is deprecated in 1.7.0.\")\n",
      "[flaml.automl.automl: 01-09 03:13:03] {3387} INFO -  at 183.6s,\testimator xgb_limitdepth's best error=0.3488,\tbest estimator lgbm's best error=0.3282\n",
      "[flaml.automl.automl: 01-09 03:13:03] {3203} INFO - iteration 96, current learner rf\n",
      "[flaml.automl.automl: 01-09 03:13:03] {3387} INFO -  at 183.7s,\testimator rf's best error=0.3781,\tbest estimator lgbm's best error=0.3282\n",
      "[flaml.automl.automl: 01-09 03:13:03] {3203} INFO - iteration 97, current learner lgbm\n",
      "[flaml.automl.automl: 01-09 03:13:16] {3387} INFO -  at 197.3s,\testimator lgbm's best error=0.3282,\tbest estimator lgbm's best error=0.3282\n",
      "[flaml.automl.automl: 01-09 03:13:16] {3203} INFO - iteration 98, current learner xgb_limitdepth\n",
      "/usr/local/lib/python3.9/site-packages/xgboost/sklearn.py:1395: UserWarning: `use_label_encoder` is deprecated in 1.7.0.\n",
      "  warnings.warn(\"`use_label_encoder` is deprecated in 1.7.0.\")\n",
      "[flaml.automl.automl: 01-09 03:13:17] {3387} INFO -  at 198.1s,\testimator xgb_limitdepth's best error=0.3443,\tbest estimator lgbm's best error=0.3282\n",
      "[flaml.automl.automl: 01-09 03:13:17] {3203} INFO - iteration 99, current learner extra_tree\n",
      "[flaml.automl.automl: 01-09 03:13:17] {3387} INFO -  at 198.2s,\testimator extra_tree's best error=0.3787,\tbest estimator lgbm's best error=0.3282\n",
      "[flaml.automl.automl: 01-09 03:13:17] {3203} INFO - iteration 100, current learner xgb_limitdepth\n",
      "/usr/local/lib/python3.9/site-packages/xgboost/sklearn.py:1395: UserWarning: `use_label_encoder` is deprecated in 1.7.0.\n",
      "  warnings.warn(\"`use_label_encoder` is deprecated in 1.7.0.\")\n",
      "[flaml.automl.automl: 01-09 03:13:18] {3387} INFO -  at 198.8s,\testimator xgb_limitdepth's best error=0.3443,\tbest estimator lgbm's best error=0.3282\n",
      "[flaml.automl.automl: 01-09 03:13:18] {3203} INFO - iteration 101, current learner rf\n",
      "[flaml.automl.automl: 01-09 03:13:18] {3387} INFO -  at 198.9s,\testimator rf's best error=0.3725,\tbest estimator lgbm's best error=0.3282\n",
      "[flaml.automl.automl: 01-09 03:13:18] {3203} INFO - iteration 102, current learner rf\n",
      "[flaml.automl.automl: 01-09 03:13:18] {3387} INFO -  at 198.9s,\testimator rf's best error=0.3725,\tbest estimator lgbm's best error=0.3282\n",
      "[flaml.automl.automl: 01-09 03:13:18] {3203} INFO - iteration 103, current learner xgb_limitdepth\n",
      "/usr/local/lib/python3.9/site-packages/xgboost/sklearn.py:1395: UserWarning: `use_label_encoder` is deprecated in 1.7.0.\n",
      "  warnings.warn(\"`use_label_encoder` is deprecated in 1.7.0.\")\n",
      "[flaml.automl.automl: 01-09 03:13:19] {3387} INFO -  at 199.8s,\testimator xgb_limitdepth's best error=0.3443,\tbest estimator lgbm's best error=0.3282\n",
      "[flaml.automl.automl: 01-09 03:13:19] {3203} INFO - iteration 104, current learner rf\n",
      "[flaml.automl.automl: 01-09 03:13:19] {3387} INFO -  at 199.9s,\testimator rf's best error=0.3725,\tbest estimator lgbm's best error=0.3282\n",
      "[flaml.automl.automl: 01-09 03:13:19] {3203} INFO - iteration 105, current learner lgbm\n",
      "[flaml.automl.automl: 01-09 03:13:20] {3387} INFO -  at 201.2s,\testimator lgbm's best error=0.3282,\tbest estimator lgbm's best error=0.3282\n",
      "[flaml.automl.automl: 01-09 03:13:20] {3203} INFO - iteration 106, current learner rf\n",
      "[flaml.automl.automl: 01-09 03:13:20] {3387} INFO -  at 201.2s,\testimator rf's best error=0.3706,\tbest estimator lgbm's best error=0.3282\n",
      "[flaml.automl.automl: 01-09 03:13:20] {3203} INFO - iteration 107, current learner rf\n",
      "[flaml.automl.automl: 01-09 03:13:20] {3387} INFO -  at 201.3s,\testimator rf's best error=0.3706,\tbest estimator lgbm's best error=0.3282\n",
      "[flaml.automl.automl: 01-09 03:13:20] {3203} INFO - iteration 108, current learner rf\n",
      "[flaml.automl.automl: 01-09 03:13:20] {3387} INFO -  at 201.4s,\testimator rf's best error=0.3706,\tbest estimator lgbm's best error=0.3282\n",
      "[flaml.automl.automl: 01-09 03:13:20] {3203} INFO - iteration 109, current learner xgb_limitdepth\n",
      "/usr/local/lib/python3.9/site-packages/xgboost/sklearn.py:1395: UserWarning: `use_label_encoder` is deprecated in 1.7.0.\n",
      "  warnings.warn(\"`use_label_encoder` is deprecated in 1.7.0.\")\n",
      "[flaml.automl.automl: 01-09 03:13:21] {3387} INFO -  at 202.2s,\testimator xgb_limitdepth's best error=0.3443,\tbest estimator lgbm's best error=0.3282\n",
      "[flaml.automl.automl: 01-09 03:13:21] {3203} INFO - iteration 110, current learner rf\n",
      "[flaml.automl.automl: 01-09 03:13:21] {3387} INFO -  at 202.3s,\testimator rf's best error=0.3706,\tbest estimator lgbm's best error=0.3282\n",
      "[flaml.automl.automl: 01-09 03:13:21] {3203} INFO - iteration 111, current learner xgb_limitdepth\n",
      "/usr/local/lib/python3.9/site-packages/xgboost/sklearn.py:1395: UserWarning: `use_label_encoder` is deprecated in 1.7.0.\n",
      "  warnings.warn(\"`use_label_encoder` is deprecated in 1.7.0.\")\n",
      "[flaml.automl.automl: 01-09 03:13:22] {3387} INFO -  at 202.9s,\testimator xgb_limitdepth's best error=0.3443,\tbest estimator lgbm's best error=0.3282\n",
      "[flaml.automl.automl: 01-09 03:13:22] {3203} INFO - iteration 112, current learner catboost\n",
      "[flaml.automl.automl: 01-09 03:13:22] {3387} INFO -  at 203.5s,\testimator catboost's best error=0.3380,\tbest estimator lgbm's best error=0.3282\n",
      "[flaml.automl.automl: 01-09 03:13:22] {3203} INFO - iteration 113, current learner lgbm\n",
      "[flaml.automl.automl: 01-09 03:13:43] {3387} INFO -  at 224.2s,\testimator lgbm's best error=0.3282,\tbest estimator lgbm's best error=0.3282\n",
      "[flaml.automl.automl: 01-09 03:13:43] {3203} INFO - iteration 114, current learner xgb_limitdepth\n",
      "/usr/local/lib/python3.9/site-packages/xgboost/sklearn.py:1395: UserWarning: `use_label_encoder` is deprecated in 1.7.0.\n",
      "  warnings.warn(\"`use_label_encoder` is deprecated in 1.7.0.\")\n",
      "[flaml.automl.automl: 01-09 03:13:44] {3387} INFO -  at 225.4s,\testimator xgb_limitdepth's best error=0.3443,\tbest estimator lgbm's best error=0.3282\n",
      "[flaml.automl.automl: 01-09 03:13:44] {3203} INFO - iteration 115, current learner xgboost\n",
      "/usr/local/lib/python3.9/site-packages/xgboost/sklearn.py:1395: UserWarning: `use_label_encoder` is deprecated in 1.7.0.\n",
      "  warnings.warn(\"`use_label_encoder` is deprecated in 1.7.0.\")\n",
      "[flaml.automl.automl: 01-09 03:13:45] {3387} INFO -  at 225.8s,\testimator xgboost's best error=0.3530,\tbest estimator lgbm's best error=0.3282\n",
      "[flaml.automl.automl: 01-09 03:13:45] {3203} INFO - iteration 116, current learner xgb_limitdepth\n",
      "/usr/local/lib/python3.9/site-packages/xgboost/sklearn.py:1395: UserWarning: `use_label_encoder` is deprecated in 1.7.0.\n",
      "  warnings.warn(\"`use_label_encoder` is deprecated in 1.7.0.\")\n",
      "[flaml.automl.automl: 01-09 03:13:46] {3387} INFO -  at 226.8s,\testimator xgb_limitdepth's best error=0.3443,\tbest estimator lgbm's best error=0.3282\n",
      "[flaml.automl.automl: 01-09 03:13:46] {3203} INFO - iteration 117, current learner rf\n",
      "[flaml.automl.automl: 01-09 03:13:46] {3387} INFO -  at 226.9s,\testimator rf's best error=0.3706,\tbest estimator lgbm's best error=0.3282\n",
      "[flaml.automl.automl: 01-09 03:13:46] {3203} INFO - iteration 118, current learner rf\n",
      "[flaml.automl.automl: 01-09 03:13:46] {3387} INFO -  at 227.0s,\testimator rf's best error=0.3706,\tbest estimator lgbm's best error=0.3282\n",
      "[flaml.automl.automl: 01-09 03:13:46] {3203} INFO - iteration 119, current learner xgb_limitdepth\n",
      "/usr/local/lib/python3.9/site-packages/xgboost/sklearn.py:1395: UserWarning: `use_label_encoder` is deprecated in 1.7.0.\n",
      "  warnings.warn(\"`use_label_encoder` is deprecated in 1.7.0.\")\n",
      "[flaml.automl.automl: 01-09 03:13:47] {3387} INFO -  at 227.6s,\testimator xgb_limitdepth's best error=0.3443,\tbest estimator lgbm's best error=0.3282\n",
      "[flaml.automl.automl: 01-09 03:13:47] {3203} INFO - iteration 120, current learner xgboost\n",
      "/usr/local/lib/python3.9/site-packages/xgboost/sklearn.py:1395: UserWarning: `use_label_encoder` is deprecated in 1.7.0.\n",
      "  warnings.warn(\"`use_label_encoder` is deprecated in 1.7.0.\")\n",
      "[flaml.automl.automl: 01-09 03:13:47] {3387} INFO -  at 228.2s,\testimator xgboost's best error=0.3494,\tbest estimator lgbm's best error=0.3282\n",
      "[flaml.automl.automl: 01-09 03:13:47] {3203} INFO - iteration 121, current learner lgbm\n",
      "[flaml.automl.automl: 01-09 03:13:48] {3387} INFO -  at 229.3s,\testimator lgbm's best error=0.3282,\tbest estimator lgbm's best error=0.3282\n",
      "[flaml.automl.automl: 01-09 03:13:48] {3203} INFO - iteration 122, current learner xgboost\n",
      "/usr/local/lib/python3.9/site-packages/xgboost/sklearn.py:1395: UserWarning: `use_label_encoder` is deprecated in 1.7.0.\n",
      "  warnings.warn(\"`use_label_encoder` is deprecated in 1.7.0.\")\n",
      "[flaml.automl.automl: 01-09 03:13:49] {3387} INFO -  at 229.6s,\testimator xgboost's best error=0.3494,\tbest estimator lgbm's best error=0.3282\n",
      "[flaml.automl.automl: 01-09 03:13:49] {3203} INFO - iteration 123, current learner xgboost\n",
      "/usr/local/lib/python3.9/site-packages/xgboost/sklearn.py:1395: UserWarning: `use_label_encoder` is deprecated in 1.7.0.\n",
      "  warnings.warn(\"`use_label_encoder` is deprecated in 1.7.0.\")\n",
      "[flaml.automl.automl: 01-09 03:13:49] {3387} INFO -  at 230.3s,\testimator xgboost's best error=0.3494,\tbest estimator lgbm's best error=0.3282\n",
      "[flaml.automl.automl: 01-09 03:13:49] {3203} INFO - iteration 124, current learner xgb_limitdepth\n",
      "/usr/local/lib/python3.9/site-packages/xgboost/sklearn.py:1395: UserWarning: `use_label_encoder` is deprecated in 1.7.0.\n",
      "  warnings.warn(\"`use_label_encoder` is deprecated in 1.7.0.\")\n",
      "[flaml.automl.automl: 01-09 03:13:50] {3387} INFO -  at 230.9s,\testimator xgb_limitdepth's best error=0.3443,\tbest estimator lgbm's best error=0.3282\n",
      "[flaml.automl.automl: 01-09 03:13:50] {3203} INFO - iteration 125, current learner xgboost\n",
      "/usr/local/lib/python3.9/site-packages/xgboost/sklearn.py:1395: UserWarning: `use_label_encoder` is deprecated in 1.7.0.\n",
      "  warnings.warn(\"`use_label_encoder` is deprecated in 1.7.0.\")\n",
      "[flaml.automl.automl: 01-09 03:13:50] {3387} INFO -  at 231.5s,\testimator xgboost's best error=0.3494,\tbest estimator lgbm's best error=0.3282\n",
      "[flaml.automl.automl: 01-09 03:13:50] {3203} INFO - iteration 126, current learner lgbm\n",
      "[flaml.automl.automl: 01-09 03:13:54] {3387} INFO -  at 235.3s,\testimator lgbm's best error=0.3282,\tbest estimator lgbm's best error=0.3282\n",
      "[flaml.automl.automl: 01-09 03:13:54] {3203} INFO - iteration 127, current learner lgbm\n",
      "[flaml.automl.automl: 01-09 03:13:57] {3387} INFO -  at 238.3s,\testimator lgbm's best error=0.3282,\tbest estimator lgbm's best error=0.3282\n",
      "[flaml.automl.automl: 01-09 03:13:57] {3203} INFO - iteration 128, current learner lgbm\n",
      "[flaml.automl.automl: 01-09 03:14:01] {3387} INFO -  at 241.6s,\testimator lgbm's best error=0.3274,\tbest estimator lgbm's best error=0.3274\n",
      "[flaml.automl.automl: 01-09 03:14:01] {3203} INFO - iteration 129, current learner lgbm\n",
      "[flaml.automl.automl: 01-09 03:14:04] {3387} INFO -  at 244.8s,\testimator lgbm's best error=0.3274,\tbest estimator lgbm's best error=0.3274\n",
      "[flaml.automl.automl: 01-09 03:14:04] {3203} INFO - iteration 130, current learner rf\n",
      "[flaml.automl.automl: 01-09 03:14:04] {3387} INFO -  at 244.9s,\testimator rf's best error=0.3678,\tbest estimator lgbm's best error=0.3274\n",
      "[flaml.automl.automl: 01-09 03:14:04] {3203} INFO - iteration 131, current learner extra_tree\n",
      "[flaml.automl.automl: 01-09 03:14:04] {3387} INFO -  at 245.0s,\testimator extra_tree's best error=0.3787,\tbest estimator lgbm's best error=0.3274\n",
      "[flaml.automl.automl: 01-09 03:14:04] {3203} INFO - iteration 132, current learner rf\n",
      "[flaml.automl.automl: 01-09 03:14:04] {3387} INFO -  at 245.1s,\testimator rf's best error=0.3678,\tbest estimator lgbm's best error=0.3274\n",
      "[flaml.automl.automl: 01-09 03:14:04] {3203} INFO - iteration 133, current learner catboost\n",
      "[flaml.automl.automl: 01-09 03:14:05] {3387} INFO -  at 246.0s,\testimator catboost's best error=0.3380,\tbest estimator lgbm's best error=0.3274\n",
      "[flaml.automl.automl: 01-09 03:14:05] {3203} INFO - iteration 134, current learner xgboost\n",
      "/usr/local/lib/python3.9/site-packages/xgboost/sklearn.py:1395: UserWarning: `use_label_encoder` is deprecated in 1.7.0.\n",
      "  warnings.warn(\"`use_label_encoder` is deprecated in 1.7.0.\")\n",
      "[flaml.automl.automl: 01-09 03:14:07] {3387} INFO -  at 248.1s,\testimator xgboost's best error=0.3490,\tbest estimator lgbm's best error=0.3274\n",
      "[flaml.automl.automl: 01-09 03:14:07] {3203} INFO - iteration 135, current learner lgbm\n",
      "[flaml.automl.automl: 01-09 03:14:09] {3387} INFO -  at 250.2s,\testimator lgbm's best error=0.3274,\tbest estimator lgbm's best error=0.3274\n",
      "[flaml.automl.automl: 01-09 03:14:09] {3203} INFO - iteration 136, current learner rf\n",
      "[flaml.automl.automl: 01-09 03:14:09] {3387} INFO -  at 250.4s,\testimator rf's best error=0.3617,\tbest estimator lgbm's best error=0.3274\n",
      "[flaml.automl.automl: 01-09 03:14:09] {3203} INFO - iteration 137, current learner rf\n",
      "[flaml.automl.automl: 01-09 03:14:10] {3387} INFO -  at 250.6s,\testimator rf's best error=0.3593,\tbest estimator lgbm's best error=0.3274\n",
      "[flaml.automl.automl: 01-09 03:14:10] {3203} INFO - iteration 138, current learner xgb_limitdepth\n",
      "/usr/local/lib/python3.9/site-packages/xgboost/sklearn.py:1395: UserWarning: `use_label_encoder` is deprecated in 1.7.0.\n",
      "  warnings.warn(\"`use_label_encoder` is deprecated in 1.7.0.\")\n",
      "[flaml.automl.automl: 01-09 03:14:11] {3387} INFO -  at 251.6s,\testimator xgb_limitdepth's best error=0.3432,\tbest estimator lgbm's best error=0.3274\n",
      "[flaml.automl.automl: 01-09 03:14:11] {3203} INFO - iteration 139, current learner rf\n",
      "[flaml.automl.automl: 01-09 03:14:11] {3387} INFO -  at 251.8s,\testimator rf's best error=0.3593,\tbest estimator lgbm's best error=0.3274\n",
      "[flaml.automl.automl: 01-09 03:14:11] {3203} INFO - iteration 140, current learner lgbm\n",
      "[flaml.automl.automl: 01-09 03:14:21] {3387} INFO -  at 261.5s,\testimator lgbm's best error=0.3268,\tbest estimator lgbm's best error=0.3268\n",
      "[flaml.automl.automl: 01-09 03:14:21] {3203} INFO - iteration 141, current learner rf\n",
      "[flaml.automl.automl: 01-09 03:14:21] {3387} INFO -  at 261.7s,\testimator rf's best error=0.3593,\tbest estimator lgbm's best error=0.3268\n",
      "[flaml.automl.automl: 01-09 03:14:21] {3203} INFO - iteration 142, current learner lgbm\n",
      "[flaml.automl.automl: 01-09 03:14:25] {3387} INFO -  at 266.3s,\testimator lgbm's best error=0.3268,\tbest estimator lgbm's best error=0.3268\n",
      "[flaml.automl.automl: 01-09 03:14:25] {3203} INFO - iteration 143, current learner rf\n",
      "[flaml.automl.automl: 01-09 03:14:25] {3387} INFO -  at 266.4s,\testimator rf's best error=0.3593,\tbest estimator lgbm's best error=0.3268\n",
      "[flaml.automl.automl: 01-09 03:14:25] {3203} INFO - iteration 144, current learner lgbm\n",
      "[flaml.automl.automl: 01-09 03:14:37] {3387} INFO -  at 277.7s,\testimator lgbm's best error=0.3250,\tbest estimator lgbm's best error=0.3250\n",
      "[flaml.automl.automl: 01-09 03:14:37] {3203} INFO - iteration 145, current learner rf\n",
      "[flaml.automl.automl: 01-09 03:14:37] {3387} INFO -  at 277.9s,\testimator rf's best error=0.3593,\tbest estimator lgbm's best error=0.3250\n",
      "[flaml.automl.automl: 01-09 03:14:37] {3203} INFO - iteration 146, current learner rf\n",
      "[flaml.automl.automl: 01-09 03:14:37] {3387} INFO -  at 278.1s,\testimator rf's best error=0.3565,\tbest estimator lgbm's best error=0.3250\n",
      "[flaml.automl.automl: 01-09 03:14:37] {3203} INFO - iteration 147, current learner rf\n",
      "[flaml.automl.automl: 01-09 03:14:37] {3387} INFO -  at 278.2s,\testimator rf's best error=0.3565,\tbest estimator lgbm's best error=0.3250\n",
      "[flaml.automl.automl: 01-09 03:14:37] {3203} INFO - iteration 148, current learner lgbm\n",
      "[flaml.automl.automl: 01-09 03:14:44] {3387} INFO -  at 284.8s,\testimator lgbm's best error=0.3250,\tbest estimator lgbm's best error=0.3250\n",
      "[flaml.automl.automl: 01-09 03:14:44] {3203} INFO - iteration 149, current learner lgbm\n",
      "[flaml.automl.automl: 01-09 03:15:11] {3387} INFO -  at 311.6s,\testimator lgbm's best error=0.3250,\tbest estimator lgbm's best error=0.3250\n",
      "[flaml.automl.automl: 01-09 03:15:11] {3203} INFO - iteration 150, current learner lgbm\n",
      "[flaml.automl.automl: 01-09 03:15:25] {3387} INFO -  at 326.1s,\testimator lgbm's best error=0.3250,\tbest estimator lgbm's best error=0.3250\n",
      "[flaml.automl.automl: 01-09 03:15:25] {3203} INFO - iteration 151, current learner lgbm\n",
      "[flaml.automl.automl: 01-09 03:15:36] {3387} INFO -  at 337.0s,\testimator lgbm's best error=0.3250,\tbest estimator lgbm's best error=0.3250\n",
      "[flaml.automl.automl: 01-09 03:15:36] {3203} INFO - iteration 152, current learner lgbm\n",
      "[flaml.automl.automl: 01-09 03:15:43] {3387} INFO -  at 344.1s,\testimator lgbm's best error=0.3250,\tbest estimator lgbm's best error=0.3250\n",
      "[flaml.automl.automl: 01-09 03:15:43] {3203} INFO - iteration 153, current learner rf\n",
      "[flaml.automl.automl: 01-09 03:15:43] {3387} INFO -  at 344.3s,\testimator rf's best error=0.3565,\tbest estimator lgbm's best error=0.3250\n",
      "[flaml.automl.automl: 01-09 03:15:43] {3203} INFO - iteration 154, current learner rf\n",
      "[flaml.automl.automl: 01-09 03:15:44] {3387} INFO -  at 344.6s,\testimator rf's best error=0.3512,\tbest estimator lgbm's best error=0.3250\n",
      "[flaml.automl.automl: 01-09 03:15:44] {3203} INFO - iteration 155, current learner rf\n",
      "[flaml.automl.automl: 01-09 03:15:44] {3387} INFO -  at 344.7s,\testimator rf's best error=0.3512,\tbest estimator lgbm's best error=0.3250\n",
      "[flaml.automl.automl: 01-09 03:15:44] {3203} INFO - iteration 156, current learner lgbm\n",
      "[flaml.automl.automl: 01-09 03:15:58] {3387} INFO -  at 359.3s,\testimator lgbm's best error=0.3250,\tbest estimator lgbm's best error=0.3250\n",
      "[flaml.automl.automl: 01-09 03:15:58] {3203} INFO - iteration 157, current learner lgbm\n",
      "[flaml.automl.automl: 01-09 03:16:00] {3387} INFO -  at 361.5s,\testimator lgbm's best error=0.3250,\tbest estimator lgbm's best error=0.3250\n",
      "[flaml.automl.automl: 01-09 03:16:00] {3203} INFO - iteration 158, current learner extra_tree\n",
      "[flaml.automl.automl: 01-09 03:16:01] {3387} INFO -  at 361.6s,\testimator extra_tree's best error=0.3787,\tbest estimator lgbm's best error=0.3250\n",
      "[flaml.automl.automl: 01-09 03:16:01] {3203} INFO - iteration 159, current learner rf\n",
      "[flaml.automl.automl: 01-09 03:16:01] {3387} INFO -  at 362.0s,\testimator rf's best error=0.3512,\tbest estimator lgbm's best error=0.3250\n",
      "[flaml.automl.automl: 01-09 03:16:01] {3203} INFO - iteration 160, current learner rf\n",
      "[flaml.automl.automl: 01-09 03:16:01] {3387} INFO -  at 362.2s,\testimator rf's best error=0.3512,\tbest estimator lgbm's best error=0.3250\n",
      "[flaml.automl.automl: 01-09 03:16:01] {3203} INFO - iteration 161, current learner rf\n",
      "[flaml.automl.automl: 01-09 03:16:02] {3387} INFO -  at 362.6s,\testimator rf's best error=0.3512,\tbest estimator lgbm's best error=0.3250\n",
      "[flaml.automl.automl: 01-09 03:16:02] {3203} INFO - iteration 162, current learner rf\n",
      "[flaml.automl.automl: 01-09 03:16:03] {3387} INFO -  at 364.1s,\testimator rf's best error=0.3436,\tbest estimator lgbm's best error=0.3250\n",
      "[flaml.automl.automl: 01-09 03:16:03] {3203} INFO - iteration 163, current learner rf\n",
      "[flaml.automl.automl: 01-09 03:16:06] {3387} INFO -  at 366.7s,\testimator rf's best error=0.3436,\tbest estimator lgbm's best error=0.3250\n",
      "[flaml.automl.automl: 01-09 03:16:06] {3203} INFO - iteration 164, current learner rf\n",
      "[flaml.automl.automl: 01-09 03:16:07] {3387} INFO -  at 367.8s,\testimator rf's best error=0.3412,\tbest estimator lgbm's best error=0.3250\n",
      "[flaml.automl.automl: 01-09 03:16:07] {3203} INFO - iteration 165, current learner xgb_limitdepth\n",
      "/usr/local/lib/python3.9/site-packages/xgboost/sklearn.py:1395: UserWarning: `use_label_encoder` is deprecated in 1.7.0.\n",
      "  warnings.warn(\"`use_label_encoder` is deprecated in 1.7.0.\")\n",
      "[flaml.automl.automl: 01-09 03:16:08] {3387} INFO -  at 368.8s,\testimator xgb_limitdepth's best error=0.3432,\tbest estimator lgbm's best error=0.3250\n",
      "[flaml.automl.automl: 01-09 03:16:08] {3203} INFO - iteration 166, current learner xgboost\n",
      "/usr/local/lib/python3.9/site-packages/xgboost/sklearn.py:1395: UserWarning: `use_label_encoder` is deprecated in 1.7.0.\n",
      "  warnings.warn(\"`use_label_encoder` is deprecated in 1.7.0.\")\n",
      "[flaml.automl.automl: 01-09 03:16:10] {3387} INFO -  at 370.6s,\testimator xgboost's best error=0.3490,\tbest estimator lgbm's best error=0.3250\n",
      "[flaml.automl.automl: 01-09 03:16:10] {3203} INFO - iteration 167, current learner lgbm\n",
      "[flaml.automl.automl: 01-09 03:17:02] {3387} INFO -  at 422.8s,\testimator lgbm's best error=0.3250,\tbest estimator lgbm's best error=0.3250\n",
      "[flaml.automl.automl: 01-09 03:17:02] {3203} INFO - iteration 168, current learner rf\n",
      "[flaml.automl.automl: 01-09 03:17:04] {3387} INFO -  at 424.5s,\testimator rf's best error=0.3348,\tbest estimator lgbm's best error=0.3250\n",
      "[flaml.automl.automl: 01-09 03:17:04] {3203} INFO - iteration 169, current learner rf\n",
      "[flaml.automl.automl: 01-09 03:17:05] {3387} INFO -  at 425.7s,\testimator rf's best error=0.3348,\tbest estimator lgbm's best error=0.3250\n",
      "[flaml.automl.automl: 01-09 03:17:05] {3203} INFO - iteration 170, current learner rf\n",
      "[flaml.automl.automl: 01-09 03:17:07] {3387} INFO -  at 427.7s,\testimator rf's best error=0.3345,\tbest estimator lgbm's best error=0.3250\n",
      "[flaml.automl.automl: 01-09 03:17:07] {3203} INFO - iteration 171, current learner lgbm\n",
      "[flaml.automl.automl: 01-09 03:18:48] {3387} INFO -  at 528.7s,\testimator lgbm's best error=0.3250,\tbest estimator lgbm's best error=0.3250\n",
      "[flaml.automl.automl: 01-09 03:18:48] {3203} INFO - iteration 172, current learner lgbm\n",
      "[flaml.automl.automl: 01-09 03:18:49] {3387} INFO -  at 530.5s,\testimator lgbm's best error=0.3250,\tbest estimator lgbm's best error=0.3250\n",
      "[flaml.automl.automl: 01-09 03:18:49] {3203} INFO - iteration 173, current learner lgbm\n",
      "[flaml.automl.automl: 01-09 03:18:52] {3387} INFO -  at 532.8s,\testimator lgbm's best error=0.3250,\tbest estimator lgbm's best error=0.3250\n",
      "[flaml.automl.automl: 01-09 03:18:52] {3203} INFO - iteration 174, current learner rf\n",
      "[flaml.automl.automl: 01-09 03:18:54] {3387} INFO -  at 534.5s,\testimator rf's best error=0.3345,\tbest estimator lgbm's best error=0.3250\n",
      "[flaml.automl.automl: 01-09 03:18:54] {3203} INFO - iteration 175, current learner xgboost\n",
      "/usr/local/lib/python3.9/site-packages/xgboost/sklearn.py:1395: UserWarning: `use_label_encoder` is deprecated in 1.7.0.\n",
      "  warnings.warn(\"`use_label_encoder` is deprecated in 1.7.0.\")\n",
      "[flaml.automl.automl: 01-09 03:18:56] {3387} INFO -  at 536.9s,\testimator xgboost's best error=0.3490,\tbest estimator lgbm's best error=0.3250\n",
      "[flaml.automl.automl: 01-09 03:18:56] {3203} INFO - iteration 176, current learner catboost\n",
      "[flaml.automl.automl: 01-09 03:18:59] {3387} INFO -  at 540.5s,\testimator catboost's best error=0.3380,\tbest estimator lgbm's best error=0.3250\n",
      "[flaml.automl.automl: 01-09 03:18:59] {3203} INFO - iteration 177, current learner rf\n",
      "[flaml.automl.automl: 01-09 03:19:01] {3387} INFO -  at 541.9s,\testimator rf's best error=0.3345,\tbest estimator lgbm's best error=0.3250\n",
      "[flaml.automl.automl: 01-09 03:19:01] {3203} INFO - iteration 178, current learner xgb_limitdepth\n",
      "/usr/local/lib/python3.9/site-packages/xgboost/sklearn.py:1395: UserWarning: `use_label_encoder` is deprecated in 1.7.0.\n",
      "  warnings.warn(\"`use_label_encoder` is deprecated in 1.7.0.\")\n",
      "[flaml.automl.automl: 01-09 03:19:02] {3387} INFO -  at 543.4s,\testimator xgb_limitdepth's best error=0.3432,\tbest estimator lgbm's best error=0.3250\n",
      "[flaml.automl.automl: 01-09 03:19:02] {3203} INFO - iteration 179, current learner catboost\n",
      "[flaml.automl.automl: 01-09 03:19:05] {3387} INFO -  at 545.6s,\testimator catboost's best error=0.3380,\tbest estimator lgbm's best error=0.3250\n",
      "[flaml.automl.automl: 01-09 03:19:05] {3203} INFO - iteration 180, current learner rf\n",
      "[flaml.automl.automl: 01-09 03:19:08] {3387} INFO -  at 548.7s,\testimator rf's best error=0.3321,\tbest estimator lgbm's best error=0.3250\n",
      "[flaml.automl.automl: 01-09 03:19:08] {3203} INFO - iteration 181, current learner rf\n",
      "[flaml.automl.automl: 01-09 03:19:10] {3387} INFO -  at 551.5s,\testimator rf's best error=0.3321,\tbest estimator lgbm's best error=0.3250\n",
      "[flaml.automl.automl: 01-09 03:19:10] {3203} INFO - iteration 182, current learner catboost\n",
      "[flaml.automl.automl: 01-09 03:19:15] {3387} INFO -  at 556.3s,\testimator catboost's best error=0.3380,\tbest estimator lgbm's best error=0.3250\n",
      "[flaml.automl.automl: 01-09 03:19:15] {3203} INFO - iteration 183, current learner rf\n",
      "[flaml.automl.automl: 01-09 03:19:19] {3387} INFO -  at 559.7s,\testimator rf's best error=0.3321,\tbest estimator lgbm's best error=0.3250\n",
      "[flaml.automl.automl: 01-09 03:19:19] {3203} INFO - iteration 184, current learner rf\n",
      "[flaml.automl.automl: 01-09 03:19:21] {3387} INFO -  at 562.3s,\testimator rf's best error=0.3321,\tbest estimator lgbm's best error=0.3250\n",
      "[flaml.automl.automl: 01-09 03:19:21] {3203} INFO - iteration 185, current learner lgbm\n",
      "[flaml.automl.automl: 01-09 03:20:11] {3387} INFO -  at 612.0s,\testimator lgbm's best error=0.3250,\tbest estimator lgbm's best error=0.3250\n",
      "[flaml.automl.automl: 01-09 03:20:21] {3647} INFO - retrain lgbm for 9.8s\n",
      "[flaml.automl.automl: 01-09 03:20:21] {3654} INFO - retrained model: LGBMClassifier(colsample_bytree=0.763983850698587,\n",
      "               learning_rate=0.08749366799403727, max_bin=127,\n",
      "               min_child_samples=128, n_estimators=302, num_leaves=466,\n",
      "               reg_alpha=0.09968008477303378, reg_lambda=23.22741934331899,\n",
      "               verbose=-1)\n",
      "[flaml.automl.automl: 01-09 03:20:21] {2932} INFO - fit succeeded\n",
      "[flaml.automl.automl: 01-09 03:20:21] {2933} INFO - Time taken to find the best model: 277.739089012146\n"
     ]
    }
   ],
   "source": [
    "'''The main flaml automl API'''\n",
    "automl.fit(X_train=X_train, y_train=y_train, **settings)"
   ]
  },
  {
   "cell_type": "markdown",
   "metadata": {
    "slideshow": {
     "slide_type": "slide"
    }
   },
   "source": [
    "### Best model and metric"
   ]
  },
  {
   "cell_type": "code",
   "execution_count": 6,
   "metadata": {
    "slideshow": {
     "slide_type": "slide"
    },
    "tags": []
   },
   "outputs": [
    {
     "name": "stdout",
     "output_type": "stream",
     "text": [
      "Best ML leaner: lgbm\n",
      "Best hyperparmeter config: {'n_estimators': 302, 'num_leaves': 466, 'min_child_samples': 128, 'learning_rate': 0.08749366799403727, 'log_max_bin': 7, 'colsample_bytree': 0.763983850698587, 'reg_alpha': 0.09968008477303378, 'reg_lambda': 23.22741934331899, 'FLAML_sample_size': 364083}\n",
      "Best accuracy on validation data: 0.675\n",
      "Training duration of best run: 9.817 s\n"
     ]
    }
   ],
   "source": [
    "'''retrieve best config and best learner'''\n",
    "print('Best ML leaner:', automl.best_estimator)\n",
    "print('Best hyperparmeter config:', automl.best_config)\n",
    "print('Best accuracy on validation data: {0:.4g}'.format(1-automl.best_loss))\n",
    "print('Training duration of best run: {0:.4g} s'.format(automl.best_config_train_time))"
   ]
  },
  {
   "cell_type": "code",
   "execution_count": 7,
   "metadata": {
    "slideshow": {
     "slide_type": "slide"
    }
   },
   "outputs": [
    {
     "data": {
      "text/plain": [
       "LGBMClassifier(colsample_bytree=0.763983850698587,\n",
       "               learning_rate=0.08749366799403727, max_bin=127,\n",
       "               min_child_samples=128, n_estimators=302, num_leaves=466,\n",
       "               reg_alpha=0.09968008477303378, reg_lambda=23.22741934331899,\n",
       "               verbose=-1)"
      ]
     },
     "execution_count": 7,
     "metadata": {},
     "output_type": "execute_result"
    }
   ],
   "source": [
    "automl.model.estimator"
   ]
  },
  {
   "cell_type": "code",
   "execution_count": 8,
   "metadata": {
    "slideshow": {
     "slide_type": "slide"
    }
   },
   "outputs": [],
   "source": [
    "'''pickle and save the automl object'''\n",
    "import pickle\n",
    "\n",
    "with open('automl.pkl', 'wb') as f:\n",
    "    pickle.dump(automl, f, pickle.HIGHEST_PROTOCOL)\n",
    "'''load pickled automl object'''\n",
    "with open('automl.pkl', 'rb') as f:\n",
    "    automl = pickle.load(f)"
   ]
  },
  {
   "cell_type": "code",
   "execution_count": 9,
   "metadata": {
    "slideshow": {
     "slide_type": "slide"
    },
    "tags": []
   },
   "outputs": [
    {
     "name": "stdout",
     "output_type": "stream",
     "text": [
      "Predicted labels ['1' '0' '1' ... '1' '0' '0']\n",
      "True labels 118331    0\n",
      "328182    0\n",
      "335454    0\n",
      "520591    1\n",
      "344651    0\n",
      "         ..\n",
      "367080    0\n",
      "203510    1\n",
      "254894    0\n",
      "296512    1\n",
      "362444    0\n",
      "Name: Delay, Length: 134846, dtype: category\n",
      "Categories (2, object): ['0' < '1']\n"
     ]
    }
   ],
   "source": [
    "'''compute predictions of testing dataset''' \n",
    "y_pred = automl.predict(X_test)\n",
    "print('Predicted labels', y_pred)\n",
    "print('True labels', y_test)\n",
    "y_pred_proba = automl.predict_proba(X_test)[:,1]"
   ]
  },
  {
   "cell_type": "code",
   "execution_count": 10,
   "metadata": {
    "slideshow": {
     "slide_type": "slide"
    },
    "tags": []
   },
   "outputs": [
    {
     "name": "stdout",
     "output_type": "stream",
     "text": [
      "accuracy = 0.6732939797991784\n",
      "roc_auc = 0.7276250346550404\n",
      "log_loss = 0.6014655432027879\n"
     ]
    }
   ],
   "source": [
    "''' compute different metric values on testing dataset'''\n",
    "from flaml.ml import sklearn_metric_loss_score\n",
    "\n",
    "print('accuracy', '=', 1 - sklearn_metric_loss_score('accuracy', y_pred, y_test))\n",
    "print('roc_auc', '=', 1 - sklearn_metric_loss_score('roc_auc', y_pred_proba, y_test))\n",
    "print('log_loss', '=', sklearn_metric_loss_score('log_loss', y_pred_proba, y_test))"
   ]
  },
  {
   "cell_type": "markdown",
   "metadata": {
    "slideshow": {
     "slide_type": "slide"
    }
   },
   "source": [
    "See Section 4 for an accuracy comparison with default LightGBM and XGBoost.\n",
    "\n",
    "### Log history"
   ]
  },
  {
   "cell_type": "code",
   "execution_count": 11,
   "metadata": {
    "slideshow": {
     "slide_type": "subslide"
    },
    "tags": []
   },
   "outputs": [
    {
     "name": "stdout",
     "output_type": "stream",
     "text": [
      "{'Current Learner': 'lgbm', 'Current Sample': 10000, 'Current Hyper-parameters': {'n_estimators': 4, 'num_leaves': 4, 'min_child_samples': 20, 'learning_rate': 0.09999999999999995, 'log_max_bin': 8, 'colsample_bytree': 1.0, 'reg_alpha': 0.0009765625, 'reg_lambda': 1.0, 'FLAML_sample_size': 10000}, 'Best Learner': 'lgbm', 'Best Hyper-parameters': {'n_estimators': 4, 'num_leaves': 4, 'min_child_samples': 20, 'learning_rate': 0.09999999999999995, 'log_max_bin': 8, 'colsample_bytree': 1.0, 'reg_alpha': 0.0009765625, 'reg_lambda': 1.0, 'FLAML_sample_size': 10000}}\n",
      "{'Current Learner': 'lgbm', 'Current Sample': 10000, 'Current Hyper-parameters': {'n_estimators': 26, 'num_leaves': 4, 'min_child_samples': 18, 'learning_rate': 0.2293009676418639, 'log_max_bin': 9, 'colsample_bytree': 0.9086551727646448, 'reg_alpha': 0.0015561782752413472, 'reg_lambda': 0.33127416269768944, 'FLAML_sample_size': 10000}, 'Best Learner': 'lgbm', 'Best Hyper-parameters': {'n_estimators': 26, 'num_leaves': 4, 'min_child_samples': 18, 'learning_rate': 0.2293009676418639, 'log_max_bin': 9, 'colsample_bytree': 0.9086551727646448, 'reg_alpha': 0.0015561782752413472, 'reg_lambda': 0.33127416269768944, 'FLAML_sample_size': 10000}}\n",
      "{'Current Learner': 'lgbm', 'Current Sample': 40000, 'Current Hyper-parameters': {'n_estimators': 55, 'num_leaves': 4, 'min_child_samples': 20, 'learning_rate': 0.43653962213332903, 'log_max_bin': 10, 'colsample_bytree': 0.8048558760626646, 'reg_alpha': 0.0009765625, 'reg_lambda': 0.23010605579846408, 'FLAML_sample_size': 40000}, 'Best Learner': 'lgbm', 'Best Hyper-parameters': {'n_estimators': 55, 'num_leaves': 4, 'min_child_samples': 20, 'learning_rate': 0.43653962213332903, 'log_max_bin': 10, 'colsample_bytree': 0.8048558760626646, 'reg_alpha': 0.0009765625, 'reg_lambda': 0.23010605579846408, 'FLAML_sample_size': 40000}}\n",
      "{'Current Learner': 'lgbm', 'Current Sample': 40000, 'Current Hyper-parameters': {'n_estimators': 90, 'num_leaves': 18, 'min_child_samples': 34, 'learning_rate': 0.35726266205297247, 'log_max_bin': 10, 'colsample_bytree': 0.9295656128173544, 'reg_alpha': 0.0009765625, 'reg_lambda': 0.1981463604305675, 'FLAML_sample_size': 40000}, 'Best Learner': 'lgbm', 'Best Hyper-parameters': {'n_estimators': 90, 'num_leaves': 18, 'min_child_samples': 34, 'learning_rate': 0.35726266205297247, 'log_max_bin': 10, 'colsample_bytree': 0.9295656128173544, 'reg_alpha': 0.0009765625, 'reg_lambda': 0.1981463604305675, 'FLAML_sample_size': 40000}}\n",
      "{'Current Learner': 'lgbm', 'Current Sample': 40000, 'Current Hyper-parameters': {'n_estimators': 56, 'num_leaves': 7, 'min_child_samples': 92, 'learning_rate': 0.23536463281405448, 'log_max_bin': 10, 'colsample_bytree': 0.9898009552962395, 'reg_alpha': 0.0009765625, 'reg_lambda': 0.14329426172643311, 'FLAML_sample_size': 40000}, 'Best Learner': 'lgbm', 'Best Hyper-parameters': {'n_estimators': 56, 'num_leaves': 7, 'min_child_samples': 92, 'learning_rate': 0.23536463281405448, 'log_max_bin': 10, 'colsample_bytree': 0.9898009552962395, 'reg_alpha': 0.0009765625, 'reg_lambda': 0.14329426172643311, 'FLAML_sample_size': 40000}}\n",
      "{'Current Learner': 'catboost', 'Current Sample': 40000, 'Current Hyper-parameters': {'early_stopping_rounds': 10, 'learning_rate': 0.09999999999999996, 'n_estimators': 198, 'FLAML_sample_size': 40000}, 'Best Learner': 'catboost', 'Best Hyper-parameters': {'early_stopping_rounds': 10, 'learning_rate': 0.09999999999999996, 'n_estimators': 198, 'FLAML_sample_size': 40000}}\n",
      "{'Current Learner': 'catboost', 'Current Sample': 364083, 'Current Hyper-parameters': {'early_stopping_rounds': 10, 'learning_rate': 0.09999999999999996, 'n_estimators': 109, 'FLAML_sample_size': 364083}, 'Best Learner': 'catboost', 'Best Hyper-parameters': {'early_stopping_rounds': 10, 'learning_rate': 0.09999999999999996, 'n_estimators': 109, 'FLAML_sample_size': 364083}}\n",
      "{'Current Learner': 'lgbm', 'Current Sample': 364083, 'Current Hyper-parameters': {'n_estimators': 180, 'num_leaves': 31, 'min_child_samples': 112, 'learning_rate': 0.14172261747380896, 'log_max_bin': 8, 'colsample_bytree': 0.9882716197099741, 'reg_alpha': 0.004676080321450302, 'reg_lambda': 2.704862827036818, 'FLAML_sample_size': 364083}, 'Best Learner': 'lgbm', 'Best Hyper-parameters': {'n_estimators': 180, 'num_leaves': 31, 'min_child_samples': 112, 'learning_rate': 0.14172261747380896, 'log_max_bin': 8, 'colsample_bytree': 0.9882716197099741, 'reg_alpha': 0.004676080321450302, 'reg_lambda': 2.704862827036818, 'FLAML_sample_size': 364083}}\n",
      "{'Current Learner': 'lgbm', 'Current Sample': 364083, 'Current Hyper-parameters': {'n_estimators': 284, 'num_leaves': 24, 'min_child_samples': 57, 'learning_rate': 0.34506374431782694, 'log_max_bin': 8, 'colsample_bytree': 0.9661606582789269, 'reg_alpha': 0.05708594148438563, 'reg_lambda': 3.0806435484123478, 'FLAML_sample_size': 364083}, 'Best Learner': 'lgbm', 'Best Hyper-parameters': {'n_estimators': 284, 'num_leaves': 24, 'min_child_samples': 57, 'learning_rate': 0.34506374431782694, 'log_max_bin': 8, 'colsample_bytree': 0.9661606582789269, 'reg_alpha': 0.05708594148438563, 'reg_lambda': 3.0806435484123478, 'FLAML_sample_size': 364083}}\n",
      "{'Current Learner': 'lgbm', 'Current Sample': 364083, 'Current Hyper-parameters': {'n_estimators': 150, 'num_leaves': 176, 'min_child_samples': 62, 'learning_rate': 0.2607939951456869, 'log_max_bin': 8, 'colsample_bytree': 1.0, 'reg_alpha': 0.015973158305354472, 'reg_lambda': 1.1581244082992255, 'FLAML_sample_size': 364083}, 'Best Learner': 'lgbm', 'Best Hyper-parameters': {'n_estimators': 150, 'num_leaves': 176, 'min_child_samples': 62, 'learning_rate': 0.2607939951456869, 'log_max_bin': 8, 'colsample_bytree': 1.0, 'reg_alpha': 0.015973158305354472, 'reg_lambda': 1.1581244082992255, 'FLAML_sample_size': 364083}}\n"
     ]
    }
   ],
   "source": [
    "from flaml.data import get_output_from_log\n",
    "\n",
    "time_history, best_valid_loss_history, valid_loss_history, config_history, metric_history = \\\n",
    "    get_output_from_log(filename=settings['log_file_name'], time_budget=240)\n",
    "for config in config_history:\n",
    "    print(config)"
   ]
  },
  {
   "cell_type": "code",
   "execution_count": 12,
   "metadata": {
    "slideshow": {
     "slide_type": "slide"
    }
   },
   "outputs": [
    {
     "data": {
      "image/png": "[encoded data removed]",
      "text/plain": [
       "<Figure size 640x480 with 1 Axes>"
      ]
     },
     "metadata": {},
     "output_type": "display_data"
    }
   ],
   "source": [
    "import matplotlib.pyplot as plt\n",
    "import numpy as np\n",
    "\n",
    "plt.title('Learning Curve')\n",
    "plt.xlabel('Wall Clock Time (s)')\n",
    "plt.ylabel('Validation Accuracy')\n",
    "plt.scatter(time_history, 1 - np.array(valid_loss_history))\n",
    "plt.step(time_history, 1 - np.array(best_valid_loss_history), where='post')\n",
    "plt.show()"
   ]
  },
  {
   "cell_type": "markdown",
   "metadata": {},
   "source": [
    "## 3. Comparison with alternatives\n"
   ]
  },
  {
   "cell_type": "markdown",
   "metadata": {},
   "source": [
    "### Default LightGBM"
   ]
  },
  {
   "cell_type": "code",
   "execution_count": 13,
   "metadata": {},
   "outputs": [],
   "source": [
    "from lightgbm import LGBMClassifier\n",
    "\n",
    "lgbm = LGBMClassifier()"
   ]
  },
  {
   "cell_type": "code",
   "execution_count": 14,
   "metadata": {},
   "outputs": [
    {
     "data": {
      "text/plain": [
       "LGBMClassifier()"
      ]
     },
     "execution_count": 14,
     "metadata": {},
     "output_type": "execute_result"
    }
   ],
   "source": [
    "lgbm.fit(X_train, y_train)"
   ]
  },
  {
   "cell_type": "code",
   "execution_count": 15,
   "metadata": {},
   "outputs": [],
   "source": [
    "y_pred_lgbm = lgbm.predict(X_test)"
   ]
  },
  {
   "cell_type": "markdown",
   "metadata": {},
   "source": [
    "### Default XGBoost"
   ]
  },
  {
   "cell_type": "code",
   "execution_count": 23,
   "metadata": {},
   "outputs": [],
   "source": [
    "from xgboost import XGBClassifier\n",
    "\n",
    "xgb = XGBClassifier()\n",
    "cat_columns = X_train.select_dtypes(include=['category']).columns\n",
    "X = X_train.copy()\n",
    "X[cat_columns] = X[cat_columns].apply(lambda x: x.cat.codes)\n",
    "y_train = y_train.astype('int')\n",
    "y_test_xgb = y_test.astype('int')"
   ]
  },
  {
   "cell_type": "code",
   "execution_count": 24,
   "metadata": {},
   "outputs": [
    {
     "data": {
      "text/plain": [
       "XGBClassifier(base_score=None, booster=None, callbacks=None,\n",
       "              colsample_bylevel=None, colsample_bynode=None,\n",
       "              colsample_bytree=None, early_stopping_rounds=None,\n",
       "              enable_categorical=False, eval_metric=None, feature_types=None,\n",
       "              gamma=None, gpu_id=None, grow_policy=None, importance_type=None,\n",
       "              interaction_constraints=None, learning_rate=None, max_bin=None,\n",
       "              max_cat_threshold=None, max_cat_to_onehot=None,\n",
       "              max_delta_step=None, max_depth=None, max_leaves=None,\n",
       "              min_child_weight=None, missing=nan, monotone_constraints=None,\n",
       "              n_estimators=100, n_jobs=None, num_parallel_tree=None,\n",
       "              predictor=None, random_state=None, ...)"
      ]
     },
     "execution_count": 24,
     "metadata": {},
     "output_type": "execute_result"
    }
   ],
   "source": [
    "xgb.fit(X, y_train)"
   ]
  },
  {
   "cell_type": "code",
   "execution_count": 25,
   "metadata": {},
   "outputs": [],
   "source": [
    "X = X_test.copy()\n",
    "X[cat_columns] = X[cat_columns].apply(lambda x: x.cat.codes)\n",
    "y_pred_xgb = xgb.predict(X)\n"
   ]
  },
  {
   "cell_type": "code",
   "execution_count": 26,
   "metadata": {},
   "outputs": [
    {
     "name": "stdout",
     "output_type": "stream",
     "text": [
      "default xgboost accuracy = 0.6676060098186078\n",
      "default lgbm accuracy = 0.6602346380315323\n",
      "flaml (10 min) accuracy = 0.6732939797991784\n"
     ]
    }
   ],
   "source": [
    "print('default xgboost accuracy', '=', 1 - sklearn_metric_loss_score('accuracy', y_pred_xgb, y_test_xgb))\n",
    "print('default lgbm accuracy', '=', 1 - sklearn_metric_loss_score('accuracy', y_pred_lgbm, y_test))\n",
    "print('flaml (10 min) accuracy', '=', 1 - sklearn_metric_loss_score('accuracy', y_pred, y_test))"
   ]
  }
 ],
 "metadata": {
  "kernelspec": {
   "display_name": "Python 3.9.15 64-bit",
   "language": "python",
   "name": "python3"
  },
  "language_info": {
   "codemirror_mode": {
    "name": "ipython",
    "version": 3
   },
   "file_extension": ".py",
   "mimetype": "text/x-python",
   "name": "python",
   "nbconvert_exporter": "python",
   "pygments_lexer": "ipython3",
   "version": "3.8.12"
  },
  "vscode": {
   "interpreter": {
    "hash": "949777d72b0d2535278d3dc13498b2535136f6dfe0678499012e853ee9abcab1"
   }
  }
 },
 "nbformat": 4,
 "nbformat_minor": 2
}
